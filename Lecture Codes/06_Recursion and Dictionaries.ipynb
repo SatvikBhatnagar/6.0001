{
 "cells": [
  {
   "metadata": {
    "ExecuteTime": {
     "end_time": "2025-02-28T13:22:21.330618Z",
     "start_time": "2025-02-28T13:22:21.326682Z"
    }
   },
   "cell_type": "code",
   "source": [
    "#####################################\n",
    "# EXAMPLE:  factorial\n",
    "#####################################"
   ],
   "id": "8b3fdb032fb5747",
   "outputs": [],
   "execution_count": 40
  },
  {
   "metadata": {
    "ExecuteTime": {
     "end_time": "2025-02-28T13:22:21.596664Z",
     "start_time": "2025-02-28T13:22:21.373737Z"
    }
   },
   "cell_type": "code",
   "source": [
    "def fact(n):\n",
    "    \"\"\"assumes n an int >= 0\n",
    "       returns factorial of n\"\"\"\n",
    "    if n == 0:\n",
    "        return 1\n",
    "    else:\n",
    "        return n * fact(n-1)"
   ],
   "id": "787cbec30bf03882",
   "outputs": [],
   "execution_count": 41
  },
  {
   "metadata": {
    "ExecuteTime": {
     "end_time": "2025-02-28T13:22:22.152503Z",
     "start_time": "2025-02-28T13:22:21.614373Z"
    }
   },
   "cell_type": "code",
   "source": "print(fact(50))",
   "id": "2be2b365f1368ce3",
   "outputs": [
    {
     "name": "stdout",
     "output_type": "stream",
     "text": [
      "30414093201713378043612608166064768844377641568960512000000000000\n"
     ]
    }
   ],
   "execution_count": 42
  },
  {
   "metadata": {
    "ExecuteTime": {
     "end_time": "2025-02-28T13:22:22.615950Z",
     "start_time": "2025-02-28T13:22:22.167108Z"
    }
   },
   "cell_type": "code",
   "source": [
    "#####################################\n",
    "# EXAMPLE:  Towers of Hanoi\n",
    "#####################################"
   ],
   "id": "bb5934b4897c7b88",
   "outputs": [],
   "execution_count": 43
  },
  {
   "metadata": {
    "ExecuteTime": {
     "end_time": "2025-02-28T13:22:22.925720Z",
     "start_time": "2025-02-28T13:22:22.809136Z"
    }
   },
   "cell_type": "code",
   "source": [
    "def printMove(fr, to):\n",
    "    print('move from ' + str(fr) + ' to ' + str(to))\n",
    "\n",
    "def Towers(n, fr, to, spare):\n",
    "    if n == 1:\n",
    "        printMove(fr, to)\n",
    "    else:\n",
    "        Towers(n-1, fr, spare, to)\n",
    "        Towers(1, fr, to, spare)\n",
    "        Towers(n-1, spare, to, fr)\n",
    "\n",
    "print(Towers(4, 'P1', 'P2', 'P3'))"
   ],
   "id": "b1cf1a37c1525eab",
   "outputs": [
    {
     "name": "stdout",
     "output_type": "stream",
     "text": [
      "move from P1 to P3\n",
      "move from P1 to P2\n",
      "move from P3 to P2\n",
      "move from P1 to P3\n",
      "move from P2 to P1\n",
      "move from P2 to P3\n",
      "move from P1 to P3\n",
      "move from P1 to P2\n",
      "move from P3 to P2\n",
      "move from P3 to P1\n",
      "move from P2 to P1\n",
      "move from P3 to P2\n",
      "move from P1 to P3\n",
      "move from P1 to P2\n",
      "move from P3 to P2\n",
      "None\n"
     ]
    }
   ],
   "execution_count": 44
  },
  {
   "metadata": {
    "ExecuteTime": {
     "end_time": "2025-02-28T13:22:23.262314Z",
     "start_time": "2025-02-28T13:22:22.962668Z"
    }
   },
   "cell_type": "code",
   "source": [
    "#####################################\n",
    "# EXAMPLE:  fibonacci\n",
    "#####################################"
   ],
   "id": "a5a4d83af55c9e3e",
   "outputs": [],
   "execution_count": 45
  },
  {
   "metadata": {
    "ExecuteTime": {
     "end_time": "2025-02-28T13:22:23.451965Z",
     "start_time": "2025-02-28T13:22:23.294709Z"
    }
   },
   "cell_type": "code",
   "source": [
    "def fib(x):\n",
    "    \"\"\"assumes x an int >= 0\n",
    "       returns Fibonacci of x\"\"\"\n",
    "    if x == 0 or x == 1:\n",
    "        return 1\n",
    "    else:\n",
    "        return fib(x-1) + fib(x-2)"
   ],
   "id": "fb6eed2b6ac94df1",
   "outputs": [],
   "execution_count": 46
  },
  {
   "metadata": {
    "ExecuteTime": {
     "end_time": "2025-02-28T13:22:23.711866Z",
     "start_time": "2025-02-28T13:22:23.486377Z"
    }
   },
   "cell_type": "code",
   "source": "fib(12)",
   "id": "30bcc5141e262631",
   "outputs": [
    {
     "data": {
      "text/plain": [
       "233"
      ]
     },
     "execution_count": 47,
     "metadata": {},
     "output_type": "execute_result"
    }
   ],
   "execution_count": 47
  },
  {
   "metadata": {
    "ExecuteTime": {
     "end_time": "2025-02-28T13:22:23.920861Z",
     "start_time": "2025-02-28T13:22:23.718715Z"
    }
   },
   "cell_type": "code",
   "source": [
    "#####################################\n",
    "# EXAMPLE:  testing for palindromes\n",
    "#####################################"
   ],
   "id": "5f272d97aa66368",
   "outputs": [],
   "execution_count": 48
  },
  {
   "metadata": {
    "ExecuteTime": {
     "end_time": "2025-02-28T13:22:24.149803Z",
     "start_time": "2025-02-28T13:22:23.948762Z"
    }
   },
   "cell_type": "code",
   "source": [
    "def isPalindrome(s):\n",
    "\n",
    "    def toChars(s):\n",
    "        s = s.lower()\n",
    "        ans = ''\n",
    "        for c in s:\n",
    "            if c in 'abcdefghijklmnopqrstuvwxyz':\n",
    "                ans = ans + c\n",
    "        return ans\n",
    "\n",
    "    def isPal(s):\n",
    "        if len(s) <= 1:\n",
    "            return True\n",
    "        else:\n",
    "            return s[0] == s[-1] and isPal(s[1:-1])\n",
    "\n",
    "    return isPal(toChars(s))"
   ],
   "id": "173c993409f5f014",
   "outputs": [],
   "execution_count": 49
  },
  {
   "metadata": {
    "ExecuteTime": {
     "end_time": "2025-02-28T13:22:24.384281Z",
     "start_time": "2025-02-28T13:22:24.165765Z"
    }
   },
   "cell_type": "code",
   "source": "isPalindrome('Are we not pure? “No, sir!” Panama’s moody Noriega brags. “It is garbage!” Irony dooms a man—a prisoner up to new era.')",
   "id": "5ef9be97653a1107",
   "outputs": [
    {
     "data": {
      "text/plain": [
       "True"
      ]
     },
     "execution_count": 50,
     "metadata": {},
     "output_type": "execute_result"
    }
   ],
   "execution_count": 50
  },
  {
   "metadata": {
    "ExecuteTime": {
     "end_time": "2025-02-28T13:22:24.597432Z",
     "start_time": "2025-02-28T13:22:24.419856Z"
    }
   },
   "cell_type": "code",
   "source": [
    "print(isPalindrome('eve'))\n",
    "\n",
    "print(isPalindrome('Able was I, ere I saw Elba'))\n",
    "\n",
    "print(isPalindrome('Is this a palindrome'))"
   ],
   "id": "3f90d914218266d",
   "outputs": [
    {
     "name": "stdout",
     "output_type": "stream",
     "text": [
      "True\n",
      "True\n",
      "False\n"
     ]
    }
   ],
   "execution_count": 51
  },
  {
   "metadata": {
    "ExecuteTime": {
     "end_time": "2025-02-28T13:22:24.816771Z",
     "start_time": "2025-02-28T13:22:24.621227Z"
    }
   },
   "cell_type": "code",
   "source": [
    "#####################################\n",
    "# EXAMPLE: using dictionaries\n",
    "#          counting frequencies of words in song lyrics\n",
    "#####################################"
   ],
   "id": "c16661b3c5ebfb04",
   "outputs": [],
   "execution_count": 52
  },
  {
   "metadata": {
    "ExecuteTime": {
     "end_time": "2025-02-28T13:22:25.036282Z",
     "start_time": "2025-02-28T13:22:24.847820Z"
    }
   },
   "cell_type": "code",
   "source": [
    "def lyrics_to_frequencies(lyrics):\n",
    "    myDict = {}\n",
    "    for word in lyrics:\n",
    "        if word in myDict:\n",
    "            myDict[word] += 1\n",
    "        else:\n",
    "            myDict[word] = 1\n",
    "    return myDict"
   ],
   "id": "9f20b16b888e72c9",
   "outputs": [],
   "execution_count": 53
  },
  {
   "metadata": {
    "ExecuteTime": {
     "end_time": "2025-02-28T13:22:25.257266Z",
     "start_time": "2025-02-28T13:22:25.076876Z"
    }
   },
   "cell_type": "code",
   "source": [
    "she_loves_you = ['she', 'loves', 'you', 'yeah', 'yeah',\n",
    "'yeah','she', 'loves', 'you', 'yeah', 'yeah', 'yeah',\n",
    "'she', 'loves', 'you', 'yeah', 'yeah', 'yeah',\n",
    "\n",
    "'you', 'think', \"you've\", 'lost', 'your', 'love',\n",
    "'well', 'i', 'saw', 'her', 'yesterday-yi-yay',\n",
    "\"it's\", 'you', \"she's\", 'thinking', 'of',\n",
    "'and', 'she', 'told', 'me', 'what', 'to', 'say-yi-yay',\n",
    "\n",
    "'she', 'says', 'she', 'loves', 'you',\n",
    "'and', 'you', 'know', 'that', \"can't\", 'be', 'bad',\n",
    "'yes', 'she', 'loves', 'you',\n",
    "'and', 'you', 'know', 'you', 'should', 'be', 'glad',\n",
    "\n",
    "'she', 'said', 'you', 'hurt', 'her', 'so',\n",
    "'she', 'almost', 'lost', 'her', 'mind',\n",
    "'and', 'now', 'she', 'says', 'she', 'knows',\n",
    "\"you're\", 'not', 'the', 'hurting', 'kind',\n",
    "\n",
    "'she', 'says', 'she', 'loves', 'you',\n",
    "'and', 'you', 'know', 'that', \"can't\", 'be', 'bad',\n",
    "'yes', 'she', 'loves', 'you',\n",
    "'and', 'you', 'know', 'you', 'should', 'be', 'glad',\n",
    "\n",
    "'oo', 'she', 'loves', 'you', 'yeah', 'yeah', 'yeah',\n",
    "'she', 'loves', 'you', 'yeah', 'yeah', 'yeah',\n",
    "'with', 'a', 'love', 'like', 'that',\n",
    "'you', 'know', 'you', 'should', 'be', 'glad',\n",
    "\n",
    "'you', 'know', \"it's\", 'up', 'to', 'you',\n",
    "'i', 'think', \"it's\", 'only', 'fair',\n",
    "'pride', 'can', 'hurt', 'you', 'too',\n",
    "'pologize', 'to', 'her',\n",
    "\n",
    "'Because', 'she', 'loves', 'you',\n",
    "'and', 'you', 'know', 'that', \"can't\", 'be', 'bad',\n",
    "'Yes', 'she', 'loves', 'you',\n",
    "'and', 'you', 'know', 'you', 'should', 'be', 'glad',\n",
    "\n",
    "'oo', 'she', 'loves', 'you', 'yeah', 'yeah', 'yeah',\n",
    "'she', 'loves', 'you', 'yeah', 'yeah', 'yeah',\n",
    "'with', 'a', 'love', 'like', 'that',\n",
    "'you', 'know', 'you', 'should', 'be', 'glad',\n",
    "'with', 'a', 'love', 'like', 'that',\n",
    "'you', 'know', 'you', 'should', 'be', 'glad',\n",
    "'with', 'a', 'love', 'like', 'that',\n",
    "'you', 'know', 'you', 'should', 'be', 'glad',\n",
    "'yeah', 'yeah', 'yeah',\n",
    "'yeah', 'yeah', 'yeah', 'yeah'\n",
    "]"
   ],
   "id": "82b7af8e134048a6",
   "outputs": [],
   "execution_count": 54
  },
  {
   "metadata": {
    "ExecuteTime": {
     "end_time": "2025-02-28T13:22:25.606328Z",
     "start_time": "2025-02-28T13:22:25.270901Z"
    }
   },
   "cell_type": "code",
   "source": "beatles = lyrics_to_frequencies(she_loves_you)",
   "id": "b0f5c55445c516f8",
   "outputs": [],
   "execution_count": 55
  },
  {
   "metadata": {
    "ExecuteTime": {
     "end_time": "2025-02-28T13:22:25.799015Z",
     "start_time": "2025-02-28T13:22:25.633893Z"
    }
   },
   "cell_type": "code",
   "source": "print(beatles)",
   "id": "9d945ceff5a9de74",
   "outputs": [
    {
     "name": "stdout",
     "output_type": "stream",
     "text": [
      "{'she': 20, 'loves': 13, 'you': 36, 'yeah': 28, 'think': 2, \"you've\": 1, 'lost': 2, 'your': 1, 'love': 5, 'well': 1, 'i': 2, 'saw': 1, 'her': 4, 'yesterday-yi-yay': 1, \"it's\": 3, \"she's\": 1, 'thinking': 1, 'of': 1, 'and': 8, 'told': 1, 'me': 1, 'what': 1, 'to': 3, 'say-yi-yay': 1, 'says': 3, 'know': 11, 'that': 7, \"can't\": 3, 'be': 10, 'bad': 3, 'yes': 2, 'should': 7, 'glad': 7, 'said': 1, 'hurt': 2, 'so': 1, 'almost': 1, 'mind': 1, 'now': 1, 'knows': 1, \"you're\": 1, 'not': 1, 'the': 1, 'hurting': 1, 'kind': 1, 'oo': 2, 'with': 4, 'a': 4, 'like': 4, 'up': 1, 'only': 1, 'fair': 1, 'pride': 1, 'can': 1, 'too': 1, 'pologize': 1, 'Because': 1, 'Yes': 1}\n"
     ]
    }
   ],
   "execution_count": 56
  },
  {
   "metadata": {
    "ExecuteTime": {
     "end_time": "2025-02-28T13:22:26.024230Z",
     "start_time": "2025-02-28T13:22:25.807734Z"
    }
   },
   "cell_type": "code",
   "source": [
    "def most_common_words(freqs):\n",
    "    values = freqs.values()\n",
    "    best = max(freqs.values())\n",
    "    words = []\n",
    "    for k in freqs:\n",
    "        if freqs[k] == best:\n",
    "            words.append(k)\n",
    "    return (words, best)\n",
    "\n",
    "most_common_words(lyrics_to_frequencies(she_loves_you))"
   ],
   "id": "4b3318b0c26853d",
   "outputs": [
    {
     "data": {
      "text/plain": [
       "(['you'], 36)"
      ]
     },
     "execution_count": 57,
     "metadata": {},
     "output_type": "execute_result"
    }
   ],
   "execution_count": 57
  },
  {
   "metadata": {
    "ExecuteTime": {
     "end_time": "2025-02-28T13:22:26.352782Z",
     "start_time": "2025-02-28T13:22:26.067007Z"
    }
   },
   "cell_type": "code",
   "source": [
    "def words_often(freqs, minTimes):\n",
    "    result = []\n",
    "    done = False\n",
    "    while not done:\n",
    "        temp = most_common_words(freqs)\n",
    "        if temp[1] >= minTimes:\n",
    "            result.append(temp)\n",
    "            for w in temp[0]:\n",
    "                del(freqs[w])  #remove word from dict\n",
    "        else:\n",
    "            done = True\n",
    "    return result\n",
    "\n",
    "print(words_often(beatles, 5))"
   ],
   "id": "dbcbb6eccfb76cd5",
   "outputs": [
    {
     "name": "stdout",
     "output_type": "stream",
     "text": [
      "[(['you'], 36), (['yeah'], 28), (['she'], 20), (['loves'], 13), (['know'], 11), (['be'], 10), (['and'], 8), (['that', 'should', 'glad'], 7), (['love'], 5)]\n"
     ]
    }
   ],
   "execution_count": 58
  },
  {
   "metadata": {
    "ExecuteTime": {
     "end_time": "2025-02-28T13:22:26.553749Z",
     "start_time": "2025-02-28T13:22:26.390306Z"
    }
   },
   "cell_type": "code",
   "source": [
    "#####################################\n",
    "# EXAMPLE: comparing fibonacci using memoization\n",
    "#####################################"
   ],
   "id": "6806ebc42e49e334",
   "outputs": [],
   "execution_count": 59
  },
  {
   "metadata": {
    "ExecuteTime": {
     "end_time": "2025-02-28T13:22:26.797066Z",
     "start_time": "2025-02-28T13:22:26.557417Z"
    }
   },
   "cell_type": "code",
   "source": [
    "def fib(n):\n",
    "    if n == 1:\n",
    "        return 1\n",
    "    elif n == 2:\n",
    "        return 2\n",
    "    else:\n",
    "        return fib(n-1) + fib(n-2)"
   ],
   "id": "ef1d7c16530c235f",
   "outputs": [],
   "execution_count": 60
  },
  {
   "metadata": {
    "ExecuteTime": {
     "end_time": "2025-02-28T13:22:27.016024Z",
     "start_time": "2025-02-28T13:22:26.823621Z"
    }
   },
   "cell_type": "code",
   "source": [
    "def fib_efficient(n, d):\n",
    "    if n in d:\n",
    "        return d[n]\n",
    "    else:\n",
    "        ans = fib_efficient(n-1, d)+fib_efficient(n-2, d)\n",
    "        d[n] = ans\n",
    "        return ans\n",
    "\n",
    "d = {1:1, 2:2}"
   ],
   "id": "bf4e6c99dfb2f1ed",
   "outputs": [],
   "execution_count": 61
  },
  {
   "metadata": {
    "ExecuteTime": {
     "end_time": "2025-02-28T13:22:27.284766Z",
     "start_time": "2025-02-28T13:22:27.045359Z"
    }
   },
   "cell_type": "code",
   "source": "fib_efficient(553, d)",
   "id": "e905392293fc5846",
   "outputs": [
    {
     "data": {
      "text/plain": [
       "26894761435868431797857061985835516362340036229353275003660444523177042055417084256317799378939479618558518563330897"
      ]
     },
     "execution_count": 62,
     "metadata": {},
     "output_type": "execute_result"
    }
   ],
   "execution_count": 62
  }
 ],
 "metadata": {
  "kernelspec": {
   "display_name": "Python 3",
   "language": "python",
   "name": "python3"
  },
  "language_info": {
   "codemirror_mode": {
    "name": "ipython",
    "version": 2
   },
   "file_extension": ".py",
   "mimetype": "text/x-python",
   "name": "python",
   "nbconvert_exporter": "python",
   "pygments_lexer": "ipython2",
   "version": "2.7.6"
  }
 },
 "nbformat": 4,
 "nbformat_minor": 5
}
