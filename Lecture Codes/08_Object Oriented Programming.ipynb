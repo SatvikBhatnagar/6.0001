{
 "cells": [
  {
   "cell_type": "code",
   "id": "initial_id",
   "metadata": {
    "collapsed": true,
    "ExecuteTime": {
     "end_time": "2025-03-01T11:20:08.779350Z",
     "start_time": "2025-03-01T11:20:08.775764Z"
    }
   },
   "source": [
    "#################\n",
    "## EXAMPLE: simple Coordinate class\n",
    "#################"
   ],
   "outputs": [],
   "execution_count": 1
  },
  {
   "metadata": {
    "ExecuteTime": {
     "end_time": "2025-03-01T11:35:10.553623Z",
     "start_time": "2025-03-01T11:35:10.549359Z"
    }
   },
   "cell_type": "code",
   "source": [
    "class Coordinate(object):\n",
    "    def __init__(self, x, y):\n",
    "        self.x = x\n",
    "        self.y = y"
   ],
   "id": "78cfe3f521df7613",
   "outputs": [],
   "execution_count": 2
  },
  {
   "metadata": {
    "ExecuteTime": {
     "end_time": "2025-03-01T11:37:55.511599Z",
     "start_time": "2025-03-01T11:37:55.505734Z"
    }
   },
   "cell_type": "code",
   "source": [
    "#creating instance of a class\n",
    "c = Coordinate (3,4)\n",
    "origin = Coordinate(0,0)"
   ],
   "id": "53a41ba5a7f85497",
   "outputs": [],
   "execution_count": 5
  },
  {
   "metadata": {
    "ExecuteTime": {
     "end_time": "2025-03-01T11:37:55.837456Z",
     "start_time": "2025-03-01T11:37:55.816664Z"
    }
   },
   "cell_type": "code",
   "source": [
    "print(c.x)\n",
    "print(origin.x)"
   ],
   "id": "ebb7cb561222c825",
   "outputs": [
    {
     "name": "stdout",
     "output_type": "stream",
     "text": [
      "3\n",
      "0\n"
     ]
    }
   ],
   "execution_count": 6
  },
  {
   "metadata": {
    "ExecuteTime": {
     "end_time": "2025-03-01T11:42:24.787819Z",
     "start_time": "2025-03-01T11:42:24.782358Z"
    }
   },
   "cell_type": "code",
   "source": [
    "class Coordinate(object):\n",
    "    def __init__(self, x, y):\n",
    "        self.x = x\n",
    "        self.y = y\n",
    "    def distance(self, other):\n",
    "        x_diff_sq = (self.x - other.x) ** 2\n",
    "        y_diff_sq = (self.y - other.y) ** 2\n",
    "        return (x_diff_sq + y_diff_sq) ** 0.5"
   ],
   "id": "b642d36a02aa17cf",
   "outputs": [],
   "execution_count": 9
  },
  {
   "metadata": {
    "ExecuteTime": {
     "end_time": "2025-03-01T11:42:39.490058Z",
     "start_time": "2025-03-01T11:42:39.482043Z"
    }
   },
   "cell_type": "code",
   "source": [
    "c = Coordinate (3,4)\n",
    "origin = Coordinate(0,0)\n",
    "print(c.distance(origin))"
   ],
   "id": "1138008e82f626a2",
   "outputs": [
    {
     "name": "stdout",
     "output_type": "stream",
     "text": [
      "5.0\n"
     ]
    }
   ],
   "execution_count": 10
  },
  {
   "metadata": {
    "ExecuteTime": {
     "end_time": "2025-03-01T11:43:52.446028Z",
     "start_time": "2025-03-01T11:43:52.439253Z"
    }
   },
   "cell_type": "code",
   "source": "print(Coordinate.distance(c, origin)) # equivalent expression",
   "id": "9f2d07935646cf17",
   "outputs": [
    {
     "name": "stdout",
     "output_type": "stream",
     "text": [
      "5.0\n"
     ]
    }
   ],
   "execution_count": 12
  },
  {
   "metadata": {
    "ExecuteTime": {
     "end_time": "2025-03-01T11:59:46.231811Z",
     "start_time": "2025-03-01T11:59:46.228911Z"
    }
   },
   "cell_type": "code",
   "source": "print(c)",
   "id": "3d73b76b7547527",
   "outputs": [
    {
     "name": "stdout",
     "output_type": "stream",
     "text": [
      "<__main__.Coordinate object at 0x7f9f841aacf0>\n"
     ]
    }
   ],
   "execution_count": 13
  },
  {
   "metadata": {
    "ExecuteTime": {
     "end_time": "2025-03-01T12:01:41.316758Z",
     "start_time": "2025-03-01T12:01:41.310838Z"
    }
   },
   "cell_type": "code",
   "source": [
    "class Coordinate(object):\n",
    "    def __init__(self, x, y):\n",
    "        self.x = x\n",
    "        self.y = y\n",
    "\n",
    "    def distance(self, other):\n",
    "        x_diff_sq = (self.x - other.x) ** 2\n",
    "        y_diff_sq = (self.y - other.y) ** 2\n",
    "        return (x_diff_sq + y_diff_sq) ** 0.5\n",
    "\n",
    "    def __str__(self):\n",
    "        return \"<\"+str(self.x)+\",\"+str(self.y)+\">\""
   ],
   "id": "bd341367832cc3f3",
   "outputs": [],
   "execution_count": 14
  },
  {
   "metadata": {
    "ExecuteTime": {
     "end_time": "2025-03-01T12:05:10.803734Z",
     "start_time": "2025-03-01T12:05:10.801237Z"
    }
   },
   "cell_type": "code",
   "source": [
    "c = Coordinate(3,4)\n",
    "print(c)"
   ],
   "id": "3324cd9b8078f1cd",
   "outputs": [
    {
     "name": "stdout",
     "output_type": "stream",
     "text": [
      "<__main__.Coordinate object at 0x7f9f841ab0e0>\n"
     ]
    }
   ],
   "execution_count": 24
  },
  {
   "metadata": {
    "ExecuteTime": {
     "end_time": "2025-03-01T12:05:11.414709Z",
     "start_time": "2025-03-01T12:05:11.411256Z"
    }
   },
   "cell_type": "code",
   "source": "print(type(c))",
   "id": "7e0469bbee541e7e",
   "outputs": [
    {
     "name": "stdout",
     "output_type": "stream",
     "text": [
      "<class '__main__.Coordinate'>\n"
     ]
    }
   ],
   "execution_count": 25
  },
  {
   "metadata": {
    "ExecuteTime": {
     "end_time": "2025-03-01T12:05:12.012595Z",
     "start_time": "2025-03-01T12:05:12.009670Z"
    }
   },
   "cell_type": "code",
   "source": "print(Coordinate)",
   "id": "b3a560a3bfa53a40",
   "outputs": [
    {
     "name": "stdout",
     "output_type": "stream",
     "text": [
      "<class '__main__.Coordinate'>\n"
     ]
    }
   ],
   "execution_count": 26
  },
  {
   "metadata": {
    "ExecuteTime": {
     "end_time": "2025-03-01T12:05:12.207428Z",
     "start_time": "2025-03-01T12:05:12.130094Z"
    }
   },
   "cell_type": "code",
   "source": "print(type(Coordinate))",
   "id": "a0031f8189baabce",
   "outputs": [
    {
     "name": "stdout",
     "output_type": "stream",
     "text": [
      "<class 'type'>\n"
     ]
    }
   ],
   "execution_count": 27
  },
  {
   "metadata": {
    "ExecuteTime": {
     "end_time": "2025-03-01T12:05:12.416721Z",
     "start_time": "2025-03-01T12:05:12.328122Z"
    }
   },
   "cell_type": "code",
   "source": "print(isinstance(c, Coordinate)) # to check if an object is a Coordinate|",
   "id": "9fd395075c2127f8",
   "outputs": [
    {
     "name": "stdout",
     "output_type": "stream",
     "text": [
      "True\n"
     ]
    }
   ],
   "execution_count": 28
  },
  {
   "metadata": {
    "ExecuteTime": {
     "end_time": "2025-03-01T12:05:12.658572Z",
     "start_time": "2025-03-01T12:05:12.500511Z"
    }
   },
   "cell_type": "code",
   "source": "print(isinstance([1,2], list))",
   "id": "1dcda3d574438340",
   "outputs": [
    {
     "name": "stdout",
     "output_type": "stream",
     "text": [
      "True\n"
     ]
    }
   ],
   "execution_count": 29
  },
  {
   "metadata": {
    "ExecuteTime": {
     "end_time": "2025-03-01T12:06:47.588907Z",
     "start_time": "2025-03-01T12:06:47.585112Z"
    }
   },
   "cell_type": "code",
   "source": [
    "#################\n",
    "## EXAMPLE: simple Coordinate class\n",
    "#################"
   ],
   "id": "45a9a33c144751f2",
   "outputs": [],
   "execution_count": 30
  },
  {
   "metadata": {
    "ExecuteTime": {
     "end_time": "2025-03-01T12:06:52.587267Z",
     "start_time": "2025-03-01T12:06:52.582058Z"
    }
   },
   "cell_type": "code",
   "source": [
    "class Coordinate(object):\n",
    "    \"\"\" A coordinate made up of an x and y value \"\"\"\n",
    "    def __init__(self, x, y):\n",
    "        \"\"\" Sets the x and y values \"\"\"\n",
    "        self.x = x\n",
    "        self.y = y\n",
    "    def __str__(self):\n",
    "        \"\"\" Returns a string representation of self \"\"\"\n",
    "        return \"<\" + str(self.x) + \",\" + str(self.y) + \">\"\n",
    "    def distance(self, other):\n",
    "        \"\"\" Returns the euclidean distance between two points \"\"\"\n",
    "        x_diff_sq = (self.x-other.x)**2\n",
    "        y_diff_sq = (self.y-other.y)**2\n",
    "        return (x_diff_sq + y_diff_sq)**0.5"
   ],
   "id": "d9786c094debbb9b",
   "outputs": [],
   "execution_count": 31
  },
  {
   "metadata": {
    "ExecuteTime": {
     "end_time": "2025-03-01T12:06:59.833245Z",
     "start_time": "2025-03-01T12:06:59.827588Z"
    }
   },
   "cell_type": "code",
   "source": [
    "c = Coordinate(3,4)\n",
    "origin = Coordinate(0,0)\n",
    "print(c.x, origin.x)\n",
    "print(c.distance(origin))\n",
    "print(Coordinate.distance(c, origin))\n",
    "print(origin.distance(c))\n",
    "print(c)"
   ],
   "id": "27ef7218887880c6",
   "outputs": [
    {
     "name": "stdout",
     "output_type": "stream",
     "text": [
      "3 0\n",
      "5.0\n",
      "5.0\n",
      "5.0\n",
      "<3,4>\n"
     ]
    }
   ],
   "execution_count": 32
  },
  {
   "metadata": {
    "ExecuteTime": {
     "end_time": "2025-03-01T12:07:13.184261Z",
     "start_time": "2025-03-01T12:07:13.181362Z"
    }
   },
   "cell_type": "code",
   "source": [
    "#################\n",
    "## EXAMPLE: simple class to represent fractions\n",
    "## Try adding more built-in operations like multiply, divide\n",
    "### Try adding a reduce method to reduce the fraction (use gcd)\n",
    "#################"
   ],
   "id": "a4b4ff9e79f2b3de",
   "outputs": [],
   "execution_count": 33
  },
  {
   "metadata": {
    "ExecuteTime": {
     "end_time": "2025-03-01T12:13:28.824181Z",
     "start_time": "2025-03-01T12:13:28.816600Z"
    }
   },
   "cell_type": "code",
   "source": [
    "class Fraction(object):\n",
    "    \"\"\"\n",
    "    A number represented as a fraction\n",
    "    \"\"\"\n",
    "    def __init__(self, num, denom):\n",
    "        \"\"\" num and denom are integers \"\"\"\n",
    "        assert type(num) == int and type(denom) == int, \"ints not used\"\n",
    "        self.num = num\n",
    "        self.denom = denom\n",
    "    def __str__(self):\n",
    "        \"\"\" Returns a string representation of self \"\"\"\n",
    "        return str(self.num) + \"/\" + str(self.denom)\n",
    "    def __add__(self, other):\n",
    "        \"\"\" Returns a new fraction representing the addition \"\"\"\n",
    "        top = self.num*other.denom + self.denom*other.num\n",
    "        bott = self.denom*other.denom\n",
    "        return Fraction(top, bott)\n",
    "    def __sub__(self, other):\n",
    "        \"\"\" Returns a new fraction representing the subtraction \"\"\"\n",
    "        top = self.num*other.denom - self.denom*other.num\n",
    "        bott = self.denom*other.denom\n",
    "        return Fraction(top, bott)\n",
    "    def __float__(self):\n",
    "        \"\"\" Returns a float value of the fraction \"\"\"\n",
    "        return self.num/self.denom\n",
    "    def inverse(self):\n",
    "        \"\"\" Returns a new fraction representing 1/self \"\"\"\n",
    "        return Fraction(self.denom, self.num)"
   ],
   "id": "94a5ecdeb3519b9e",
   "outputs": [],
   "execution_count": 39
  },
  {
   "metadata": {
    "ExecuteTime": {
     "end_time": "2025-03-01T12:13:29.305444Z",
     "start_time": "2025-03-01T12:13:29.279131Z"
    }
   },
   "cell_type": "code",
   "source": [
    "a = Fraction(1,4)\n",
    "b = Fraction(3,4)\n",
    "c = a + b # c is a Fraction object\n",
    "print(c)\n",
    "print(float(c))\n",
    "print(Fraction.__float__(c))\n",
    "print(float(b.inverse()))\n",
    "##c = Fraction(3.14, 2.7) # assertion error\n",
    "##print a*b # error, did not define how to multiply two Fraction objects"
   ],
   "id": "ebaa8b17c088f123",
   "outputs": [
    {
     "name": "stdout",
     "output_type": "stream",
     "text": [
      "16/16\n",
      "1.0\n",
      "1.0\n",
      "1.3333333333333333\n"
     ]
    }
   ],
   "execution_count": 40
  },
  {
   "metadata": {
    "ExecuteTime": {
     "end_time": "2025-03-01T12:12:05.063506Z",
     "start_time": "2025-03-01T12:12:05.060574Z"
    }
   },
   "cell_type": "code",
   "source": [
    "##############\n",
    "## EXAMPLE: a set of integers as class\n",
    "##############"
   ],
   "id": "bd0f340210d266da",
   "outputs": [],
   "execution_count": 36
  },
  {
   "metadata": {
    "ExecuteTime": {
     "end_time": "2025-03-01T12:17:45.723437Z",
     "start_time": "2025-03-01T12:17:45.713082Z"
    }
   },
   "cell_type": "code",
   "source": [
    "class intSet(object):\n",
    "    \"\"\"\n",
    "    An intSet is a set of integers\n",
    "    The value is represented by a list of ints, self.vals\n",
    "    Each int in the set occurs in self.vals exactly once\n",
    "    \"\"\"\n",
    "    def __init__(self):\n",
    "        \"\"\" Create an empty set of integers \"\"\"\n",
    "        self.vals = []\n",
    "\n",
    "    def insert(self, e):\n",
    "        \"\"\" Assumes e is an integer and inserts e into self \"\"\"\n",
    "        if not e in self.vals:\n",
    "            self.vals.append(e)\n",
    "\n",
    "    def member(self, e):\n",
    "        \"\"\" Assumes e is an integer\n",
    "        Returns True if e is in self, and False otherwise \"\"\"\n",
    "        return e in self.vals\n",
    "\n",
    "    def remove(self, e):\n",
    "        \"\"\" Assumes e is an integer and removes e from self\n",
    "        Raises ValueError if e is not in self \"\"\"\n",
    "        try:\n",
    "            self.vals.remove(e)\n",
    "        except:\n",
    "            raise ValueError(str(e) + ' not found')\n",
    "\n",
    "    def __str__(self):\n",
    "        \"\"\" Returns a string representation of self \"\"\"\n",
    "        self.vals.sort()\n",
    "        return '{' + ','.join([str(e) for e in self.vals]) + '}'"
   ],
   "id": "1d765004ba7c49b4",
   "outputs": [],
   "execution_count": 48
  },
  {
   "metadata": {
    "ExecuteTime": {
     "end_time": "2025-03-01T12:17:46.246185Z",
     "start_time": "2025-03-01T12:17:46.235485Z"
    }
   },
   "cell_type": "code",
   "source": [
    "s = intSet()\n",
    "print(s)\n",
    "s.insert(3)\n",
    "s.insert(4)\n",
    "s.insert(3)\n",
    "print(s)"
   ],
   "id": "e64fcdc10a49ffee",
   "outputs": [
    {
     "name": "stdout",
     "output_type": "stream",
     "text": [
      "{}\n",
      "{3,4}\n"
     ]
    }
   ],
   "execution_count": 49
  },
  {
   "metadata": {
    "ExecuteTime": {
     "end_time": "2025-03-01T12:17:46.752005Z",
     "start_time": "2025-03-01T12:17:46.744981Z"
    }
   },
   "cell_type": "code",
   "source": [
    "print(s.member(3))\n",
    "print(s.member(5))\n",
    "s.insert(6)\n",
    "print(s)"
   ],
   "id": "cfaa7c79dfe42fe8",
   "outputs": [
    {
     "name": "stdout",
     "output_type": "stream",
     "text": [
      "True\n",
      "False\n",
      "{3,4,6}\n"
     ]
    }
   ],
   "execution_count": 50
  },
  {
   "metadata": {
    "ExecuteTime": {
     "end_time": "2025-03-01T12:18:05.227892Z",
     "start_time": "2025-03-01T12:18:05.196011Z"
    }
   },
   "cell_type": "code",
   "source": [
    "s.remove(3)\n",
    "print(s)\n",
    "s.remove(3) # leads to an error"
   ],
   "id": "d918537baa8873d7",
   "outputs": [
    {
     "ename": "ValueError",
     "evalue": "3 not found",
     "output_type": "error",
     "traceback": [
      "\u001B[0;31m---------------------------------------------------------------------------\u001B[0m",
      "\u001B[0;31mValueError\u001B[0m                                Traceback (most recent call last)",
      "Cell \u001B[0;32mIn[48], line 25\u001B[0m, in \u001B[0;36mintSet.remove\u001B[0;34m(self, e)\u001B[0m\n\u001B[1;32m     24\u001B[0m \u001B[38;5;28;01mtry\u001B[39;00m:\n\u001B[0;32m---> 25\u001B[0m     \u001B[38;5;28;43mself\u001B[39;49m\u001B[38;5;241;43m.\u001B[39;49m\u001B[43mvals\u001B[49m\u001B[38;5;241;43m.\u001B[39;49m\u001B[43mremove\u001B[49m\u001B[43m(\u001B[49m\u001B[43me\u001B[49m\u001B[43m)\u001B[49m\n\u001B[1;32m     26\u001B[0m \u001B[38;5;28;01mexcept\u001B[39;00m:\n",
      "\u001B[0;31mValueError\u001B[0m: list.remove(x): x not in list",
      "\nDuring handling of the above exception, another exception occurred:\n",
      "\u001B[0;31mValueError\u001B[0m                                Traceback (most recent call last)",
      "Cell \u001B[0;32mIn[52], line 1\u001B[0m\n\u001B[0;32m----> 1\u001B[0m \u001B[43ms\u001B[49m\u001B[38;5;241;43m.\u001B[39;49m\u001B[43mremove\u001B[49m\u001B[43m(\u001B[49m\u001B[38;5;241;43m3\u001B[39;49m\u001B[43m)\u001B[49m\n\u001B[1;32m      2\u001B[0m \u001B[38;5;28mprint\u001B[39m(s)\n\u001B[1;32m      3\u001B[0m s\u001B[38;5;241m.\u001B[39mremove(\u001B[38;5;241m3\u001B[39m) \u001B[38;5;66;03m# leads to an error\u001B[39;00m\n",
      "Cell \u001B[0;32mIn[48], line 27\u001B[0m, in \u001B[0;36mintSet.remove\u001B[0;34m(self, e)\u001B[0m\n\u001B[1;32m     25\u001B[0m     \u001B[38;5;28mself\u001B[39m\u001B[38;5;241m.\u001B[39mvals\u001B[38;5;241m.\u001B[39mremove(e)\n\u001B[1;32m     26\u001B[0m \u001B[38;5;28;01mexcept\u001B[39;00m:\n\u001B[0;32m---> 27\u001B[0m     \u001B[38;5;28;01mraise\u001B[39;00m \u001B[38;5;167;01mValueError\u001B[39;00m(\u001B[38;5;28mstr\u001B[39m(e) \u001B[38;5;241m+\u001B[39m \u001B[38;5;124m'\u001B[39m\u001B[38;5;124m not found\u001B[39m\u001B[38;5;124m'\u001B[39m)\n",
      "\u001B[0;31mValueError\u001B[0m: 3 not found"
     ]
    }
   ],
   "execution_count": 52
  }
 ],
 "metadata": {
  "kernelspec": {
   "display_name": "Python 3",
   "language": "python",
   "name": "python3"
  },
  "language_info": {
   "codemirror_mode": {
    "name": "ipython",
    "version": 2
   },
   "file_extension": ".py",
   "mimetype": "text/x-python",
   "name": "python",
   "nbconvert_exporter": "python",
   "pygments_lexer": "ipython2",
   "version": "2.7.6"
  }
 },
 "nbformat": 4,
 "nbformat_minor": 5
}
