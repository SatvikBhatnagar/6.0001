{
 "cells": [
  {
   "cell_type": "code",
   "id": "initial_id",
   "metadata": {
    "collapsed": true,
    "ExecuteTime": {
     "end_time": "2025-02-21T03:37:06.295919Z",
     "start_time": "2025-02-21T03:37:06.293034Z"
    }
   },
   "source": [
    "###################\n",
    "## EXAMPLE: strings\n",
    "###################"
   ],
   "outputs": [],
   "execution_count": 1
  },
  {
   "metadata": {
    "ExecuteTime": {
     "end_time": "2025-02-21T03:37:33.127175Z",
     "start_time": "2025-02-21T03:37:33.123634Z"
    }
   },
   "cell_type": "code",
   "source": [
    "hi = \"hello there\"\n",
    "name = \"Satvik\"\n",
    "greet = hi + name\n",
    "print(greet)"
   ],
   "id": "a8c22fb639196326",
   "outputs": [
    {
     "name": "stdout",
     "output_type": "stream",
     "text": [
      "hello thereSatvik\n"
     ]
    }
   ],
   "execution_count": 3
  },
  {
   "metadata": {
    "ExecuteTime": {
     "end_time": "2025-02-21T03:37:45.740947Z",
     "start_time": "2025-02-21T03:37:45.735559Z"
    }
   },
   "cell_type": "code",
   "source": [
    "greeting = hi + \" \" + name\n",
    "print(greeting)\n",
    "silly = hi + (\" \" + name)*3\n",
    "print(silly)"
   ],
   "id": "c5a55b7b118e24c4",
   "outputs": [
    {
     "name": "stdout",
     "output_type": "stream",
     "text": [
      "hello there Satvik\n",
      "hello there Satvik Satvik Satvik\n"
     ]
    }
   ],
   "execution_count": 4
  },
  {
   "metadata": {
    "ExecuteTime": {
     "end_time": "2025-02-21T03:39:57.015459Z",
     "start_time": "2025-02-21T03:39:57.011790Z"
    }
   },
   "cell_type": "code",
   "source": [
    "####################\n",
    "## EXAMPLE: output\n",
    "####################"
   ],
   "id": "e91b183f31b365be",
   "outputs": [],
   "execution_count": 5
  },
  {
   "metadata": {
    "ExecuteTime": {
     "end_time": "2025-02-21T03:43:02.393387Z",
     "start_time": "2025-02-21T03:43:02.382951Z"
    }
   },
   "cell_type": "code",
   "source": [
    "x = 1\n",
    "print(x)\n",
    "x_str = str(x)\n",
    "print(\"my fav number is\", x, \".\", \"x=\", x)\n",
    "print(\"my fav number is\", x_str + \".\" + \"x=\" + x_str) # spaces are added after each ','\n",
    "print(\"my fav number is\" + x_str + \".\" + \"x=\" + x_str) # everything must be a string object when using '+'"
   ],
   "id": "34dff0ff76d23162",
   "outputs": [
    {
     "name": "stdout",
     "output_type": "stream",
     "text": [
      "1\n",
      "my fav number is 1 . x= 1\n",
      "my fav number is 1.x=1\n",
      "my fav number is1.x=1\n"
     ]
    }
   ],
   "execution_count": 10
  },
  {
   "metadata": {
    "ExecuteTime": {
     "end_time": "2025-02-21T03:43:26.087058Z",
     "start_time": "2025-02-21T03:43:26.082563Z"
    }
   },
   "cell_type": "code",
   "source": [
    "####################\n",
    "## EXAMPLE: input\n",
    "####################"
   ],
   "id": "5eec7abc62382e46",
   "outputs": [],
   "execution_count": 11
  },
  {
   "metadata": {
    "ExecuteTime": {
     "end_time": "2025-02-21T03:46:39.414959Z",
     "start_time": "2025-02-21T03:46:34.769373Z"
    }
   },
   "cell_type": "code",
   "source": [
    "text = input(\"Type anything... \") # string\n",
    "print(5*text)\n",
    "num = int(input(\"Type a number... \"))\n",
    "print(5*num)"
   ],
   "id": "bcaadbb8e42e9404",
   "outputs": [
    {
     "name": "stdout",
     "output_type": "stream",
     "text": [
      "55555\n",
      "25\n"
     ]
    }
   ],
   "execution_count": 13
  },
  {
   "metadata": {
    "ExecuteTime": {
     "end_time": "2025-02-21T04:01:31.144748Z",
     "start_time": "2025-02-21T04:01:31.140280Z"
    }
   },
   "cell_type": "code",
   "source": [
    "####################\n",
    "## EXAMPLE: conditionals/branching\n",
    "####################"
   ],
   "id": "831680707d47a7fd",
   "outputs": [],
   "execution_count": 14
  },
  {
   "metadata": {
    "ExecuteTime": {
     "end_time": "2025-02-21T04:06:42.928574Z",
     "start_time": "2025-02-21T04:06:34.750250Z"
    }
   },
   "cell_type": "code",
   "source": [
    "x = float(input(\"Enter a number for x: \"))\n",
    "y = float(input(\"Enter a number for y: \"))\n",
    "if x == y:\n",
    "   print(\"x and y are equal\")\n",
    "   if y != 0:\n",
    "       print(\"therefore, x / y is\", x/y)\n",
    "elif x < y:\n",
    "   print(\"x is smaller\")\n",
    "elif x > y:\n",
    "   print(\"y is smaller\")\n",
    "print(\"thanks!\")"
   ],
   "id": "d8b1ffedc8402831",
   "outputs": [
    {
     "name": "stdout",
     "output_type": "stream",
     "text": [
      "x is smaller\n",
      "thanks!\n"
     ]
    }
   ],
   "execution_count": 16
  },
  {
   "metadata": {
    "ExecuteTime": {
     "end_time": "2025-02-21T04:09:34.905903Z",
     "start_time": "2025-02-21T04:09:34.898747Z"
    }
   },
   "cell_type": "code",
   "source": [
    "####################\n",
    "## EXAMPLE: remainder\n",
    "####################"
   ],
   "id": "10eac8b69ead1f59",
   "outputs": [],
   "execution_count": 17
  },
  {
   "metadata": {
    "ExecuteTime": {
     "end_time": "2025-02-21T04:09:55.110572Z",
     "start_time": "2025-02-21T04:09:47.758434Z"
    }
   },
   "cell_type": "code",
   "source": [
    "num = int(input(\"Enter a number: \"))\n",
    "if num % 2 == 0:\n",
    "   print(\"number is even\")\n",
    "else:\n",
    "   print(\"number is odd\")"
   ],
   "id": "51e17f5273b673b1",
   "outputs": [
    {
     "name": "stdout",
     "output_type": "stream",
     "text": [
      "number is odd\n"
     ]
    }
   ],
   "execution_count": 18
  },
  {
   "metadata": {
    "ExecuteTime": {
     "end_time": "2025-02-21T04:10:21.073281Z",
     "start_time": "2025-02-21T04:10:21.068163Z"
    }
   },
   "cell_type": "code",
   "source": [
    "####################\n",
    "## EXAMPLE: while loops\n",
    "## Try expanding this code to show a sad face if you go right\n",
    "## twice and flip the table any more times than that.\n",
    "## Hint: use a counter\n",
    "####################"
   ],
   "id": "5970862097ef1280",
   "outputs": [],
   "execution_count": 19
  },
  {
   "metadata": {
    "ExecuteTime": {
     "end_time": "2025-02-21T04:11:04.054263Z",
     "start_time": "2025-02-21T04:10:59.067380Z"
    }
   },
   "cell_type": "code",
   "source": [
    "n = input(\"You are in the Lost Forest\\n****************\\n****************\\n :)\\n****************\\n****************\\nGo left or right? \")\n",
    "while n == \"right\" or n == \"Right\":\n",
    "   n = input(\"You are in the Lost Forest\\n****************\\n******       ***\\n  (â•¯Â°â–¡Â°ï¼‰â•¯ï¸µ â”»â”â”»\\n****************\\n****************\\nGo left or right? \")\n",
    "print(\"\\nYou got out of the Lost Forest!\\n\\o/\")"
   ],
   "id": "9637773b12a61e81",
   "outputs": [
    {
     "name": "stderr",
     "output_type": "stream",
     "text": [
      "<>:4: SyntaxWarning: invalid escape sequence '\\o'\n",
      "<>:4: SyntaxWarning: invalid escape sequence '\\o'\n",
      "/tmp/ipykernel_81727/297926067.py:4: SyntaxWarning: invalid escape sequence '\\o'\n",
      "  print(\"\\nYou got out of the Lost Forest!\\n\\o/\")\n"
     ]
    },
    {
     "name": "stdout",
     "output_type": "stream",
     "text": [
      "\n",
      "You got out of the Lost Forest!\n",
      "\\o/\n"
     ]
    }
   ],
   "execution_count": 20
  },
  {
   "metadata": {
    "ExecuteTime": {
     "end_time": "2025-02-21T04:19:34.129686Z",
     "start_time": "2025-02-21T04:19:34.125975Z"
    }
   },
   "cell_type": "code",
   "source": [
    "n = 0\n",
    "while n < 5:\n",
    "   print(n)\n",
    "   n = n+1"
   ],
   "id": "a161b761829884de",
   "outputs": [
    {
     "name": "stdout",
     "output_type": "stream",
     "text": [
      "0\n",
      "1\n",
      "2\n",
      "3\n",
      "4\n"
     ]
    }
   ],
   "execution_count": 21
  },
  {
   "metadata": {
    "ExecuteTime": {
     "end_time": "2025-02-21T04:19:44.486343Z",
     "start_time": "2025-02-21T04:19:44.478431Z"
    }
   },
   "cell_type": "code",
   "source": [
    "####################\n",
    "## EXAMPLE: for loops\n",
    "####################"
   ],
   "id": "699e032796ef9b6b",
   "outputs": [],
   "execution_count": 22
  },
  {
   "metadata": {
    "ExecuteTime": {
     "end_time": "2025-02-21T04:20:20.851148Z",
     "start_time": "2025-02-21T04:20:20.847312Z"
    }
   },
   "cell_type": "code",
   "source": [
    "for n in range(5):\n",
    "   print(n)"
   ],
   "id": "4a93063d47a960c6",
   "outputs": [
    {
     "name": "stdout",
     "output_type": "stream",
     "text": [
      "0\n",
      "1\n",
      "2\n",
      "3\n",
      "4\n"
     ]
    }
   ],
   "execution_count": 23
  },
  {
   "metadata": {
    "ExecuteTime": {
     "end_time": "2025-02-21T04:20:29.505114Z",
     "start_time": "2025-02-21T04:20:29.499599Z"
    }
   },
   "cell_type": "code",
   "source": [
    "mysum = 0\n",
    "for i in range(10):\n",
    "   mysum += i\n",
    "print(mysum)"
   ],
   "id": "1505e61da5f57876",
   "outputs": [
    {
     "name": "stdout",
     "output_type": "stream",
     "text": [
      "45\n"
     ]
    }
   ],
   "execution_count": 24
  },
  {
   "metadata": {
    "ExecuteTime": {
     "end_time": "2025-02-21T04:21:00.831554Z",
     "start_time": "2025-02-21T04:21:00.827043Z"
    }
   },
   "cell_type": "code",
   "source": [
    "mysum = 0\n",
    "for i in range(7, 10):\n",
    "   mysum += i\n",
    "print(mysum)"
   ],
   "id": "cdbacd7826fc1417",
   "outputs": [
    {
     "name": "stdout",
     "output_type": "stream",
     "text": [
      "24\n"
     ]
    }
   ],
   "execution_count": 25
  },
  {
   "metadata": {
    "ExecuteTime": {
     "end_time": "2025-02-21T04:21:11.446742Z",
     "start_time": "2025-02-21T04:21:11.441522Z"
    }
   },
   "cell_type": "code",
   "source": [
    "mysum = 0\n",
    "for i in range(5, 11, 2):\n",
    "   mysum += i\n",
    "   if mysum == 5:\n",
    "       break\n",
    "       mysum += 1\n",
    "print(mysum)"
   ],
   "id": "9f84d1f8236c0f68",
   "outputs": [
    {
     "name": "stdout",
     "output_type": "stream",
     "text": [
      "5\n"
     ]
    }
   ],
   "execution_count": 26
  },
  {
   "metadata": {
    "ExecuteTime": {
     "end_time": "2025-02-21T04:23:51.477760Z",
     "start_time": "2025-02-21T04:23:51.473984Z"
    }
   },
   "cell_type": "code",
   "source": [
    "####################\n",
    "## EXAMPLE: perfect squares\n",
    "####################"
   ],
   "id": "bd619e99bcce1ddc",
   "outputs": [],
   "execution_count": 27
  },
  {
   "metadata": {
    "ExecuteTime": {
     "end_time": "2025-02-21T04:25:05.448387Z",
     "start_time": "2025-02-21T04:25:02.825162Z"
    }
   },
   "cell_type": "code",
   "source": [
    "ans = 0\n",
    "neg_flag = False\n",
    "x = int(input(\"Enter an integer: \"))\n",
    "if x < 0:\n",
    "   neg_flag = True\n",
    "while ans**2 < x:\n",
    "   ans = ans + 1\n",
    "if ans**2 == x:\n",
    "   print(\"Square root of\", x, \"is\", ans)\n",
    "else:\n",
    "   print(x, \"is not a perfect square\")\n",
    "   if neg_flag:\n",
    "       print(\"Just checking... did you mean\", -x, \"?\")"
   ],
   "id": "1ef0d9ded8c08ab2",
   "outputs": [
    {
     "name": "stdout",
     "output_type": "stream",
     "text": [
      "15 is not a perfect square\n"
     ]
    }
   ],
   "execution_count": 28
  }
 ],
 "metadata": {
  "kernelspec": {
   "display_name": "Python 3",
   "language": "python",
   "name": "python3"
  },
  "language_info": {
   "codemirror_mode": {
    "name": "ipython",
    "version": 2
   },
   "file_extension": ".py",
   "mimetype": "text/x-python",
   "name": "python",
   "nbconvert_exporter": "python",
   "pygments_lexer": "ipython2",
   "version": "2.7.6"
  }
 },
 "nbformat": 4,
 "nbformat_minor": 5
}
