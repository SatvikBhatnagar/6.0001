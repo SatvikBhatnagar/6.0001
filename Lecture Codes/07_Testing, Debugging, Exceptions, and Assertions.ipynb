{
 "cells": [
  {
   "cell_type": "code",
   "id": "initial_id",
   "metadata": {
    "collapsed": true,
    "ExecuteTime": {
     "end_time": "2025-02-28T13:54:30.320831Z",
     "start_time": "2025-02-28T13:54:30.313702Z"
    }
   },
   "source": [
    "########################################\n",
    "### EXAMPLE: Buggy code to reverse a list\n",
    "### Try to debug it! (fixes needed are explained below)\n",
    "########################################"
   ],
   "outputs": [],
   "execution_count": 11
  },
  {
   "metadata": {
    "ExecuteTime": {
     "end_time": "2025-02-28T13:54:30.790648Z",
     "start_time": "2025-02-28T13:54:30.780132Z"
    }
   },
   "cell_type": "code",
   "source": [
    "def rev_list_buggy(L):\n",
    "   \"\"\"\n",
    "   input: L, a list\n",
    "   Modifies L such that its elements are in reverse order\n",
    "   returns: nothing\n",
    "   \"\"\"\n",
    "   for i in range(len(L)):\n",
    "       j = len(L) - i\n",
    "       L[i] = temp\n",
    "       L[i] = L[j]\n",
    "       L[j] = L[i]"
   ],
   "id": "35d46bbf3eecbcd8",
   "outputs": [],
   "execution_count": 12
  },
  {
   "metadata": {
    "ExecuteTime": {
     "end_time": "2025-02-28T13:54:31.199265Z",
     "start_time": "2025-02-28T13:54:31.162656Z"
    }
   },
   "cell_type": "code",
   "source": [
    "L = [1,2,3,4]\n",
    "rev_list_buggy(L)\n",
    "print(L)"
   ],
   "id": "5e54a7efd5594f1a",
   "outputs": [
    {
     "ename": "NameError",
     "evalue": "name 'temp' is not defined",
     "output_type": "error",
     "traceback": [
      "\u001B[0;31m---------------------------------------------------------------------------\u001B[0m",
      "\u001B[0;31mNameError\u001B[0m                                 Traceback (most recent call last)",
      "Cell \u001B[0;32mIn[13], line 2\u001B[0m\n\u001B[1;32m      1\u001B[0m L \u001B[38;5;241m=\u001B[39m [\u001B[38;5;241m1\u001B[39m,\u001B[38;5;241m2\u001B[39m,\u001B[38;5;241m3\u001B[39m,\u001B[38;5;241m4\u001B[39m]\n\u001B[0;32m----> 2\u001B[0m \u001B[43mrev_list_buggy\u001B[49m\u001B[43m(\u001B[49m\u001B[43mL\u001B[49m\u001B[43m)\u001B[49m\n\u001B[1;32m      3\u001B[0m \u001B[38;5;28mprint\u001B[39m(L)\n",
      "Cell \u001B[0;32mIn[12], line 9\u001B[0m, in \u001B[0;36mrev_list_buggy\u001B[0;34m(L)\u001B[0m\n\u001B[1;32m      7\u001B[0m \u001B[38;5;28;01mfor\u001B[39;00m i \u001B[38;5;129;01min\u001B[39;00m \u001B[38;5;28mrange\u001B[39m(\u001B[38;5;28mlen\u001B[39m(L)):\n\u001B[1;32m      8\u001B[0m     j \u001B[38;5;241m=\u001B[39m \u001B[38;5;28mlen\u001B[39m(L) \u001B[38;5;241m-\u001B[39m i\n\u001B[0;32m----> 9\u001B[0m     L[i] \u001B[38;5;241m=\u001B[39m \u001B[43mtemp\u001B[49m\n\u001B[1;32m     10\u001B[0m     L[i] \u001B[38;5;241m=\u001B[39m L[j]\n\u001B[1;32m     11\u001B[0m     L[j] \u001B[38;5;241m=\u001B[39m L[i]\n",
      "\u001B[0;31mNameError\u001B[0m: name 'temp' is not defined"
     ]
    }
   ],
   "execution_count": 13
  },
  {
   "metadata": {
    "ExecuteTime": {
     "end_time": "2025-02-28T13:54:31.624582Z",
     "start_time": "2025-02-28T13:54:31.613860Z"
    }
   },
   "cell_type": "code",
   "source": [
    "## FIXES: --------------------------\n",
    "## temp unknown\n",
    "## list index out of range -> sub 1 to j\n",
    "## get same list back -> iterate only over half\n",
    "## --------------------------\n",
    "def rev_list(L):\n",
    "    \"\"\"\n",
    "    input: L, a list\n",
    "    Modifies L such that its elements are in reverse order\n",
    "    returns: nothing\n",
    "    \"\"\"\n",
    "    for i in range(len(L)//2):\n",
    "        j = len(L) - i - 1\n",
    "        temp = L[i]\n",
    "        L[i] = L[j]\n",
    "        L[j] = temp"
   ],
   "id": "810550894f1d332b",
   "outputs": [],
   "execution_count": 14
  },
  {
   "metadata": {
    "ExecuteTime": {
     "end_time": "2025-02-28T13:54:32.439601Z",
     "start_time": "2025-02-28T13:54:32.429877Z"
    }
   },
   "cell_type": "code",
   "source": [
    "L = [1,2,3,4]\n",
    "rev_list(L)\n",
    "print(L)"
   ],
   "id": "8ea5468b8b0d4066",
   "outputs": [
    {
     "name": "stdout",
     "output_type": "stream",
     "text": [
      "[4, 3, 2, 1]\n"
     ]
    }
   ],
   "execution_count": 15
  },
  {
   "metadata": {
    "ExecuteTime": {
     "end_time": "2025-02-28T13:54:48.942902Z",
     "start_time": "2025-02-28T13:54:48.937237Z"
    }
   },
   "cell_type": "code",
   "source": [
    "########################################\n",
    "### EXAMPLE: Buggy code to get a list of primes\n",
    "### Try to debug it!\n",
    "########################################"
   ],
   "id": "db867f35ce935a0e",
   "outputs": [],
   "execution_count": 16
  },
  {
   "metadata": {
    "ExecuteTime": {
     "end_time": "2025-02-28T13:55:03.687547Z",
     "start_time": "2025-02-28T13:55:03.681719Z"
    }
   },
   "cell_type": "code",
   "source": [
    "def primes_list_buggy(n):\n",
    "   \"\"\"\n",
    "   input: n an integer > 1\n",
    "   returns: list of all the primes up to and including n\n",
    "   \"\"\"\n",
    "   # initialize primes list\n",
    "   if i == 2:\n",
    "       primes.append(2)\n",
    "   # go through each elem of primes list\n",
    "   for i in range(len(primes)):\n",
    "       # go through each of 2...n\n",
    "       for j in range(len(n)):\n",
    "           # check if not divisible by elem of list\n",
    "           if i%j != 0:\n",
    "               primes.append(i)"
   ],
   "id": "2520770b2a6db7c8",
   "outputs": [],
   "execution_count": 17
  },
  {
   "metadata": {
    "ExecuteTime": {
     "end_time": "2025-02-28T13:55:35.187669Z",
     "start_time": "2025-02-28T13:55:35.180294Z"
    }
   },
   "cell_type": "code",
   "source": [
    "## FIXES: --------------------------\n",
    "## = invalid syntax, variable i unknown, variable primes unknown\n",
    "## can't apply 'len' to an int\n",
    "## division by zero -> iterate through elems not indices\n",
    "##                  -> iterate from 2 not 0\n",
    "## forgot to return\n",
    "## primes is empty list for n > 2\n",
    "## n = 3 goes through loop once -> range to n+1 not n\n",
    "## infinite loop -> append j not i\n",
    "##               -> list is getting modified as iterating over it!\n",
    "##               -> switch loops around\n",
    "## n = 4 adds 4 -> need way to stop going once found a divisible num\n",
    "##              -> use a flag\n",
    "## --------------------------\n",
    "\n",
    "def primes_list(n):\n",
    "    \"\"\"\n",
    "    input: n an integer > 1\n",
    "    returns: list of all the primes up to and including n\n",
    "    \"\"\"\n",
    "    # initialize primes list\n",
    "    primes = [2]\n",
    "    # go through each of 3...n\n",
    "    for j in range(3,n+1):\n",
    "        is_div = False\n",
    "        # go through each elem of primes list\n",
    "        for p in primes:\n",
    "            if j%p == 0:\n",
    "                is_div = True\n",
    "        if not is_div:\n",
    "            primes.append(j)\n",
    "    return primes\n",
    "\n",
    "print(primes_list(2))\n",
    "print(primes_list(15))"
   ],
   "id": "b040b80376fa83f3",
   "outputs": [
    {
     "name": "stdout",
     "output_type": "stream",
     "text": [
      "[2]\n",
      "[2, 3, 5, 7, 11, 13]\n"
     ]
    }
   ],
   "execution_count": 18
  },
  {
   "metadata": {
    "ExecuteTime": {
     "end_time": "2025-02-28T13:55:45.528070Z",
     "start_time": "2025-02-28T13:55:45.523153Z"
    }
   },
   "cell_type": "code",
   "source": [
    "######################################\n",
    "# EXAMPLE: Exceptions and input\n",
    "######################################"
   ],
   "id": "9c98fb4df8b40dc2",
   "outputs": [],
   "execution_count": 19
  },
  {
   "metadata": {
    "ExecuteTime": {
     "end_time": "2025-02-28T13:56:45.459875Z",
     "start_time": "2025-02-28T13:56:41.739072Z"
    }
   },
   "cell_type": "code",
   "source": [
    "a = int(input(\"Tell me one number: \"))\n",
    "b = int(input(\"Tell me another number: \"))\n",
    "print(\"a/b = \", a/b)\n",
    "print(\"a+b = \", a+b)"
   ],
   "id": "1017f819ededa6d2",
   "outputs": [
    {
     "ename": "ValueError",
     "evalue": "invalid literal for int() with base 10: 'a'",
     "output_type": "error",
     "traceback": [
      "\u001B[0;31m---------------------------------------------------------------------------\u001B[0m",
      "\u001B[0;31mValueError\u001B[0m                                Traceback (most recent call last)",
      "Cell \u001B[0;32mIn[20], line 1\u001B[0m\n\u001B[0;32m----> 1\u001B[0m a \u001B[38;5;241m=\u001B[39m \u001B[38;5;28;43mint\u001B[39;49m\u001B[43m(\u001B[49m\u001B[38;5;28;43minput\u001B[39;49m\u001B[43m(\u001B[49m\u001B[38;5;124;43m\"\u001B[39;49m\u001B[38;5;124;43mTell me one number: \u001B[39;49m\u001B[38;5;124;43m\"\u001B[39;49m\u001B[43m)\u001B[49m\u001B[43m)\u001B[49m\n\u001B[1;32m      2\u001B[0m b \u001B[38;5;241m=\u001B[39m \u001B[38;5;28mint\u001B[39m(\u001B[38;5;28minput\u001B[39m(\u001B[38;5;124m\"\u001B[39m\u001B[38;5;124mTell me another number: \u001B[39m\u001B[38;5;124m\"\u001B[39m))\n\u001B[1;32m      3\u001B[0m \u001B[38;5;28mprint\u001B[39m(\u001B[38;5;124m\"\u001B[39m\u001B[38;5;124ma/b = \u001B[39m\u001B[38;5;124m\"\u001B[39m, a\u001B[38;5;241m/\u001B[39mb)\n",
      "\u001B[0;31mValueError\u001B[0m: invalid literal for int() with base 10: 'a'"
     ]
    }
   ],
   "execution_count": 20
  },
  {
   "metadata": {
    "ExecuteTime": {
     "end_time": "2025-02-28T13:56:51.644883Z",
     "start_time": "2025-02-28T13:56:49.187093Z"
    }
   },
   "cell_type": "code",
   "source": [
    "try:\n",
    "    a = int(input(\"Tell me one number: \"))\n",
    "    b = int(input(\"Tell me another number: \"))\n",
    "    print(\"a/b = \", a/b)\n",
    "except:\n",
    "    print(\"Bug in user input.\")"
   ],
   "id": "75dda1eb3dbfc20",
   "outputs": [
    {
     "name": "stdout",
     "output_type": "stream",
     "text": [
      "Bug in user input.\n"
     ]
    }
   ],
   "execution_count": 21
  },
  {
   "metadata": {
    "ExecuteTime": {
     "end_time": "2025-02-28T14:00:50.148524Z",
     "start_time": "2025-02-28T14:00:40.773807Z"
    }
   },
   "cell_type": "code",
   "source": [
    "try:\n",
    "    a = int(input(\"Tell me one number: \"))\n",
    "    b = int(input(\"Tell me another number: \"))\n",
    "    print(\"a/b = \", a/b)\n",
    "    print(\"a+b = \", a+b)\n",
    "except ValueError:\n",
    "    print(\"Could not convert to a number.\")\n",
    "except ZeroDivisionError:\n",
    "    print(\"Can't divide by zero\")\n",
    "except:\n",
    "    print(\"Something went very wrong.\")"
   ],
   "id": "39e748118301df52",
   "outputs": [
    {
     "name": "stdout",
     "output_type": "stream",
     "text": [
      "Can't divide by zero\n"
     ]
    }
   ],
   "execution_count": 24
  },
  {
   "metadata": {
    "ExecuteTime": {
     "end_time": "2025-02-28T14:01:00.982395Z",
     "start_time": "2025-02-28T14:01:00.979104Z"
    }
   },
   "cell_type": "code",
   "source": [
    "######################################\n",
    "# EXAMPLE: Raising your own exceptions\n",
    "######################################"
   ],
   "id": "251be60419df9372",
   "outputs": [],
   "execution_count": 25
  },
  {
   "metadata": {
    "ExecuteTime": {
     "end_time": "2025-02-28T14:06:52.596070Z",
     "start_time": "2025-02-28T14:06:52.591838Z"
    }
   },
   "cell_type": "code",
   "source": [
    "def get_ratios(L1, L2):\n",
    "    \"\"\" Assumes: L1 and L2 are lists of equal length of numbers\n",
    "        Returns: a list containing L1[i]/L2[i] \"\"\"\n",
    "    ratios = []\n",
    "    for index in range(len(L1)):\n",
    "        try:\n",
    "            ratios.append(L1[index]/L2[index])\n",
    "        except ZeroDivisionError:\n",
    "            ratios.append(float('nan')) #nan = Not a Number\n",
    "        except:\n",
    "            raise ValueError('get_ratios called with bad arg')\n",
    "        else:\n",
    "            print(\"success\")\n",
    "        finally:\n",
    "            print(\"executed no matter what!\")\n",
    "    return ratios\n",
    "\n",
    "print(get_ratios([1, 4], [2, 4]))"
   ],
   "id": "93117646258660be",
   "outputs": [
    {
     "name": "stdout",
     "output_type": "stream",
     "text": [
      "success\n",
      "executed no matter what!\n",
      "success\n",
      "executed no matter what!\n",
      "[0.5, 1.0]\n"
     ]
    }
   ],
   "execution_count": 29
  },
  {
   "metadata": {
    "ExecuteTime": {
     "end_time": "2025-02-28T14:04:55.263730Z",
     "start_time": "2025-02-28T14:04:55.258848Z"
    }
   },
   "cell_type": "code",
   "source": [
    "#######################################\n",
    "## EXAMPLE: Exceptions and lists\n",
    "#######################################"
   ],
   "id": "dfb246b8d4213e6a",
   "outputs": [],
   "execution_count": 27
  },
  {
   "metadata": {
    "ExecuteTime": {
     "end_time": "2025-02-28T14:29:38.162429Z",
     "start_time": "2025-02-28T14:29:38.159957Z"
    }
   },
   "cell_type": "code",
   "source": [
    "def get_stats(class_list):\n",
    "\tnew_stats = []\n",
    "\tfor person in class_list:\n",
    "\t\tnew_stats.append([person[0], person[1], avg(person[1])])\n",
    "\treturn new_stats"
   ],
   "id": "4e925befa4e17a3c",
   "outputs": [],
   "execution_count": 38
  },
  {
   "metadata": {
    "ExecuteTime": {
     "end_time": "2025-02-28T14:29:38.575708Z",
     "start_time": "2025-02-28T14:29:38.539488Z"
    }
   },
   "cell_type": "code",
   "source": [
    "# avg function: version without an exception\n",
    "#def avg(grades):\n",
    "#    return (sum(grades))/len(grades)"
   ],
   "id": "c232b99c5550ec11",
   "outputs": [],
   "execution_count": 39
  },
  {
   "metadata": {
    "ExecuteTime": {
     "end_time": "2025-02-28T14:29:39.156004Z",
     "start_time": "2025-02-28T14:29:39.152566Z"
    }
   },
   "cell_type": "code",
   "source": [
    "# avg function: version with an exception\n",
    "def avg(grades):\n",
    "    try:\n",
    "        return sum(grades)/len(grades)\n",
    "    except ZeroDivisionError:\n",
    "        print('warning: no grades data')\n",
    "        return 0.0\n"
   ],
   "id": "80d667088b3000a8",
   "outputs": [],
   "execution_count": 40
  },
  {
   "metadata": {
    "ExecuteTime": {
     "end_time": "2025-02-28T14:29:39.509327Z",
     "start_time": "2025-02-28T14:29:39.492492Z"
    }
   },
   "cell_type": "code",
   "source": [
    "test_grades = [[['peter', 'parker'], [80.0, 70.0, 85.0]],\n",
    "              [['bruce', 'wayne'], [100.0, 80.0, 74.0]],\n",
    "              [['captain', 'america'], [80.0, 70.0, 96.0]],\n",
    "              [['deadpool'], []]]\n",
    "\n",
    "print(get_stats(test_grades))"
   ],
   "id": "ed4f4d354a533432",
   "outputs": [
    {
     "name": "stdout",
     "output_type": "stream",
     "text": [
      "warning: no grades data\n",
      "[[['peter', 'parker'], [80.0, 70.0, 85.0], 78.33333333333333], [['bruce', 'wayne'], [100.0, 80.0, 74.0], 84.66666666666667], [['captain', 'america'], [80.0, 70.0, 96.0], 82.0], [['deadpool'], [], 0.0]]\n"
     ]
    }
   ],
   "execution_count": 41
  },
  {
   "metadata": {
    "ExecuteTime": {
     "end_time": "2025-02-28T14:29:48.641532Z",
     "start_time": "2025-02-28T14:29:48.632854Z"
    }
   },
   "cell_type": "code",
   "source": [
    "def get_stats(class_list):\n",
    "\tnew_stats = []\n",
    "\tfor person in class_list:\n",
    "\t\tnew_stats.append([person[0], person[1], avg(person[1])])\n",
    "\treturn new_stats"
   ],
   "id": "58dc738a188476d3",
   "outputs": [],
   "execution_count": 42
  },
  {
   "metadata": {
    "ExecuteTime": {
     "end_time": "2025-02-28T14:32:15.714403Z",
     "start_time": "2025-02-28T14:32:15.710941Z"
    }
   },
   "cell_type": "code",
   "source": [
    "# avg function: version with assert\n",
    "def avg(grades):\n",
    "    assert len(grades) != 0, 'warning: no grades data'\n",
    "    return sum(grades)/len(grades)"
   ],
   "id": "d54462f7aff077d5",
   "outputs": [],
   "execution_count": 43
  },
  {
   "metadata": {
    "ExecuteTime": {
     "end_time": "2025-02-28T14:32:24.761033Z",
     "start_time": "2025-02-28T14:32:24.731891Z"
    }
   },
   "cell_type": "code",
   "source": "print(get_stats(test_grades))",
   "id": "f587cbaf80894c3b",
   "outputs": [
    {
     "ename": "AssertionError",
     "evalue": "warning: no grades data",
     "output_type": "error",
     "traceback": [
      "\u001B[0;31m---------------------------------------------------------------------------\u001B[0m",
      "\u001B[0;31mAssertionError\u001B[0m                            Traceback (most recent call last)",
      "Cell \u001B[0;32mIn[45], line 1\u001B[0m\n\u001B[0;32m----> 1\u001B[0m \u001B[38;5;28mprint\u001B[39m(\u001B[43mget_stats\u001B[49m\u001B[43m(\u001B[49m\u001B[43mtest_grades\u001B[49m\u001B[43m)\u001B[49m)\n",
      "Cell \u001B[0;32mIn[42], line 4\u001B[0m, in \u001B[0;36mget_stats\u001B[0;34m(class_list)\u001B[0m\n\u001B[1;32m      2\u001B[0m new_stats \u001B[38;5;241m=\u001B[39m []\n\u001B[1;32m      3\u001B[0m \u001B[38;5;28;01mfor\u001B[39;00m person \u001B[38;5;129;01min\u001B[39;00m class_list:\n\u001B[0;32m----> 4\u001B[0m \tnew_stats\u001B[38;5;241m.\u001B[39mappend([person[\u001B[38;5;241m0\u001B[39m], person[\u001B[38;5;241m1\u001B[39m], \u001B[43mavg\u001B[49m\u001B[43m(\u001B[49m\u001B[43mperson\u001B[49m\u001B[43m[\u001B[49m\u001B[38;5;241;43m1\u001B[39;49m\u001B[43m]\u001B[49m\u001B[43m)\u001B[49m])\n\u001B[1;32m      5\u001B[0m \u001B[38;5;28;01mreturn\u001B[39;00m new_stats\n",
      "Cell \u001B[0;32mIn[43], line 3\u001B[0m, in \u001B[0;36mavg\u001B[0;34m(grades)\u001B[0m\n\u001B[1;32m      2\u001B[0m \u001B[38;5;28;01mdef\u001B[39;00m\u001B[38;5;250m \u001B[39m\u001B[38;5;21mavg\u001B[39m(grades):\n\u001B[0;32m----> 3\u001B[0m     \u001B[38;5;28;01massert\u001B[39;00m \u001B[38;5;28mlen\u001B[39m(grades) \u001B[38;5;241m!=\u001B[39m \u001B[38;5;241m0\u001B[39m, \u001B[38;5;124m'\u001B[39m\u001B[38;5;124mwarning: no grades data\u001B[39m\u001B[38;5;124m'\u001B[39m\n\u001B[1;32m      4\u001B[0m     \u001B[38;5;28;01mreturn\u001B[39;00m \u001B[38;5;28msum\u001B[39m(grades)\u001B[38;5;241m/\u001B[39m\u001B[38;5;28mlen\u001B[39m(grades)\n",
      "\u001B[0;31mAssertionError\u001B[0m: warning: no grades data"
     ]
    }
   ],
   "execution_count": 45
  }
 ],
 "metadata": {
  "kernelspec": {
   "display_name": "Python 3",
   "language": "python",
   "name": "python3"
  },
  "language_info": {
   "codemirror_mode": {
    "name": "ipython",
    "version": 2
   },
   "file_extension": ".py",
   "mimetype": "text/x-python",
   "name": "python",
   "nbconvert_exporter": "python",
   "pygments_lexer": "ipython2",
   "version": "2.7.6"
  }
 },
 "nbformat": 4,
 "nbformat_minor": 5
}
