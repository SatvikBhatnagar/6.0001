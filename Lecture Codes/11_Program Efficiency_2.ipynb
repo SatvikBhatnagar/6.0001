{
 "cells": [
  {
   "metadata": {
    "ExecuteTime": {
     "end_time": "2025-03-06T13:11:40.561730Z",
     "start_time": "2025-03-06T13:11:40.559106Z"
    }
   },
   "cell_type": "code",
   "source": [
    "###############################\n",
    "## EXERCISE: BISECTION SEARCH\n",
    "## O(log n) COMPLEXITY\n",
    "###############################"
   ],
   "id": "7013859adacb2a21",
   "outputs": [],
   "execution_count": 2
  },
  {
   "cell_type": "code",
   "id": "initial_id",
   "metadata": {
    "collapsed": true,
    "ExecuteTime": {
     "end_time": "2025-03-06T06:38:08.699945Z",
     "start_time": "2025-03-06T06:38:08.687644Z"
    }
   },
   "source": [
    "def bisect_search2(L, e):\n",
    "    def bisect_search_helper(L, e, low, high):\n",
    "        print('low: ' + str(low) + '; high: ' + str(high))  #added to visualize\n",
    "        if high == low:\n",
    "            return L[low] == e\n",
    "        mid = (low + high)//2\n",
    "        if L[mid] == e:\n",
    "            return True\n",
    "        elif L[mid] > e:\n",
    "            if low == mid: #nothing left to search\n",
    "                return False\n",
    "            else:\n",
    "                return bisect_search_helper(L, e, low, mid - 1)\n",
    "        else:\n",
    "            return bisect_search_helper(L, e, mid + 1, high)\n",
    "    if len(L) == 0:\n",
    "        return False\n",
    "    else:\n",
    "        return bisect_search_helper(L, e, 0, len(L) - 1)"
   ],
   "outputs": [],
   "execution_count": 12
  },
  {
   "metadata": {
    "ExecuteTime": {
     "end_time": "2025-03-06T06:38:09.911666Z",
     "start_time": "2025-03-06T06:38:09.904179Z"
    }
   },
   "cell_type": "code",
   "source": [
    "testList = []\n",
    "for i in range(10000):\n",
    "    testList.append(i)"
   ],
   "id": "956d34a4308bab48",
   "outputs": [],
   "execution_count": 13
  },
  {
   "metadata": {
    "ExecuteTime": {
     "end_time": "2025-03-06T06:38:11.036893Z",
     "start_time": "2025-03-06T06:38:11.028113Z"
    }
   },
   "cell_type": "code",
   "source": "print(bisect_search2(testList, 3407))",
   "id": "8f26de2976a8a5c4",
   "outputs": [
    {
     "name": "stdout",
     "output_type": "stream",
     "text": [
      "low: 0; high: 9999\n",
      "low: 0; high: 4998\n",
      "low: 2500; high: 4998\n",
      "low: 2500; high: 3748\n",
      "low: 3125; high: 3748\n",
      "low: 3125; high: 3435\n",
      "low: 3281; high: 3435\n",
      "low: 3359; high: 3435\n",
      "low: 3398; high: 3435\n",
      "low: 3398; high: 3415\n",
      "low: 3407; high: 3415\n",
      "low: 3407; high: 3410\n",
      "low: 3407; high: 3407\n",
      "True\n"
     ]
    }
   ],
   "execution_count": 14
  },
  {
   "metadata": {
    "ExecuteTime": {
     "end_time": "2025-03-06T13:10:54.181058Z",
     "start_time": "2025-03-06T13:10:54.178505Z"
    }
   },
   "cell_type": "code",
   "source": [
    "###############################\n",
    "## EXERCISE: GENERATE POWER SET\n",
    "## EXPONENTIAL COMPLEXITY\n",
    "###############################"
   ],
   "id": "eb52c8294a71c39c",
   "outputs": [],
   "execution_count": 1
  },
  {
   "metadata": {
    "ExecuteTime": {
     "end_time": "2025-03-06T06:38:12.514347Z",
     "start_time": "2025-03-06T06:38:12.510374Z"
    }
   },
   "cell_type": "code",
   "source": [
    "def genSubsets(L):\n",
    "    res = []\n",
    "    if len(L) == 0:\n",
    "        return [[]] #list of empty list\n",
    "    smaller = genSubsets(L[:-1]) # all subsets without last element\n",
    "    extra = L[-1:] # create a list of just last element\n",
    "    new = []\n",
    "    for small in smaller:\n",
    "        new.append(small+extra)  # for all smaller solutions, add one with last element\n",
    "    return smaller+new  # combine those with last element and those without\n",
    "\n",
    "\n",
    "testSet = [1,2,3,4]\n",
    "print(genSubsets(testSet))"
   ],
   "id": "625c002248029220",
   "outputs": [
    {
     "name": "stdout",
     "output_type": "stream",
     "text": [
      "[[], [1], [2], [1, 2], [3], [1, 3], [2, 3], [1, 2, 3], [4], [1, 4], [2, 4], [1, 2, 4], [3, 4], [1, 3, 4], [2, 3, 4], [1, 2, 3, 4]]\n"
     ]
    }
   ],
   "execution_count": 16
  },
  {
   "metadata": {
    "ExecuteTime": {
     "end_time": "2025-03-06T06:38:13.233391Z",
     "start_time": "2025-03-06T06:38:13.230890Z"
    }
   },
   "cell_type": "code",
   "source": "testSet = [i for i in range(4)]",
   "id": "9da7f838c8fd0fcc",
   "outputs": [],
   "execution_count": 17
  },
  {
   "metadata": {
    "ExecuteTime": {
     "end_time": "2025-03-06T06:38:13.580415Z",
     "start_time": "2025-03-06T06:38:13.574364Z"
    }
   },
   "cell_type": "code",
   "source": "print(genSubsets(testSet))",
   "id": "a26596302398c530",
   "outputs": [
    {
     "name": "stdout",
     "output_type": "stream",
     "text": [
      "[[], [0], [1], [0, 1], [2], [0, 2], [1, 2], [0, 1, 2], [3], [0, 3], [1, 3], [0, 1, 3], [2, 3], [0, 2, 3], [1, 2, 3], [0, 1, 2, 3]]\n"
     ]
    }
   ],
   "execution_count": 18
  }
 ],
 "metadata": {
  "kernelspec": {
   "display_name": "Python 3",
   "language": "python",
   "name": "python3"
  },
  "language_info": {
   "codemirror_mode": {
    "name": "ipython",
    "version": 2
   },
   "file_extension": ".py",
   "mimetype": "text/x-python",
   "name": "python",
   "nbconvert_exporter": "python",
   "pygments_lexer": "ipython2",
   "version": "2.7.6"
  }
 },
 "nbformat": 4,
 "nbformat_minor": 5
}
