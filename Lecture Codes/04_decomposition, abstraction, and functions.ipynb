{
 "cells": [
  {
   "cell_type": "code",
   "id": "initial_id",
   "metadata": {
    "collapsed": true,
    "ExecuteTime": {
     "end_time": "2025-02-22T11:01:40.862518Z",
     "start_time": "2025-02-22T11:01:40.858533Z"
    }
   },
   "source": [
    "#########################\n",
    "## EXAMPLE: combinations of print and return\n",
    "## Python Tutor link: http://www.pythontutor.com/visualize.html#code=def%20is_even_with_return(%20i%20%29%3A%0A%20%20%20%20%22%22%22%20%0A%20%20%20%20Input%3A%20i,%20a%20positive%20int%0A%20%20%20%20Returns%20True%20if%20i%20is%20even,%20otherwise%20False%0A%20%20%20%20%22%22%22%0A%20%20%20%20print('with%20return'%29%0A%20%20%20%20remainder%20%3D%20i%20%25%202%0A%20%20%20%20return%20remainder%20%3D%3D%200%0A%0Ais_even_with_return(3%29%20%0Aprint(is_even_with_return(3%29%20%29%0A%0Adef%20is_even_without_return(%20i%20%29%3A%0A%20%20%20%20%22%22%22%20%0A%20%20%20%20Input%3A%20i,%20a%20positive%20int%0A%20%20%20%20Does%20not%20return%20anything%0A%20%20%20%20%22%22%22%0A%20%20%20%20print('without%20return'%29%0A%0Ais_even_without_return(3%29%0Aprint(is_even_without_return(3%29%20%29%0A&cumulative=false&curInstr=0&heapPrimitives=false&mode=display&origin=opt-frontend.js&py=3&rawInputLstJSON=%5B%5D&textReferences=false\n",
    "#########################"
   ],
   "outputs": [],
   "execution_count": 1
  },
  {
   "metadata": {
    "ExecuteTime": {
     "end_time": "2025-02-22T11:19:42.521426Z",
     "start_time": "2025-02-22T11:19:42.517576Z"
    }
   },
   "cell_type": "code",
   "source": [
    "def is_even_with_return( i ):\n",
    "    \"\"\"\n",
    "    Input: i, a positive int\n",
    "    Returns: True if i is even, False otherwise\n",
    "    \"\"\"\n",
    "    print(\"with return\")\n",
    "    remainder = i % 2\n",
    "    return remainder == 0 # the jupyter notebook here prints the False, in the main program, only the line with print() statement is printed\n",
    "\n",
    "is_even_with_return(3)"
   ],
   "id": "e9673af57faed7e9",
   "outputs": [
    {
     "name": "stdout",
     "output_type": "stream",
     "text": [
      "with return\n"
     ]
    },
    {
     "data": {
      "text/plain": [
       "False"
      ]
     },
     "execution_count": 15,
     "metadata": {},
     "output_type": "execute_result"
    }
   ],
   "execution_count": 15
  },
  {
   "metadata": {
    "ExecuteTime": {
     "end_time": "2025-02-22T11:19:43.383124Z",
     "start_time": "2025-02-22T11:19:43.380224Z"
    }
   },
   "cell_type": "code",
   "source": "print(is_even_with_return(3))",
   "id": "ea6cf52c56b1fc66",
   "outputs": [
    {
     "name": "stdout",
     "output_type": "stream",
     "text": [
      "with return\n",
      "False\n"
     ]
    }
   ],
   "execution_count": 16
  },
  {
   "metadata": {
    "ExecuteTime": {
     "end_time": "2025-02-22T11:19:46.774515Z",
     "start_time": "2025-02-22T11:19:46.768510Z"
    }
   },
   "cell_type": "code",
   "source": [
    "def is_even_without_return( i ):\n",
    "    \"\"\"\n",
    "    Input: i, a positive int\n",
    "    Does not return anything\n",
    "    \"\"\"\n",
    "    print('without return')\n",
    "    remainder = i % 2\n",
    "\n",
    "is_even_without_return(3)"
   ],
   "id": "cc03dbcf2474c334",
   "outputs": [
    {
     "name": "stdout",
     "output_type": "stream",
     "text": [
      "without return\n"
     ]
    }
   ],
   "execution_count": 17
  },
  {
   "metadata": {
    "ExecuteTime": {
     "end_time": "2025-02-22T11:19:47.806160Z",
     "start_time": "2025-02-22T11:19:47.800756Z"
    }
   },
   "cell_type": "code",
   "source": "print(is_even_without_return(3) )",
   "id": "ff18cfca86b1c424",
   "outputs": [
    {
     "name": "stdout",
     "output_type": "stream",
     "text": [
      "without return\n",
      "None\n"
     ]
    }
   ],
   "execution_count": 18
  },
  {
   "metadata": {
    "ExecuteTime": {
     "end_time": "2025-02-22T11:21:27.444883Z",
     "start_time": "2025-02-22T11:21:27.442394Z"
    }
   },
   "cell_type": "code",
   "source": [
    "# Simple is_even function definition\n",
    "def is_even( i ):\n",
    "    \"\"\"\n",
    "    Input: i, a positive int\n",
    "    Returns True if i is even, otherwise False\n",
    "    \"\"\"\n",
    "    remainder = i % 2\n",
    "    return remainder == 0"
   ],
   "id": "dae6560bd37af482",
   "outputs": [],
   "execution_count": 20
  },
  {
   "metadata": {
    "ExecuteTime": {
     "end_time": "2025-02-22T11:21:39.662375Z",
     "start_time": "2025-02-22T11:21:39.657582Z"
    }
   },
   "cell_type": "code",
   "source": [
    "# Use the is_even function later on in the code\n",
    "print(\"All numbers between 0 and 20: even or not\")\n",
    "for i in range(20):\n",
    "    if is_even(i):\n",
    "        print(i, \"even\")\n",
    "    else:\n",
    "        print(i, \"odd\")"
   ],
   "id": "3ab9d512cf929f85",
   "outputs": [
    {
     "name": "stdout",
     "output_type": "stream",
     "text": [
      "All numbers between 0 and 20: even or not\n",
      "0 even\n",
      "1 odd\n",
      "2 even\n",
      "3 odd\n",
      "4 even\n",
      "5 odd\n",
      "6 even\n",
      "7 odd\n",
      "8 even\n",
      "9 odd\n",
      "10 even\n",
      "11 odd\n",
      "12 even\n",
      "13 odd\n",
      "14 even\n",
      "15 odd\n",
      "16 even\n",
      "17 odd\n",
      "18 even\n",
      "19 odd\n"
     ]
    }
   ],
   "execution_count": 21
  },
  {
   "metadata": {
    "ExecuteTime": {
     "end_time": "2025-02-22T11:22:22.249931Z",
     "start_time": "2025-02-22T11:22:22.245948Z"
    }
   },
   "cell_type": "code",
   "source": [
    "#########################\n",
    "## EXAMPLE: applying functions to repeat same task many times\n",
    "#########################"
   ],
   "id": "983e76e2a9322e0f",
   "outputs": [],
   "execution_count": 22
  },
  {
   "metadata": {
    "ExecuteTime": {
     "end_time": "2025-02-22T11:22:34.050619Z",
     "start_time": "2025-02-22T11:22:34.044279Z"
    }
   },
   "cell_type": "code",
   "source": [
    "def bisection_cuberoot_approx(x, epsilon):\n",
    "    \"\"\"\n",
    "    Input: x, an integer\n",
    "    Uses bisection to approximate the cube root of x to within epsilon\n",
    "    Returns: a float approximating the cube root of x\n",
    "    \"\"\"\n",
    "    low = 0.0\n",
    "    high = x\n",
    "    guess = (high + low)/2.0\n",
    "    while abs(guess**3 - x) >= epsilon:\n",
    "        if guess**3 < x:\n",
    "            low = guess\n",
    "        else:\n",
    "            high = guess\n",
    "        guess = (high + low)/2.0\n",
    "    return guess"
   ],
   "id": "ef08ae3882a94551",
   "outputs": [],
   "execution_count": 23
  },
  {
   "metadata": {
    "ExecuteTime": {
     "end_time": "2025-02-22T11:22:40.281542Z",
     "start_time": "2025-02-22T11:22:40.274808Z"
    }
   },
   "cell_type": "code",
   "source": [
    "x = 1\n",
    "while x <= 10000:\n",
    "    approx = bisection_cuberoot_approx(x, 0.01)\n",
    "    print(approx, \"is close to cube root of\", x)\n",
    "    x *= 10"
   ],
   "id": "b38e8989413170b7",
   "outputs": [
    {
     "name": "stdout",
     "output_type": "stream",
     "text": [
      "0.998046875 is close to cube root of 1\n",
      "2.154541015625 is close to cube root of 10\n",
      "4.6417236328125 is close to cube root of 100\n",
      "9.999990463256836 is close to cube root of 1000\n",
      "21.54434099793434 is close to cube root of 10000\n"
     ]
    }
   ],
   "execution_count": 24
  },
  {
   "metadata": {
    "ExecuteTime": {
     "end_time": "2025-02-22T11:37:39.644159Z",
     "start_time": "2025-02-22T11:37:39.641342Z"
    }
   },
   "cell_type": "code",
   "source": [
    "#########################\n",
    "## EXAMPLE: functions as arguments\n",
    "## Python Tutor link: http://www.pythontutor.com/visualize.html#code=def%20func_a(%29%3A%0A%20%20%20%20print('inside%20func_a'%29%0A%0Adef%20func_b(y%29%3A%0A%20%20%20%20print('inside%20func_b'%29%0A%20%20%20%20return%20y%0A%0Adef%20func_c(z%29%3A%0A%20%20%20%20print('inside%20func_c'%29%0A%20%20%20%20return%20z(%29%0A%0Aprint(func_a(%29%29%0Aprint(5%2Bfunc_b(2%29%29%0Aprint(func_c(func_a%29%29%0A&cumulative=false&curInstr=0&heapPrimitives=false&mode=display&origin=opt-frontend.js&py=3&rawInputLstJSON=%5B%5D&textReferences=false\n",
    "#########################"
   ],
   "id": "a5dd60ed38b41da3",
   "outputs": [],
   "execution_count": 25
  },
  {
   "metadata": {
    "ExecuteTime": {
     "end_time": "2025-02-22T11:39:16.009051Z",
     "start_time": "2025-02-22T11:39:16.005899Z"
    }
   },
   "cell_type": "code",
   "source": [
    "def func_a():\n",
    "    print('inside func_a')\n",
    "\n",
    "def func_b(y):\n",
    "    print('inside func_b')\n",
    "    return y\n",
    "\n",
    "def func_c(z):\n",
    "    print('inside func_c')\n",
    "    return z()\n",
    "\n",
    "print(func_a())\n",
    "print(5+func_b(2))\n",
    "print(func_c(func_a))"
   ],
   "id": "5eed8c04e6ccde74",
   "outputs": [
    {
     "name": "stdout",
     "output_type": "stream",
     "text": [
      "inside func_a\n",
      "None\n",
      "inside func_b\n",
      "7\n",
      "inside func_c\n",
      "inside func_a\n",
      "None\n"
     ]
    }
   ],
   "execution_count": 28
  },
  {
   "metadata": {
    "ExecuteTime": {
     "end_time": "2025-02-22T11:41:57.383061Z",
     "start_time": "2025-02-22T11:41:57.380452Z"
    }
   },
   "cell_type": "code",
   "source": [
    "#########################\n",
    "## EXAMPLE: returning function objects\n",
    "## Python Tutor link: http://www.pythontutor.com/visualize.html#code=def%20f(%29%3A%0A%20%20%20%20def%20x(a,%20b%29%3A%0A%20%20%20%20%20%20%20%20return%20a%2Bb%0A%20%20%20%20return%20x%0A%20%20%20%20%0Aval%20%3D%20f(%29(3,4%29%0Aprint(val%29%0A&cumulative=false&curInstr=0&heapPrimitives=false&mode=display&origin=opt-frontend.js&py=3&rawInputLstJSON=%5B%5D&textReferences=false\n",
    "#########################"
   ],
   "id": "7e1e4a6b1eadf1ba",
   "outputs": [],
   "execution_count": 29
  },
  {
   "metadata": {
    "ExecuteTime": {
     "end_time": "2025-02-22T11:41:59.847845Z",
     "start_time": "2025-02-22T11:41:59.844046Z"
    }
   },
   "cell_type": "code",
   "source": [
    "def f():\n",
    "    def x(a, b):\n",
    "        return a+b\n",
    "    return x\n",
    "\n",
    "# the first part, f(), returns a function object\n",
    "# then apply that function with parameters 3 and 4\n",
    "val = f()(3,4)\n",
    "print(val)"
   ],
   "id": "33cc4a2ee67e6fa9",
   "outputs": [
    {
     "name": "stdout",
     "output_type": "stream",
     "text": [
      "7\n"
     ]
    }
   ],
   "execution_count": 30
  },
  {
   "metadata": {
    "ExecuteTime": {
     "end_time": "2025-02-22T11:42:55.475091Z",
     "start_time": "2025-02-22T11:42:55.471437Z"
    }
   },
   "cell_type": "code",
   "source": [
    "#########################\n",
    "## EXAMPLE: shows accessing variables outside scope\n",
    "#########################"
   ],
   "id": "bffafa628103ca8b",
   "outputs": [],
   "execution_count": 31
  },
  {
   "metadata": {
    "ExecuteTime": {
     "end_time": "2025-02-22T11:43:13.722400Z",
     "start_time": "2025-02-22T11:43:13.719327Z"
    }
   },
   "cell_type": "code",
   "source": [
    "def f(y):\n",
    "    x = 1\n",
    "    x += 1\n",
    "    print(x)\n",
    "x = 5\n",
    "f(x)\n",
    "print(x)"
   ],
   "id": "6b0d5ef785c51485",
   "outputs": [
    {
     "name": "stdout",
     "output_type": "stream",
     "text": [
      "2\n",
      "5\n"
     ]
    }
   ],
   "execution_count": 32
  },
  {
   "metadata": {
    "ExecuteTime": {
     "end_time": "2025-02-22T11:43:45.303143Z",
     "start_time": "2025-02-22T11:43:45.299568Z"
    }
   },
   "cell_type": "code",
   "source": [
    "def g(y):\n",
    "    print(x)\n",
    "    print(x+1)\n",
    "x = 5\n",
    "g(x)\n",
    "print(x)"
   ],
   "id": "98510cef0c7cb9b4",
   "outputs": [
    {
     "name": "stdout",
     "output_type": "stream",
     "text": [
      "5\n",
      "6\n",
      "5\n"
     ]
    }
   ],
   "execution_count": 33
  },
  {
   "metadata": {
    "ExecuteTime": {
     "end_time": "2025-02-22T11:46:33.308525Z",
     "start_time": "2025-02-22T11:46:33.290566Z"
    }
   },
   "cell_type": "code",
   "source": [
    "def h(y):\n",
    "    pass\n",
    "    x += 1 #leads to an error without line `global x` inside h\n",
    "x = 5\n",
    "h(x)\n",
    "print(x)"
   ],
   "id": "ec66185d7e002695",
   "outputs": [
    {
     "ename": "UnboundLocalError",
     "evalue": "cannot access local variable 'x' where it is not associated with a value",
     "output_type": "error",
     "traceback": [
      "\u001B[0;31m---------------------------------------------------------------------------\u001B[0m",
      "\u001B[0;31mUnboundLocalError\u001B[0m                         Traceback (most recent call last)",
      "Cell \u001B[0;32mIn[38], line 5\u001B[0m\n\u001B[1;32m      3\u001B[0m     x \u001B[38;5;241m+\u001B[39m\u001B[38;5;241m=\u001B[39m \u001B[38;5;241m1\u001B[39m \u001B[38;5;66;03m#leads to an error without line `global x` inside h\u001B[39;00m\n\u001B[1;32m      4\u001B[0m x \u001B[38;5;241m=\u001B[39m \u001B[38;5;241m5\u001B[39m\n\u001B[0;32m----> 5\u001B[0m \u001B[43mh\u001B[49m\u001B[43m(\u001B[49m\u001B[43mx\u001B[49m\u001B[43m)\u001B[49m\n\u001B[1;32m      6\u001B[0m \u001B[38;5;28mprint\u001B[39m(x)\n",
      "Cell \u001B[0;32mIn[38], line 3\u001B[0m, in \u001B[0;36mh\u001B[0;34m(y)\u001B[0m\n\u001B[1;32m      1\u001B[0m \u001B[38;5;28;01mdef\u001B[39;00m\u001B[38;5;250m \u001B[39m\u001B[38;5;21mh\u001B[39m(y):\n\u001B[1;32m      2\u001B[0m     \u001B[38;5;28;01mpass\u001B[39;00m\n\u001B[0;32m----> 3\u001B[0m     \u001B[43mx\u001B[49m \u001B[38;5;241m+\u001B[39m\u001B[38;5;241m=\u001B[39m \u001B[38;5;241m1\u001B[39m\n",
      "\u001B[0;31mUnboundLocalError\u001B[0m: cannot access local variable 'x' where it is not associated with a value"
     ]
    }
   ],
   "execution_count": 38
  },
  {
   "metadata": {
    "ExecuteTime": {
     "end_time": "2025-02-22T11:47:15.932390Z",
     "start_time": "2025-02-22T11:47:15.928319Z"
    }
   },
   "cell_type": "code",
   "source": [
    "#########################\n",
    "## EXAMPLE: hader scope example from slides\n",
    "## Python Tutor link: http://www.pythontutor.com/visualize.html#code=def%20g(x%29%3A%0A%20%20%20%20def%20h(%29%3A%0A%20%20%20%20%20%20%20%20x%20%3D%20'abc'%0A%20%20%20%20x%20%3D%20x%20%2B%201%0A%20%20%20%20print('in%20g(x%29%3A%20x%20%3D',%20x%29%0A%20%20%20%20h(%29%0A%20%20%20%20return%20x%0A%0Ax%20%3D%203%0Az%20%3D%20g(x%29&cumulative=false&curInstr=0&heapPrimitives=false&mode=display&origin=opt-frontend.js&py=3&rawInputLstJSON=%5B%5D&textReferences=false\n",
    "#########################"
   ],
   "id": "f993931be1595e13",
   "outputs": [],
   "execution_count": 39
  },
  {
   "metadata": {
    "ExecuteTime": {
     "end_time": "2025-02-22T11:54:11.216513Z",
     "start_time": "2025-02-22T11:54:11.213093Z"
    }
   },
   "cell_type": "code",
   "source": [
    "def g(x):\n",
    "    def h():\n",
    "        x = 'abc'\n",
    "    x = x + 1\n",
    "    print('in g(x): x =', x)\n",
    "    print(h())\n",
    "    return x\n",
    "\n",
    "x = 3\n",
    "z = g(x)\n",
    "print('z:', z, 'x:', x)"
   ],
   "id": "b337a4caa9f6f79e",
   "outputs": [
    {
     "name": "stdout",
     "output_type": "stream",
     "text": [
      "in g(x): x = 4\n",
      "None\n",
      "z: 4 x: 3\n"
     ]
    }
   ],
   "execution_count": 46
  },
  {
   "metadata": {
    "ExecuteTime": {
     "end_time": "2025-02-22T11:54:14.190093Z",
     "start_time": "2025-02-22T11:54:14.187528Z"
    }
   },
   "cell_type": "code",
   "source": [
    "#########################\n",
    "## EXAMPLE: complicated scope, test yourself!\n",
    "## Python Tutor link: http://www.pythontutor.com/visualize.html#code=def%20f(x%29%3A%0A%20%20%20x%20%3D%20x%20%2B%201%0A%20%20%20print('in%20f(x%29%3A%20x%20%3D',%20x%29%0A%20%20%20return%20x%0A%0Ax%20%3D%203%0Az%20%3D%20f(x%29%0Aprint('in%20main%20program%20scope%3A%20z%20%3D',%20z%29%0Aprint('in%20main%20program%20scope%3A%20x%20%3D',%20x%29%0A%0Adef%20g(x%29%3A%0A%20%20%20%20def%20h(x%29%3A%0A%20%20%20%20%20%20%20%20x%20%3D%20x%2B1%0A%20%20%20%20%20%20%20%20print(%22in%20h(x%29%3A%20x%20%3D%20%22,%20x%29%0A%20%20%20%20x%20%3D%20x%20%2B%201%0A%20%20%20%20print('in%20g(x%29%3A%20x%20%3D%20',%20x%29%0A%20%20%20%20h(x%29%0A%20%20%20%20return%20x%0A%0Ax%20%3D%203%0Az%20%3D%20g(x%29%0Aprint('in%20main%20program%20scope%3A%20x%20%3D%20',%20x%29%0Aprint('in%20main%20program%20scope%3A%20z%20%3D%20',%20z%29%0A&cumulative=false&curInstr=0&heapPrimitives=false&mode=display&origin=opt-frontend.js&py=3&rawInputLstJSON=%5B%5D&textReferences=false\n",
    "#########################"
   ],
   "id": "1f3c7f4f1001a382",
   "outputs": [],
   "execution_count": 47
  },
  {
   "metadata": {
    "ExecuteTime": {
     "end_time": "2025-02-22T11:54:14.531638Z",
     "start_time": "2025-02-22T11:54:14.490610Z"
    }
   },
   "cell_type": "code",
   "source": [
    "def f(x):\n",
    "   x = x + 1\n",
    "   print('in f(x): x =', x)\n",
    "   return x\n",
    "\n",
    "x = 3\n",
    "z = f(x)\n",
    "print('in main program scope: z =', z)\n",
    "print('in main program scope: x =', x)"
   ],
   "id": "d75a29e5c202346b",
   "outputs": [
    {
     "name": "stdout",
     "output_type": "stream",
     "text": [
      "in f(x): x = 4\n",
      "in main program scope: z = 4\n",
      "in main program scope: x = 3\n"
     ]
    }
   ],
   "execution_count": 48
  },
  {
   "metadata": {
    "ExecuteTime": {
     "end_time": "2025-02-22T11:54:29.981076Z",
     "start_time": "2025-02-22T11:54:29.974124Z"
    }
   },
   "cell_type": "code",
   "source": [
    "def g(x):\n",
    "    def h(x):\n",
    "        x = x+1\n",
    "        print(\"in h(x): x = \", x)\n",
    "    x = x + 1\n",
    "    print('in g(x): x = ', x)\n",
    "    h(x)\n",
    "    return x\n",
    "\n",
    "x = 3\n",
    "z = g(x)\n",
    "print('in main program scope: x = ', x)\n",
    "print('in main program scope: z = ', z)"
   ],
   "id": "58de7b4338cefe5e",
   "outputs": [
    {
     "name": "stdout",
     "output_type": "stream",
     "text": [
      "in g(x): x =  4\n",
      "in h(x): x =  5\n",
      "in main program scope: x =  3\n",
      "in main program scope: z =  4\n"
     ]
    }
   ],
   "execution_count": 49
  }
 ],
 "metadata": {
  "kernelspec": {
   "display_name": "Python 3",
   "language": "python",
   "name": "python3"
  },
  "language_info": {
   "codemirror_mode": {
    "name": "ipython",
    "version": 2
   },
   "file_extension": ".py",
   "mimetype": "text/x-python",
   "name": "python",
   "nbconvert_exporter": "python",
   "pygments_lexer": "ipython2",
   "version": "2.7.6"
  }
 },
 "nbformat": 4,
 "nbformat_minor": 5
}
