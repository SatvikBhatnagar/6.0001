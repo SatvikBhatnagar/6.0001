{
 "cells": [
  {
   "metadata": {
    "ExecuteTime": {
     "end_time": "2025-03-03T04:15:18.797567Z",
     "start_time": "2025-03-03T04:15:18.791381Z"
    }
   },
   "cell_type": "code",
   "source": [
    "#################################\n",
    "## Animal abstract data type\n",
    "#################################"
   ],
   "id": "3e68b0972f0ddcb0",
   "outputs": [],
   "execution_count": 54
  },
  {
   "metadata": {
    "ExecuteTime": {
     "end_time": "2025-03-03T04:15:19.499382Z",
     "start_time": "2025-03-03T04:15:19.489550Z"
    }
   },
   "cell_type": "code",
   "source": [
    "class Animal(object):\n",
    "    def __init__(self, age):\n",
    "        self.age = age\n",
    "        self.name = None\n",
    "    def get_age(self):\n",
    "        return self.age\n",
    "    def get_name(self):\n",
    "        return self.name\n",
    "    def set_age(self, newage):\n",
    "        self.age = newage\n",
    "    def set_name(self, newname=\"\"):\n",
    "        self.name = newname\n",
    "    def __str__(self):\n",
    "        return \"animal:\"+str(self.name)+\":\"+str(self.age)"
   ],
   "id": "5300923139a79c1e",
   "outputs": [],
   "execution_count": 55
  },
  {
   "metadata": {
    "ExecuteTime": {
     "end_time": "2025-03-03T04:15:20.465735Z",
     "start_time": "2025-03-03T04:15:20.456766Z"
    }
   },
   "cell_type": "code",
   "source": [
    "print(\"---- animal tests ----\\n\")\n",
    "a = Animal(4)\n",
    "print(a)\n",
    "print(a.get_age())"
   ],
   "id": "1fa817e60b5d1dca",
   "outputs": [
    {
     "name": "stdout",
     "output_type": "stream",
     "text": [
      "---- animal tests ----\n",
      "\n",
      "animal:None:4\n",
      "4\n"
     ]
    }
   ],
   "execution_count": 56
  },
  {
   "metadata": {
    "ExecuteTime": {
     "end_time": "2025-03-03T04:15:20.838285Z",
     "start_time": "2025-03-03T04:15:20.834034Z"
    }
   },
   "cell_type": "code",
   "source": [
    "a.set_name(\"fluffy\")\n",
    "print(a)"
   ],
   "id": "41b53cba6ef8ba35",
   "outputs": [
    {
     "name": "stdout",
     "output_type": "stream",
     "text": [
      "animal:fluffy:4\n"
     ]
    }
   ],
   "execution_count": 57
  },
  {
   "metadata": {
    "ExecuteTime": {
     "end_time": "2025-03-03T04:15:21.283413Z",
     "start_time": "2025-03-03T04:15:21.278432Z"
    }
   },
   "cell_type": "code",
   "source": [
    "a.set_name()\n",
    "print(a)"
   ],
   "id": "bff980607443fd86",
   "outputs": [
    {
     "name": "stdout",
     "output_type": "stream",
     "text": [
      "animal::4\n"
     ]
    }
   ],
   "execution_count": 58
  },
  {
   "metadata": {
    "ExecuteTime": {
     "end_time": "2025-03-03T04:15:21.701531Z",
     "start_time": "2025-03-03T04:15:21.697551Z"
    }
   },
   "cell_type": "code",
   "source": "a.size = \"tiny\" # python allows to do this, but this isn't a good style (use getters and setters for this)",
   "id": "8d21b6dcd8b4ad1e",
   "outputs": [],
   "execution_count": 59
  },
  {
   "metadata": {
    "ExecuteTime": {
     "end_time": "2025-03-03T04:15:22.082583Z",
     "start_time": "2025-03-03T04:15:22.077936Z"
    }
   },
   "cell_type": "code",
   "source": "print(a.size)",
   "id": "2b192ec1d55ffcf9",
   "outputs": [
    {
     "name": "stdout",
     "output_type": "stream",
     "text": [
      "tiny\n"
     ]
    }
   ],
   "execution_count": 60
  },
  {
   "metadata": {
    "ExecuteTime": {
     "end_time": "2025-03-03T04:15:22.470983Z",
     "start_time": "2025-03-03T04:15:22.466523Z"
    }
   },
   "cell_type": "code",
   "source": [
    "#################################\n",
    "## Inheritance example\n",
    "#################################"
   ],
   "id": "54d27963594eca60",
   "outputs": [],
   "execution_count": 61
  },
  {
   "metadata": {
    "ExecuteTime": {
     "end_time": "2025-03-03T04:15:22.911381Z",
     "start_time": "2025-03-03T04:15:22.905657Z"
    }
   },
   "cell_type": "code",
   "source": [
    "class Cat(Animal):\n",
    "    def speak(self):\n",
    "        print(\"meow\")\n",
    "    def __str__(self):\n",
    "        return \"cat:\"+str(self.name)+\":\"+str(self.age)"
   ],
   "id": "f44d902d99f4e92a",
   "outputs": [],
   "execution_count": 62
  },
  {
   "metadata": {
    "ExecuteTime": {
     "end_time": "2025-03-03T04:15:25.928598Z",
     "start_time": "2025-03-03T04:15:25.923285Z"
    }
   },
   "cell_type": "code",
   "source": [
    "print(\"---- cat tests ----\\n\")\n",
    "c = Cat(5)\n",
    "c.set_name(\"fluffy\")\n",
    "print(c)\n",
    "c.speak()\n",
    "print(c.get_age())"
   ],
   "id": "c299eeff7fae1b18",
   "outputs": [
    {
     "name": "stdout",
     "output_type": "stream",
     "text": [
      "---- cat tests ----\n",
      "\n",
      "cat:fluffy:5\n",
      "meow\n",
      "5\n"
     ]
    }
   ],
   "execution_count": 63
  },
  {
   "metadata": {
    "ExecuteTime": {
     "end_time": "2025-03-03T04:15:26.621337Z",
     "start_time": "2025-03-03T04:15:26.601906Z"
    }
   },
   "cell_type": "code",
   "source": "a.speak() # error because there is no speak method for Animal class",
   "id": "fe2ea5b5e5f72a70",
   "outputs": [
    {
     "ename": "AttributeError",
     "evalue": "'Animal' object has no attribute 'speak'",
     "output_type": "error",
     "traceback": [
      "\u001B[0;31m---------------------------------------------------------------------------\u001B[0m",
      "\u001B[0;31mAttributeError\u001B[0m                            Traceback (most recent call last)",
      "Cell \u001B[0;32mIn[64], line 1\u001B[0m\n\u001B[0;32m----> 1\u001B[0m \u001B[43ma\u001B[49m\u001B[38;5;241;43m.\u001B[39;49m\u001B[43mspeak\u001B[49m() \u001B[38;5;66;03m# error because there is no speak method for Animal class\u001B[39;00m\n",
      "\u001B[0;31mAttributeError\u001B[0m: 'Animal' object has no attribute 'speak'"
     ]
    }
   ],
   "execution_count": 64
  },
  {
   "metadata": {
    "ExecuteTime": {
     "end_time": "2025-03-03T04:15:27.499480Z",
     "start_time": "2025-03-03T04:15:27.493397Z"
    }
   },
   "cell_type": "code",
   "source": [
    "#################################\n",
    "## Inheritance example\n",
    "#################################"
   ],
   "id": "bc9fae8e27c82bc4",
   "outputs": [],
   "execution_count": 65
  },
  {
   "metadata": {
    "ExecuteTime": {
     "end_time": "2025-03-03T04:15:29.741276Z",
     "start_time": "2025-03-03T04:15:29.733095Z"
    }
   },
   "cell_type": "code",
   "source": [
    "class Person(Animal):\n",
    "    def __init__(self, name, age):\n",
    "        Animal.__init__(self, age)\n",
    "        self.set_name(name)\n",
    "        self.friends = []\n",
    "    def get_friends(self):\n",
    "        return self.friends\n",
    "    def speak(self):\n",
    "        print(\"hello\")\n",
    "    def add_friend(self, fname):\n",
    "        if fname not in self.friends:\n",
    "            self.friends.append(fname)\n",
    "    def age_diff(self, other):\n",
    "        diff = self.age - other.age\n",
    "        print(abs(diff), \"year difference\")\n",
    "    def __str__(self):\n",
    "        return \"person:\"+str(self.name)+\":\"+str(self.age)"
   ],
   "id": "622cc6ac45203195",
   "outputs": [],
   "execution_count": 66
  },
  {
   "metadata": {
    "ExecuteTime": {
     "end_time": "2025-03-03T04:15:30.238861Z",
     "start_time": "2025-03-03T04:15:30.233578Z"
    }
   },
   "cell_type": "code",
   "source": [
    "print(\"---- person tests ----\\n\")\n",
    "p1 = Person(\"jack\", 30)\n",
    "p2 = Person(\"jill\", 25)\n",
    "print(p1.get_name())\n",
    "print(p1.get_age())\n",
    "print(p2.get_name())\n",
    "print(p2.get_age())"
   ],
   "id": "5ed94c2abddd65bf",
   "outputs": [
    {
     "name": "stdout",
     "output_type": "stream",
     "text": [
      "---- person tests ----\n",
      "\n",
      "jack\n",
      "30\n",
      "jill\n",
      "25\n"
     ]
    }
   ],
   "execution_count": 67
  },
  {
   "metadata": {
    "ExecuteTime": {
     "end_time": "2025-03-03T04:15:30.668088Z",
     "start_time": "2025-03-03T04:15:30.659943Z"
    }
   },
   "cell_type": "code",
   "source": [
    "print(p1)\n",
    "p1.speak()\n",
    "p1.age_diff(p2)"
   ],
   "id": "e5301300a1b4e98f",
   "outputs": [
    {
     "name": "stdout",
     "output_type": "stream",
     "text": [
      "person:jack:30\n",
      "hello\n",
      "5 year difference\n"
     ]
    }
   ],
   "execution_count": 68
  },
  {
   "metadata": {
    "collapsed": true,
    "ExecuteTime": {
     "end_time": "2025-03-03T04:15:31.166414Z",
     "start_time": "2025-03-03T04:15:31.160897Z"
    }
   },
   "cell_type": "code",
   "source": "import random",
   "id": "initial_id",
   "outputs": [],
   "execution_count": 69
  },
  {
   "metadata": {
    "ExecuteTime": {
     "end_time": "2025-03-03T04:15:31.648381Z",
     "start_time": "2025-03-03T04:15:31.641086Z"
    }
   },
   "cell_type": "code",
   "source": [
    "class Student(Person):\n",
    "    def __init__(self, name, age, major=None):\n",
    "        Person.__init__(self, name, age)\n",
    "        self.major = major\n",
    "    def change_major(self, major):\n",
    "        self.major = major\n",
    "    def speak(self):\n",
    "        r = random.random()\n",
    "        if r < 0.25:\n",
    "            print(\"i have homework\")\n",
    "        elif 0.25 <= r < 0.5:\n",
    "            print(\"i need sleep\")\n",
    "        elif 0.5 <= r < 0.75:\n",
    "            print(\"i should eat\")\n",
    "        else:\n",
    "            print(\"i am watching tv\")\n",
    "    def __str__(self):\n",
    "        return \"student:\"+str(self.name)+\":\"+str(self.age)+\":\"+str(self.major)"
   ],
   "id": "7739596a58907006",
   "outputs": [],
   "execution_count": 70
  },
  {
   "metadata": {
    "ExecuteTime": {
     "end_time": "2025-03-03T04:15:32.238186Z",
     "start_time": "2025-03-03T04:15:32.232993Z"
    }
   },
   "cell_type": "code",
   "source": [
    "print(\"---- student tests ----\\n\")\n",
    "s1 = Student('alice', 20, \"CS\")\n",
    "s2 = Student('beth', 18)\n",
    "print(s1)\n",
    "print(s2)"
   ],
   "id": "1fbbc97a19703178",
   "outputs": [
    {
     "name": "stdout",
     "output_type": "stream",
     "text": [
      "---- student tests ----\n",
      "\n",
      "student:alice:20:CS\n",
      "student:beth:18:None\n"
     ]
    }
   ],
   "execution_count": 71
  },
  {
   "metadata": {
    "ExecuteTime": {
     "end_time": "2025-03-03T04:15:32.809500Z",
     "start_time": "2025-03-03T04:15:32.802575Z"
    }
   },
   "cell_type": "code",
   "source": [
    "print(s1.get_name(),\"says:\", end=\" \")\n",
    "s1.speak()\n",
    "print(s2.get_name(),\"says:\", end=\" \")\n",
    "s2.speak()"
   ],
   "id": "e5b0776b9f4d7008",
   "outputs": [
    {
     "name": "stdout",
     "output_type": "stream",
     "text": [
      "alice says: i need sleep\n",
      "beth says: i am watching tv\n"
     ]
    }
   ],
   "execution_count": 72
  },
  {
   "metadata": {
    "ExecuteTime": {
     "end_time": "2025-03-03T04:15:33.420698Z",
     "start_time": "2025-03-03T04:15:33.416908Z"
    }
   },
   "cell_type": "code",
   "source": [
    "#################################\n",
    "## Use of class variables\n",
    "#################################"
   ],
   "id": "ea84b1460b0defce",
   "outputs": [],
   "execution_count": 73
  },
  {
   "metadata": {
    "ExecuteTime": {
     "end_time": "2025-03-03T04:15:34.112877Z",
     "start_time": "2025-03-03T04:15:34.104670Z"
    }
   },
   "cell_type": "code",
   "source": [
    "class Rabbit(Animal):\n",
    "    # a class variable, tag, shared across all instances\n",
    "    tag = 1\n",
    "    def __init__(self, age, parent1 = None, parent2 = None ):\n",
    "        Animal.__init__(self, age)\n",
    "        self.parent1 = parent1\n",
    "        self.parent2 = parent2\n",
    "        self.rid = Rabbit.tag\n",
    "        Rabbit.tag += 1\n",
    "    def get_rid(self):\n",
    "        # zfill used to add leading zeroes 001 instead of 1\n",
    "        return str(self.rid).zfill(3)\n",
    "    def get_parent1(self):\n",
    "        return self.parent1\n",
    "    def get_parent2(self):\n",
    "        return self.parent2\n",
    "    def __add__(self, other):\n",
    "        # returning object of same type as this class\n",
    "        return Rabbit(0, self, other) # __init__(self, age, parent1 = self, parent2 = other ):\n",
    "    def __eq__(self, other):\n",
    "        # compare the ids of self and other's parents\n",
    "        # don't care about the order of the parents\n",
    "        # the backslash tells python I want to break up my line\n",
    "        parents_same = self.parent1.rid == other.parent1.rid \\\n",
    "                       and self.parent2.rid == other.parent2.rid\n",
    "        parents_opposite = self.parent2.rid == other.parent1.rid \\\n",
    "                           and self.parent1.rid == other.parent2.rid\n",
    "        return parents_same or parents_opposite\n",
    "    def __str__(self):\n",
    "        return \"rabbit:\"+ self.get_rid()"
   ],
   "id": "e537d09c1d6831b1",
   "outputs": [],
   "execution_count": 74
  },
  {
   "metadata": {
    "ExecuteTime": {
     "end_time": "2025-03-03T04:15:34.783906Z",
     "start_time": "2025-03-03T04:15:34.778128Z"
    }
   },
   "cell_type": "code",
   "source": [
    "print(\"---- rabbit tests ----\\n\")\n",
    "print(\"---- testing creating rabbits ----\")\n",
    "r1 = Rabbit(3)\n",
    "r2 = Rabbit(4)\n",
    "r3 = Rabbit(5)\n",
    "print(\"r1:\", r1)\n",
    "print(\"r2:\", r2)\n",
    "print(\"r3:\", r3)\n",
    "print(\"r1 parent1:\", r1.get_parent1())\n",
    "print(\"r1 parent2:\", r1.get_parent2())"
   ],
   "id": "7457480139e31228",
   "outputs": [
    {
     "name": "stdout",
     "output_type": "stream",
     "text": [
      "---- rabbit tests ----\n",
      "\n",
      "---- testing creating rabbits ----\n",
      "r1: rabbit:001\n",
      "r2: rabbit:002\n",
      "r3: rabbit:003\n",
      "r1 parent1: None\n",
      "r1 parent2: None\n"
     ]
    }
   ],
   "execution_count": 75
  },
  {
   "metadata": {
    "ExecuteTime": {
     "end_time": "2025-03-03T04:15:35.426723Z",
     "start_time": "2025-03-03T04:15:35.420872Z"
    }
   },
   "cell_type": "code",
   "source": [
    "print(\"---- testing rabbit addition ----\")\n",
    "r4 = r1+r2   # r1.__add__(r2)\n",
    "print(\"r1:\", r1)\n",
    "print(\"r2:\", r2)\n",
    "print(\"r4:\", r4)\n",
    "print(\"r4 parent1:\", r4.get_parent1())\n",
    "print(\"r4 parent2:\", r4.get_parent2())"
   ],
   "id": "c251618d34fa8e33",
   "outputs": [
    {
     "name": "stdout",
     "output_type": "stream",
     "text": [
      "---- testing rabbit addition ----\n",
      "r1: rabbit:001\n",
      "r2: rabbit:002\n",
      "r4: rabbit:004\n",
      "r4 parent1: rabbit:001\n",
      "r4 parent2: rabbit:002\n"
     ]
    }
   ],
   "execution_count": 76
  },
  {
   "metadata": {
    "ExecuteTime": {
     "end_time": "2025-03-03T04:15:36.199713Z",
     "start_time": "2025-03-03T04:15:36.191908Z"
    }
   },
   "cell_type": "code",
   "source": [
    "print(\"---- testing rabbit equality ----\")\n",
    "r5 = r3+r4\n",
    "r6 = r4+r3\n",
    "print(\"r3:\", r3)\n",
    "print(\"r4:\", r4)\n",
    "print(\"r5:\", r5)\n",
    "print(\"r6:\", r6)\n",
    "print(\"r5 parent1:\", r5.get_parent1())\n",
    "print(\"r5 parent2:\", r5.get_parent2())\n",
    "print(\"r6 parent1:\", r6.get_parent1())\n",
    "print(\"r6 parent2:\", r6.get_parent2())"
   ],
   "id": "a88bb5874fa67211",
   "outputs": [
    {
     "name": "stdout",
     "output_type": "stream",
     "text": [
      "---- testing rabbit equality ----\n",
      "r3: rabbit:003\n",
      "r4: rabbit:004\n",
      "r5: rabbit:005\n",
      "r6: rabbit:006\n",
      "r5 parent1: rabbit:003\n",
      "r5 parent2: rabbit:004\n",
      "r6 parent1: rabbit:004\n",
      "r6 parent2: rabbit:003\n"
     ]
    }
   ],
   "execution_count": 77
  },
  {
   "metadata": {
    "ExecuteTime": {
     "end_time": "2025-03-03T04:15:37.053062Z",
     "start_time": "2025-03-03T04:15:37.049362Z"
    }
   },
   "cell_type": "code",
   "source": [
    "print(\"r5 and r6 have same parents? :\", r5 == r6)\n",
    "print(\"r4 and r6 have same parents? :\", r4 == r6)"
   ],
   "id": "8badb47a07f8017",
   "outputs": [
    {
     "name": "stdout",
     "output_type": "stream",
     "text": [
      "r5 and r6 have same parents? : True\n",
      "r4 and r6 have same parents? : False\n"
     ]
    }
   ],
   "execution_count": 78
  }
 ],
 "metadata": {
  "kernelspec": {
   "display_name": "Python 3",
   "language": "python",
   "name": "python3"
  },
  "language_info": {
   "codemirror_mode": {
    "name": "ipython",
    "version": 2
   },
   "file_extension": ".py",
   "mimetype": "text/x-python",
   "name": "python",
   "nbconvert_exporter": "python",
   "pygments_lexer": "ipython2",
   "version": "2.7.6"
  }
 },
 "nbformat": 4,
 "nbformat_minor": 5
}
