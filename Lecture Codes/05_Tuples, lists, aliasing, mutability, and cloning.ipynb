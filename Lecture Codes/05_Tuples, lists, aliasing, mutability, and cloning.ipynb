{
 "cells": [
  {
   "cell_type": "code",
   "id": "initial_id",
   "metadata": {
    "collapsed": true,
    "ExecuteTime": {
     "end_time": "2025-02-27T14:48:49.252869Z",
     "start_time": "2025-02-27T14:48:49.244984Z"
    }
   },
   "source": [
    "#########################\n",
    "## EXAMPLE: returning a tuple\n",
    "#########################"
   ],
   "outputs": [],
   "execution_count": 129
  },
  {
   "metadata": {
    "ExecuteTime": {
     "end_time": "2025-02-27T14:48:49.455849Z",
     "start_time": "2025-02-27T14:48:49.300063Z"
    }
   },
   "cell_type": "code",
   "source": [
    "def quotient_and_remainder(x, y):\n",
    "    q = x // y\n",
    "    r = x % y\n",
    "    return (q, r)\n",
    "\n",
    "(quot, rem) = quotient_and_remainder(5,3)\n",
    "print(quot)\n",
    "print(rem)"
   ],
   "id": "acc20fdbd680168e",
   "outputs": [
    {
     "name": "stdout",
     "output_type": "stream",
     "text": [
      "1\n",
      "2\n"
     ]
    }
   ],
   "execution_count": 130
  },
  {
   "metadata": {
    "ExecuteTime": {
     "end_time": "2025-02-27T14:48:49.660076Z",
     "start_time": "2025-02-27T14:48:49.497923Z"
    }
   },
   "cell_type": "code",
   "source": [
    "#########################\n",
    "## EXAMPLE: iterating over tuples\n",
    "#########################"
   ],
   "id": "c38412ff5ddc1b47",
   "outputs": [],
   "execution_count": 131
  },
  {
   "metadata": {
    "ExecuteTime": {
     "end_time": "2025-02-27T14:48:50.243466Z",
     "start_time": "2025-02-27T14:48:49.687787Z"
    }
   },
   "cell_type": "code",
   "source": [
    "def get_data(aTuple):\n",
    "    \"\"\"\n",
    "    aTuple, tuple of tuples (int, string)\n",
    "    Extracts all integers from aTuple and sets\n",
    "    them as elements in a new tuple.\n",
    "    Extracts all unique strings from aTuple\n",
    "    and sets them as elements in a new tuple.\n",
    "    Returns a tuple of the minimum integer, the\n",
    "    maximum integer, and the number of unique strings\n",
    "    \"\"\"\n",
    "    nums = ()    # empty tuple\n",
    "    words = ()\n",
    "    for t in aTuple:\n",
    "        # concatenating with a singleton tuple\n",
    "        nums = nums + (t[0],)\n",
    "        # only add words haven't added before\n",
    "        if t[1] not in words:\n",
    "            words = words + (t[1],)\n",
    "    min_n = min(nums)\n",
    "    max_n = max(nums)\n",
    "    unique_words = len(words)\n",
    "    return (min_n, max_n, unique_words)"
   ],
   "id": "350d54dd2207c13e",
   "outputs": [],
   "execution_count": 132
  },
  {
   "metadata": {
    "ExecuteTime": {
     "end_time": "2025-02-27T14:48:50.620168Z",
     "start_time": "2025-02-27T14:48:50.527599Z"
    }
   },
   "cell_type": "code",
   "source": [
    "test = ((1,\"a\"),(2, \"b\"),\n",
    "        (1,\"a\"),(7,\"b\"))\n",
    "(a, b, c) = get_data(test)\n",
    "print(\"minimum integer:\",a,\"\\nmaximum integer:\",b,\"\\nnumber of unique strings:\",c)"
   ],
   "id": "299b8314872edac2",
   "outputs": [
    {
     "name": "stdout",
     "output_type": "stream",
     "text": [
      "minimum integer: 1 \n",
      "maximum integer: 7 \n",
      "number of unique strings: 2\n"
     ]
    }
   ],
   "execution_count": 133
  },
  {
   "metadata": {
    "ExecuteTime": {
     "end_time": "2025-02-27T14:48:50.827315Z",
     "start_time": "2025-02-27T14:48:50.628297Z"
    }
   },
   "cell_type": "code",
   "source": [
    "tswift = ((2014,\"Katy\"),\n",
    "          (2014, \"Harry\"),\n",
    "          (2012,\"Jake\"),\n",
    "          (2010,\"Taylor\"),\n",
    "          (2008,\"Joe\"))\n",
    "(min_year, max_year, num_people) = get_data(tswift)\n",
    "print(\"From\", min_year, \"to\", max_year,\n",
    "        \"Taylor Swift wrote songs about\", num_people, \"people!\")"
   ],
   "id": "8ac7a17e5a74c708",
   "outputs": [
    {
     "name": "stdout",
     "output_type": "stream",
     "text": [
      "From 2008 to 2014 Taylor Swift wrote songs about 5 people!\n"
     ]
    }
   ],
   "execution_count": 134
  },
  {
   "metadata": {
    "ExecuteTime": {
     "end_time": "2025-02-27T14:48:51.138090Z",
     "start_time": "2025-02-27T14:48:50.835906Z"
    }
   },
   "cell_type": "code",
   "source": [
    "#########################\n",
    "## EXAMPLE: sum of elements in a list\n",
    "#########################"
   ],
   "id": "c2b4566f0e64745e",
   "outputs": [],
   "execution_count": 135
  },
  {
   "metadata": {
    "ExecuteTime": {
     "end_time": "2025-02-27T14:48:51.410434Z",
     "start_time": "2025-02-27T14:48:51.165928Z"
    }
   },
   "cell_type": "code",
   "source": [
    "def sum_elem_method1(L):\n",
    "  total = 0\n",
    "  for i in range(len(L)):\n",
    "      total += L[i]\n",
    "  return total"
   ],
   "id": "3a11dcec9b028c90",
   "outputs": [],
   "execution_count": 136
  },
  {
   "metadata": {
    "ExecuteTime": {
     "end_time": "2025-02-27T14:48:51.683946Z",
     "start_time": "2025-02-27T14:48:51.453275Z"
    }
   },
   "cell_type": "code",
   "source": [
    "def sum_elem_method2(L):\n",
    "    total = 0\n",
    "    for i in L:\n",
    "        total += i\n",
    "    return total"
   ],
   "id": "f22d4f06367bd2db",
   "outputs": [],
   "execution_count": 137
  },
  {
   "metadata": {
    "ExecuteTime": {
     "end_time": "2025-02-27T14:48:51.944691Z",
     "start_time": "2025-02-27T14:48:51.688243Z"
    }
   },
   "cell_type": "code",
   "source": [
    "print(sum_elem_method1([1,2,3,4]))\n",
    "print(sum_elem_method2([1,2,3,4]))"
   ],
   "id": "5843c350aa24f250",
   "outputs": [
    {
     "name": "stdout",
     "output_type": "stream",
     "text": [
      "10\n",
      "10\n"
     ]
    }
   ],
   "execution_count": 138
  },
  {
   "metadata": {
    "ExecuteTime": {
     "end_time": "2025-02-27T14:48:52.140127Z",
     "start_time": "2025-02-27T14:48:51.952749Z"
    }
   },
   "cell_type": "code",
   "source": [
    "#########################\n",
    "## EXAMPLE: various list operations\n",
    "## put print(L) at different locations to see how it gets mutated\n",
    "#########################"
   ],
   "id": "970fe3a7da7e1498",
   "outputs": [],
   "execution_count": 139
  },
  {
   "metadata": {
    "ExecuteTime": {
     "end_time": "2025-02-27T14:48:52.612993Z",
     "start_time": "2025-02-27T14:48:52.147027Z"
    }
   },
   "cell_type": "code",
   "source": [
    "L1 = [2,1,3]\n",
    "L2 = [4,5,6]\n",
    "L3 = L1 + L2\n",
    "print('L3:', L3)\n",
    "L1.extend([0,6])\n",
    "print('L1:', L1)"
   ],
   "id": "458ffeee81878a6",
   "outputs": [
    {
     "name": "stdout",
     "output_type": "stream",
     "text": [
      "L3: [2, 1, 3, 4, 5, 6]\n",
      "L1: [2, 1, 3, 0, 6]\n"
     ]
    }
   ],
   "execution_count": 140
  },
  {
   "metadata": {
    "ExecuteTime": {
     "end_time": "2025-02-27T14:48:52.898384Z",
     "start_time": "2025-02-27T14:48:52.621864Z"
    }
   },
   "cell_type": "code",
   "source": [
    "L = [2,1,3,6,3,7,0]\n",
    "L.remove(2)\n",
    "print('L:', L)\n",
    "print('L:', L.remove(0)) # returns None\n",
    "L.remove(3)\n",
    "print('L:', L)\n",
    "del(L[1])\n",
    "print('L:', L)\n",
    "print(L.pop())"
   ],
   "id": "babe3879fb4e11d",
   "outputs": [
    {
     "name": "stdout",
     "output_type": "stream",
     "text": [
      "L: [1, 3, 6, 3, 7, 0]\n",
      "L: None\n",
      "L: [1, 6, 3, 7]\n",
      "L: [1, 3, 7]\n",
      "7\n"
     ]
    }
   ],
   "execution_count": 141
  },
  {
   "metadata": {
    "ExecuteTime": {
     "end_time": "2025-02-27T14:48:53.116533Z",
     "start_time": "2025-02-27T14:48:52.938755Z"
    }
   },
   "cell_type": "code",
   "source": [
    "s = \"I<3 cs\"\n",
    "print(list(s))\n",
    "print(s.split('<'))\n",
    "L = ['a', 'b', 'c']\n",
    "print(''.join(L))\n",
    "print('_'.join(L))"
   ],
   "id": "fa8c0c873185e72",
   "outputs": [
    {
     "name": "stdout",
     "output_type": "stream",
     "text": [
      "['I', '<', '3', ' ', 'c', 's']\n",
      "['I', '3 cs']\n",
      "abc\n",
      "a_b_c\n"
     ]
    }
   ],
   "execution_count": 142
  },
  {
   "metadata": {
    "ExecuteTime": {
     "end_time": "2025-02-27T14:48:53.323868Z",
     "start_time": "2025-02-27T14:48:53.152629Z"
    }
   },
   "cell_type": "code",
   "source": [
    "L=[9,6,0,3]\n",
    "print(sorted(L))\n",
    "print(L)\n",
    "L.sort()\n",
    "print(L)\n",
    "L.reverse()\n",
    "print(L)"
   ],
   "id": "4573afc3608a0e1",
   "outputs": [
    {
     "name": "stdout",
     "output_type": "stream",
     "text": [
      "[0, 3, 6, 9]\n",
      "[9, 6, 0, 3]\n",
      "[0, 3, 6, 9]\n",
      "[9, 6, 3, 0]\n"
     ]
    }
   ],
   "execution_count": 143
  },
  {
   "metadata": {
    "ExecuteTime": {
     "end_time": "2025-02-27T14:48:53.538782Z",
     "start_time": "2025-02-27T14:48:53.363245Z"
    }
   },
   "cell_type": "code",
   "source": [
    "#########################\n",
    "## EXAMPLE: aliasing\n",
    "#########################"
   ],
   "id": "eda2bde56d050e0a",
   "outputs": [],
   "execution_count": 144
  },
  {
   "metadata": {
    "ExecuteTime": {
     "end_time": "2025-02-27T14:48:53.737557Z",
     "start_time": "2025-02-27T14:48:53.568759Z"
    }
   },
   "cell_type": "code",
   "source": [
    "a = 1 # immutable\n",
    "b = a\n",
    "print(a)\n",
    "print(b)"
   ],
   "id": "c8fa950ba3bc597",
   "outputs": [
    {
     "name": "stdout",
     "output_type": "stream",
     "text": [
      "1\n",
      "1\n"
     ]
    }
   ],
   "execution_count": 145
  },
  {
   "metadata": {
    "ExecuteTime": {
     "end_time": "2025-02-27T14:48:53.956071Z",
     "start_time": "2025-02-27T14:48:53.794320Z"
    }
   },
   "cell_type": "code",
   "source": [
    "warm = ['red', 'yellow', 'orange']\n",
    "hot = warm\n",
    "hot.append('pink')\n",
    "print(hot)\n",
    "print(warm)"
   ],
   "id": "2948062b4f6986c1",
   "outputs": [
    {
     "name": "stdout",
     "output_type": "stream",
     "text": [
      "['red', 'yellow', 'orange', 'pink']\n",
      "['red', 'yellow', 'orange', 'pink']\n"
     ]
    }
   ],
   "execution_count": 146
  },
  {
   "metadata": {
    "ExecuteTime": {
     "end_time": "2025-02-27T14:48:54.216401Z",
     "start_time": "2025-02-27T14:48:53.992066Z"
    }
   },
   "cell_type": "code",
   "source": [
    "#########################\n",
    "## EXAMPLE: cloning\n",
    "#########################"
   ],
   "id": "71ec446dd5356daf",
   "outputs": [],
   "execution_count": 147
  },
  {
   "metadata": {
    "ExecuteTime": {
     "end_time": "2025-02-27T14:48:54.435859Z",
     "start_time": "2025-02-27T14:48:54.239488Z"
    }
   },
   "cell_type": "code",
   "source": [
    "cool = ['blue', 'green', 'grey']\n",
    "chill = cool[:]\n",
    "chill.append('black')\n",
    "print(chill)\n",
    "print(cool)"
   ],
   "id": "c80dea7327e12ce7",
   "outputs": [
    {
     "name": "stdout",
     "output_type": "stream",
     "text": [
      "['blue', 'green', 'grey', 'black']\n",
      "['blue', 'green', 'grey']\n"
     ]
    }
   ],
   "execution_count": 148
  },
  {
   "metadata": {
    "ExecuteTime": {
     "end_time": "2025-02-27T14:48:54.728478Z",
     "start_time": "2025-02-27T14:48:54.462934Z"
    }
   },
   "cell_type": "code",
   "source": [
    "#########################\n",
    "## EXAMPLE: sorting with/without mutation\n",
    "#########################"
   ],
   "id": "7b6ab9d100a7dc70",
   "outputs": [],
   "execution_count": 149
  },
  {
   "metadata": {
    "ExecuteTime": {
     "end_time": "2025-02-27T14:48:54.929839Z",
     "start_time": "2025-02-27T14:48:54.740286Z"
    }
   },
   "cell_type": "code",
   "source": [
    "warm = ['red', 'yellow', 'orange']\n",
    "sortedwarm = warm.sort()\n",
    "print(warm)\n",
    "print(sortedwarm)"
   ],
   "id": "f57b81f7237017a2",
   "outputs": [
    {
     "name": "stdout",
     "output_type": "stream",
     "text": [
      "['orange', 'red', 'yellow']\n",
      "None\n"
     ]
    }
   ],
   "execution_count": 150
  },
  {
   "metadata": {
    "ExecuteTime": {
     "end_time": "2025-02-27T14:48:55.132029Z",
     "start_time": "2025-02-27T14:48:54.953398Z"
    }
   },
   "cell_type": "code",
   "source": [
    "cool = ['grey', 'green', 'blue']\n",
    "sortedcool = sorted(cool)\n",
    "print(cool)\n",
    "print(sortedcool)"
   ],
   "id": "7e0ddc5156ee3fbc",
   "outputs": [
    {
     "name": "stdout",
     "output_type": "stream",
     "text": [
      "['grey', 'green', 'blue']\n",
      "['blue', 'green', 'grey']\n"
     ]
    }
   ],
   "execution_count": 151
  },
  {
   "metadata": {
    "ExecuteTime": {
     "end_time": "2025-02-27T14:48:55.330248Z",
     "start_time": "2025-02-27T14:48:55.140975Z"
    }
   },
   "cell_type": "code",
   "source": [
    "#########################\n",
    "## EXAMPLE: lists of lists of lists...\n",
    "#########################"
   ],
   "id": "3a1ab4219e89b5a5",
   "outputs": [],
   "execution_count": 152
  },
  {
   "metadata": {
    "ExecuteTime": {
     "end_time": "2025-02-27T14:48:55.694591Z",
     "start_time": "2025-02-27T14:48:55.358196Z"
    }
   },
   "cell_type": "code",
   "source": [
    "warm = ['yellow', 'orange']\n",
    "hot = ['red']\n",
    "brightcolors = [warm]\n",
    "brightcolors.append(hot)\n",
    "print(brightcolors)\n",
    "hot.append('pink')\n",
    "print(hot)\n",
    "print(brightcolors)"
   ],
   "id": "505b436272fb093c",
   "outputs": [
    {
     "name": "stdout",
     "output_type": "stream",
     "text": [
      "[['yellow', 'orange'], ['red']]\n",
      "['red', 'pink']\n",
      "[['yellow', 'orange'], ['red', 'pink']]\n"
     ]
    }
   ],
   "execution_count": 153
  },
  {
   "metadata": {
    "ExecuteTime": {
     "end_time": "2025-02-27T14:48:55.877998Z",
     "start_time": "2025-02-27T14:48:55.704195Z"
    }
   },
   "cell_type": "code",
   "source": [
    "###############################\n",
    "## EXAMPLE: mutating a list while iterating over it\n",
    "###############################"
   ],
   "id": "4d08683df1d0c506",
   "outputs": [],
   "execution_count": 154
  },
  {
   "metadata": {
    "ExecuteTime": {
     "end_time": "2025-02-27T14:48:56.073409Z",
     "start_time": "2025-02-27T14:48:55.908783Z"
    }
   },
   "cell_type": "code",
   "source": [
    "def remove_dups(L1, L2):\n",
    "    for e in L1:\n",
    "        if e in L2:\n",
    "            L1.remove(e)"
   ],
   "id": "6b5ff02ffd09a654",
   "outputs": [],
   "execution_count": 155
  },
  {
   "metadata": {
    "ExecuteTime": {
     "end_time": "2025-02-27T14:48:56.272183Z",
     "start_time": "2025-02-27T14:48:56.092636Z"
    }
   },
   "cell_type": "code",
   "source": [
    "def remove_dups_new(L1, L2):\n",
    "    L1_copy = L1[:]\n",
    "    for e in L1_copy:\n",
    "        if e in L2:\n",
    "            L1.remove(e)"
   ],
   "id": "7343661c63cd9815",
   "outputs": [],
   "execution_count": 156
  },
  {
   "metadata": {
    "ExecuteTime": {
     "end_time": "2025-02-27T14:48:56.487329Z",
     "start_time": "2025-02-27T14:48:56.286623Z"
    }
   },
   "cell_type": "code",
   "source": [
    "L1 = [1, 2, 3, 4]\n",
    "L2 = [1, 2, 5, 6]\n",
    "remove_dups(L1, L2)\n",
    "print(L1, L2)"
   ],
   "id": "b65caa4e5c58a6b2",
   "outputs": [
    {
     "name": "stdout",
     "output_type": "stream",
     "text": [
      "[2, 3, 4] [1, 2, 5, 6]\n"
     ]
    }
   ],
   "execution_count": 157
  },
  {
   "metadata": {
    "ExecuteTime": {
     "end_time": "2025-02-27T14:48:56.697340Z",
     "start_time": "2025-02-27T14:48:56.498705Z"
    }
   },
   "cell_type": "code",
   "source": [
    "L1 = [1, 2, 3, 4]\n",
    "L2 = [1, 2, 5, 6]\n",
    "remove_dups_new(L1, L2)\n",
    "print(L1, L2)"
   ],
   "id": "fa08884da67807e5",
   "outputs": [
    {
     "name": "stdout",
     "output_type": "stream",
     "text": [
      "[3, 4] [1, 2, 5, 6]\n"
     ]
    }
   ],
   "execution_count": 158
  },
  {
   "metadata": {
    "ExecuteTime": {
     "end_time": "2025-02-27T14:48:57.116478Z",
     "start_time": "2025-02-27T14:48:56.750788Z"
    }
   },
   "cell_type": "code",
   "source": [
    "###############################\n",
    "## EXERCISE: Test yourself by predicting what the output is and\n",
    "##           what gets mutated then check with the Python Tutor\n",
    "###############################"
   ],
   "id": "904e0252f5553241",
   "outputs": [],
   "execution_count": 159
  },
  {
   "metadata": {
    "ExecuteTime": {
     "end_time": "2025-02-27T14:48:57.402248Z",
     "start_time": "2025-02-27T14:48:57.127034Z"
    }
   },
   "cell_type": "code",
   "source": [
    "cool = ['blue', 'green']\n",
    "warm = ['red', 'yellow', 'orange']\n",
    "print(cool)\n",
    "print(warm)\n",
    "\n",
    "colors1 = [cool]\n",
    "print(colors1)\n",
    "colors1.append(warm)\n",
    "print('colors1 = ', colors1)"
   ],
   "id": "e83b6612a238e140",
   "outputs": [
    {
     "name": "stdout",
     "output_type": "stream",
     "text": [
      "['blue', 'green']\n",
      "['red', 'yellow', 'orange']\n",
      "[['blue', 'green']]\n",
      "colors1 =  [['blue', 'green'], ['red', 'yellow', 'orange']]\n"
     ]
    }
   ],
   "execution_count": 160
  },
  {
   "metadata": {
    "ExecuteTime": {
     "end_time": "2025-02-27T14:48:57.623961Z",
     "start_time": "2025-02-27T14:48:57.412930Z"
    }
   },
   "cell_type": "code",
   "source": [
    "colors2 = [['blue', 'green'],\n",
    "          ['red', 'yellow', 'orange']]\n",
    "print('colors2 =', colors2)"
   ],
   "id": "e7e790ee35cf8799",
   "outputs": [
    {
     "name": "stdout",
     "output_type": "stream",
     "text": [
      "colors2 = [['blue', 'green'], ['red', 'yellow', 'orange']]\n"
     ]
    }
   ],
   "execution_count": 161
  },
  {
   "metadata": {
    "ExecuteTime": {
     "end_time": "2025-02-27T14:48:57.830816Z",
     "start_time": "2025-02-27T14:48:57.652851Z"
    }
   },
   "cell_type": "code",
   "source": [
    "warm.remove('red')\n",
    "print('colors1 = ', colors1)\n",
    "print('colors2 =', colors2)"
   ],
   "id": "45eeb833ee5af186",
   "outputs": [
    {
     "name": "stdout",
     "output_type": "stream",
     "text": [
      "colors1 =  [['blue', 'green'], ['yellow', 'orange']]\n",
      "colors2 = [['blue', 'green'], ['red', 'yellow', 'orange']]\n"
     ]
    }
   ],
   "execution_count": 162
  },
  {
   "metadata": {
    "ExecuteTime": {
     "end_time": "2025-02-27T14:48:58.038154Z",
     "start_time": "2025-02-27T14:48:57.872004Z"
    }
   },
   "cell_type": "code",
   "source": [
    "for e in colors1:\n",
    "    print('e =', e)"
   ],
   "id": "e982f95ea335403c",
   "outputs": [
    {
     "name": "stdout",
     "output_type": "stream",
     "text": [
      "e = ['blue', 'green']\n",
      "e = ['yellow', 'orange']\n"
     ]
    }
   ],
   "execution_count": 163
  },
  {
   "metadata": {
    "ExecuteTime": {
     "end_time": "2025-02-27T14:48:58.296979Z",
     "start_time": "2025-02-27T14:48:58.075512Z"
    }
   },
   "cell_type": "code",
   "source": [
    "for e in colors1:\n",
    "    if type(e) == list:\n",
    "        for e1 in e:\n",
    "            print(e1)\n",
    "    else:\n",
    "        print(e)"
   ],
   "id": "7eca8c9a70059a25",
   "outputs": [
    {
     "name": "stdout",
     "output_type": "stream",
     "text": [
      "blue\n",
      "green\n",
      "yellow\n",
      "orange\n"
     ]
    }
   ],
   "execution_count": 164
  },
  {
   "metadata": {
    "ExecuteTime": {
     "end_time": "2025-02-27T14:48:58.548645Z",
     "start_time": "2025-02-27T14:48:58.360617Z"
    }
   },
   "cell_type": "code",
   "source": [
    "flat = cool + warm\n",
    "print('flat =', flat)"
   ],
   "id": "53811bf4302f012b",
   "outputs": [
    {
     "name": "stdout",
     "output_type": "stream",
     "text": [
      "flat = ['blue', 'green', 'yellow', 'orange']\n"
     ]
    }
   ],
   "execution_count": 165
  },
  {
   "metadata": {
    "ExecuteTime": {
     "end_time": "2025-02-27T14:48:58.744645Z",
     "start_time": "2025-02-27T14:48:58.621268Z"
    }
   },
   "cell_type": "code",
   "source": [
    "print(flat.sort())\n",
    "print('flat =', flat)"
   ],
   "id": "fd0ea5160f1c82a9",
   "outputs": [
    {
     "name": "stdout",
     "output_type": "stream",
     "text": [
      "None\n",
      "flat = ['blue', 'green', 'orange', 'yellow']\n"
     ]
    }
   ],
   "execution_count": 166
  },
  {
   "metadata": {
    "ExecuteTime": {
     "end_time": "2025-02-27T14:48:58.940850Z",
     "start_time": "2025-02-27T14:48:58.819797Z"
    }
   },
   "cell_type": "code",
   "source": [
    "new_flat = sorted(flat, reverse = True)\n",
    "print('flat =', flat)\n",
    "print('new_flat =', new_flat)"
   ],
   "id": "eab02bac4ce52cd8",
   "outputs": [
    {
     "name": "stdout",
     "output_type": "stream",
     "text": [
      "flat = ['blue', 'green', 'orange', 'yellow']\n",
      "new_flat = ['yellow', 'orange', 'green', 'blue']\n"
     ]
    }
   ],
   "execution_count": 167
  },
  {
   "metadata": {
    "ExecuteTime": {
     "end_time": "2025-02-27T14:48:59.192209Z",
     "start_time": "2025-02-27T14:48:59.010917Z"
    }
   },
   "cell_type": "code",
   "source": [
    "cool[1] = 'black'\n",
    "print(cool)\n",
    "print(colors1)"
   ],
   "id": "64b5dff6c3bcdb90",
   "outputs": [
    {
     "name": "stdout",
     "output_type": "stream",
     "text": [
      "['blue', 'black']\n",
      "[['blue', 'black'], ['yellow', 'orange']]\n"
     ]
    }
   ],
   "execution_count": 168
  }
 ],
 "metadata": {
  "kernelspec": {
   "display_name": "Python 3",
   "language": "python",
   "name": "python3"
  },
  "language_info": {
   "codemirror_mode": {
    "name": "ipython",
    "version": 2
   },
   "file_extension": ".py",
   "mimetype": "text/x-python",
   "name": "python",
   "nbconvert_exporter": "python",
   "pygments_lexer": "ipython2",
   "version": "2.7.6"
  }
 },
 "nbformat": 4,
 "nbformat_minor": 5
}
