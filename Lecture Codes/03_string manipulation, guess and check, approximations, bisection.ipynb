{
 "cells": [
  {
   "cell_type": "code",
   "id": "initial_id",
   "metadata": {
    "collapsed": true,
    "ExecuteTime": {
     "end_time": "2025-02-21T12:13:27.933120Z",
     "start_time": "2025-02-21T12:13:27.930886Z"
    }
   },
   "source": [
    "####################\n",
    "## EXAMPLE: for loops over strings\n",
    "####################"
   ],
   "outputs": [],
   "execution_count": 1
  },
  {
   "metadata": {
    "ExecuteTime": {
     "end_time": "2025-02-21T12:22:23.617023Z",
     "start_time": "2025-02-21T12:22:23.611505Z"
    }
   },
   "cell_type": "code",
   "source": [
    "s = \"demo loops\"\n",
    "for index in range(len(s)):\n",
    "   if s[index] == 'i' or s[index] == 'u':\n",
    "       print(\"There is an i or u\")\n"
   ],
   "id": "7576a9dd50bdc6d6",
   "outputs": [],
   "execution_count": 2
  },
  {
   "metadata": {
    "ExecuteTime": {
     "end_time": "2025-02-21T12:22:26.929409Z",
     "start_time": "2025-02-21T12:22:26.923279Z"
    }
   },
   "cell_type": "code",
   "source": [
    "for char in s:\n",
    "   if char == 'i' or char == 'u':\n",
    "       print(\"There is an i or u\")"
   ],
   "id": "e68e5068a8eadf6e",
   "outputs": [],
   "execution_count": 3
  },
  {
   "metadata": {
    "ExecuteTime": {
     "end_time": "2025-02-21T12:23:06.129873Z",
     "start_time": "2025-02-21T12:23:06.125788Z"
    }
   },
   "cell_type": "code",
   "source": [
    "####################\n",
    "## EXAMPLE: while loops and strings\n",
    "## CHALLENGE: rewrite while loop with a for loop\n",
    "####################"
   ],
   "id": "3d1d9c04ce1f3d31",
   "outputs": [],
   "execution_count": 4
  },
  {
   "metadata": {
    "ExecuteTime": {
     "end_time": "2025-02-21T12:23:54.715804Z",
     "start_time": "2025-02-21T12:23:41.843142Z"
    }
   },
   "cell_type": "code",
   "source": [
    "an_letters = \"aefhilmnorsxAEFHILMNORSX\"\n",
    "word = input(\"I will cheer for you! Enter a word: \")\n",
    "times = int(input(\"Enthusiasm level (1-10): \"))\n",
    "\n",
    "i = 0\n",
    "while i < len(word):\n",
    "   char = word[i]\n",
    "   if char in an_letters:\n",
    "       print(\"Give me an \" + char + \"! \" + char)\n",
    "   else:\n",
    "       print(\"Give me a  \" + char + \"! \" + char)\n",
    "   i += 1\n",
    "print(\"What does that spell?\")\n",
    "for i in range(times):\n",
    "   print(word, \"!!!\")"
   ],
   "id": "730c322ae84dd860",
   "outputs": [
    {
     "name": "stdout",
     "output_type": "stream",
     "text": [
      "Give me an R! R\n",
      "Give me an O! O\n",
      "Give me a  B! B\n",
      "Give me an O! O\n",
      "Give me a  T! T\n",
      "Give me an S! S\n",
      "What does that spell?\n",
      "ROBOTS !!!\n",
      "ROBOTS !!!\n",
      "ROBOTS !!!\n",
      "ROBOTS !!!\n",
      "ROBOTS !!!\n",
      "ROBOTS !!!\n",
      "ROBOTS !!!\n"
     ]
    }
   ],
   "execution_count": 5
  },
  {
   "metadata": {
    "ExecuteTime": {
     "end_time": "2025-02-21T12:28:29.559511Z",
     "start_time": "2025-02-21T12:28:14.290198Z"
    }
   },
   "cell_type": "code",
   "source": [
    "an_letters = \"aefhilmnorsxAEFHILMNORSX\"\n",
    "word = input(\"I will cheer for you! Enter a word: \")\n",
    "times = int(input(\"Enthusiasm level (1-10): \"))\n",
    "for char in word:\n",
    "    if char in an_letters:\n",
    "        print(\"Give me an \" + char + \"! \" + char)\n",
    "    else:\n",
    "        print(\"Give me a  \" + char + \"! \" + char)\n",
    "print(\"What does that spell?\")\n",
    "for i in range(times):\n",
    "    print(word, \"!!!\")"
   ],
   "id": "d395d5cf2532d1b1",
   "outputs": [
    {
     "name": "stdout",
     "output_type": "stream",
     "text": [
      "Give me an R! R\n",
      "Give me an O! O\n",
      "Give me a  B! B\n",
      "Give me an O! O\n",
      "Give me a  T! T\n",
      "Give me an S! S\n",
      "What does that spell?\n",
      "ROBOTS !!!\n",
      "ROBOTS !!!\n",
      "ROBOTS !!!\n",
      "ROBOTS !!!\n",
      "ROBOTS !!!\n",
      "ROBOTS !!!\n"
     ]
    }
   ],
   "execution_count": 6
  },
  {
   "metadata": {
    "ExecuteTime": {
     "end_time": "2025-02-21T12:33:05.962962Z",
     "start_time": "2025-02-21T12:33:05.957893Z"
    }
   },
   "cell_type": "code",
   "source": [
    "####################\n",
    "## EXAMPLE: perfect cube\n",
    "####################"
   ],
   "id": "7934677ee49656c5",
   "outputs": [],
   "execution_count": 7
  },
  {
   "metadata": {
    "ExecuteTime": {
     "end_time": "2025-02-21T12:33:22.962955Z",
     "start_time": "2025-02-21T12:33:22.956601Z"
    }
   },
   "cell_type": "code",
   "source": [
    "cube = 27\n",
    "#cube = 8120601\n",
    "for guess in range(cube+1):\n",
    "   if guess**3 == cube:\n",
    "       print(\"Cube root of\", cube, \"is\", guess)\n",
    "       # loops keeps going even after found the cube root"
   ],
   "id": "bacb1eea04085863",
   "outputs": [
    {
     "name": "stdout",
     "output_type": "stream",
     "text": [
      "Cube root of 27 is 3\n"
     ]
    }
   ],
   "execution_count": 8
  },
  {
   "metadata": {
    "ExecuteTime": {
     "end_time": "2025-02-21T12:33:44.527265Z",
     "start_time": "2025-02-21T12:33:44.524567Z"
    }
   },
   "cell_type": "code",
   "source": [
    "####################\n",
    "## EXAMPLE: guess and check cube root\n",
    "####################"
   ],
   "id": "60e783d52d575fe0",
   "outputs": [],
   "execution_count": 9
  },
  {
   "metadata": {
    "ExecuteTime": {
     "end_time": "2025-02-21T12:36:26.086415Z",
     "start_time": "2025-02-21T12:36:26.079926Z"
    }
   },
   "cell_type": "code",
   "source": [
    "# cube = 27\n",
    "cube = -8120601\n",
    "for guess in range(abs(cube)+1):\n",
    "   # passed all potential cube roots\n",
    "   if guess**3 >= abs(cube):\n",
    "       # no need to keep searching\n",
    "       break\n",
    "if guess**3 != abs(cube):\n",
    "   print(cube, 'is not a perfect cube')\n",
    "else:\n",
    "   if cube < 0:\n",
    "       guess = -guess\n",
    "   print('Cube root of ' + str(cube) + ' is ' + str(guess))"
   ],
   "id": "11b99e10eee69f40",
   "outputs": [
    {
     "name": "stdout",
     "output_type": "stream",
     "text": [
      "Cube root of -8120601 is -201\n"
     ]
    }
   ],
   "execution_count": 12
  },
  {
   "metadata": {
    "ExecuteTime": {
     "end_time": "2025-02-21T12:36:54.014330Z",
     "start_time": "2025-02-21T12:36:54.010424Z"
    }
   },
   "cell_type": "code",
   "source": [
    "####################\n",
    "## EXAMPLE: approximate cube root\n",
    "####################"
   ],
   "id": "a1a4044ac2931c0e",
   "outputs": [],
   "execution_count": 13
  },
  {
   "metadata": {
    "ExecuteTime": {
     "end_time": "2025-02-21T12:42:31.116052Z",
     "start_time": "2025-02-21T12:42:30.751400Z"
    }
   },
   "cell_type": "code",
   "source": [
    "# cube = 27\n",
    "#cube = 8120601\n",
    "cube = 10000\n",
    "epsilon = 0.1\n",
    "guess = 0.0\n",
    "increment = 0.01\n",
    "num_guesses = 0\n",
    "# look for close enough answer and make sure\n",
    "# didn't accidentally skip the close enough bound\n",
    "while abs(guess**3 - cube) >= epsilon and guess <= cube:\n",
    "   guess += increment\n",
    "   num_guesses += 1\n",
    "print('num_guesses =', num_guesses)\n",
    "if abs(guess**3 - cube) >= epsilon:\n",
    "   print('Failed on cube root of', cube, \"with these parameters.\")\n",
    "else:\n",
    "   print(guess, 'is close to the cube root of', cube)"
   ],
   "id": "43fff6b2b2ea83",
   "outputs": [
    {
     "name": "stdout",
     "output_type": "stream",
     "text": [
      "num_guesses = 1000000\n",
      "Failed on cube root of 10000 with these parameters.\n"
     ]
    }
   ],
   "execution_count": 19
  },
  {
   "metadata": {
    "ExecuteTime": {
     "end_time": "2025-02-21T12:47:44.187925Z",
     "start_time": "2025-02-21T12:47:44.180522Z"
    }
   },
   "cell_type": "code",
   "source": [
    "####################\n",
    "## EXAMPLE: bisection cube root (only positive cubes!)\n",
    "####################"
   ],
   "id": "c40224f87b69661a",
   "outputs": [],
   "execution_count": 20
  },
  {
   "metadata": {
    "ExecuteTime": {
     "end_time": "2025-02-21T12:53:43.875103Z",
     "start_time": "2025-02-21T12:53:43.871010Z"
    }
   },
   "cell_type": "code",
   "source": [
    "# cube = 27\n",
    "cube = 8120601\n",
    "# won't work with x < 1 because initial upper bound is less than ans\n",
    "#cube = 0.25\n",
    "epsilon = 0.01\n",
    "num_guesses = 0\n",
    "low = 0\n",
    "high = cube\n",
    "guess = (high + low)/2.0\n",
    "while abs(guess**3 - cube) >= epsilon:\n",
    "   if guess**3 < cube:\n",
    "       # look only in upper half search space\n",
    "       low = guess\n",
    "   else:\n",
    "       # look only in lower half search space\n",
    "       high = guess\n",
    "   # next guess is halfway in search space\n",
    "   guess = (high + low)/2.0\n",
    "   num_guesses += 1\n",
    "print('num_guesses =', num_guesses)\n",
    "print(guess, 'is close to the cube root of', cube)"
   ],
   "id": "23f763ade80b076",
   "outputs": [
    {
     "name": "stdout",
     "output_type": "stream",
     "text": [
      "num_guesses = 44\n",
      "201.00000004062346 is close to the cube root of 8120601\n"
     ]
    }
   ],
   "execution_count": 21
  }
 ],
 "metadata": {
  "kernelspec": {
   "display_name": "Python 3",
   "language": "python",
   "name": "python3"
  },
  "language_info": {
   "codemirror_mode": {
    "name": "ipython",
    "version": 2
   },
   "file_extension": ".py",
   "mimetype": "text/x-python",
   "name": "python",
   "nbconvert_exporter": "python",
   "pygments_lexer": "ipython2",
   "version": "2.7.6"
  }
 },
 "nbformat": 4,
 "nbformat_minor": 5
}
