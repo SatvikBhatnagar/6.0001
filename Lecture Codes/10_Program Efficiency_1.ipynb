{
 "cells": [
  {
   "cell_type": "code",
   "id": "initial_id",
   "metadata": {
    "collapsed": true,
    "ExecuteTime": {
     "end_time": "2025-03-04T11:07:46.293976Z",
     "start_time": "2025-03-04T11:07:46.287984Z"
    }
   },
   "source": [
    "import time\n",
    "\n",
    "def c_to_f(c):\n",
    "    return c * 9 / 5 + 32\n",
    "\n",
    "t0 = time.time()\n",
    "c_to_f(100000)\n",
    "t1 = time.time() -t0\n",
    "print(\"t = \", t1, \"s,\")"
   ],
   "outputs": [
    {
     "name": "stdout",
     "output_type": "stream",
     "text": [
      "t =  0.00012183189392089844 s,\n"
     ]
    }
   ],
   "execution_count": 12
  },
  {
   "metadata": {
    "ExecuteTime": {
     "end_time": "2025-03-04T11:07:46.927301Z",
     "start_time": "2025-03-04T11:07:46.920334Z"
    }
   },
   "cell_type": "code",
   "source": [
    "def search_for_elmt(L, e):\n",
    "    for i in L:\n",
    "        if i == e:\n",
    "            return True\n",
    "    return False\n",
    "\n",
    "testList = [1, 3, 4, 9, 18, 27]"
   ],
   "id": "e9dd79cf7da08a1a",
   "outputs": [],
   "execution_count": 13
  },
  {
   "metadata": {
    "ExecuteTime": {
     "end_time": "2025-03-04T11:07:47.817512Z",
     "start_time": "2025-03-04T11:07:47.814119Z"
    }
   },
   "cell_type": "code",
   "source": [
    "def n(n):\n",
    "    for i in range(n):\n",
    "        return n\n",
    "\n",
    "t0 = time.time()\n",
    "n = n(10000000000)\n",
    "t1 = time.time() -t0\n",
    "print(\"t = \", t1, \"s,\")"
   ],
   "id": "355b3b9572774dad",
   "outputs": [
    {
     "name": "stdout",
     "output_type": "stream",
     "text": [
      "t =  5.054473876953125e-05 s,\n"
     ]
    }
   ],
   "execution_count": 14
  },
  {
   "metadata": {
    "ExecuteTime": {
     "end_time": "2025-03-04T11:07:48.887342Z",
     "start_time": "2025-03-04T11:07:48.880735Z"
    }
   },
   "cell_type": "code",
   "source": [
    "def n(n):\n",
    "    for i in range(n):\n",
    "        return n\n",
    "\n",
    "t0 = time.time()\n",
    "n = n(10000000000*10000000000)\n",
    "t1 = time.time() -t0\n",
    "print(\"t = \", t1, \"s,\")"
   ],
   "id": "60740397d91dd3dc",
   "outputs": [
    {
     "name": "stdout",
     "output_type": "stream",
     "text": [
      "t =  0.0001239776611328125 s,\n"
     ]
    }
   ],
   "execution_count": 15
  },
  {
   "metadata": {
    "ExecuteTime": {
     "end_time": "2025-03-04T11:27:25.871143Z",
     "start_time": "2025-03-04T11:27:25.868081Z"
    }
   },
   "cell_type": "code",
   "source": [
    "#######################################\n",
    "## EXAMPLE: LINEAR COMPLEXITY\n",
    "#######################################"
   ],
   "id": "72aff780af74ffcc",
   "outputs": [],
   "execution_count": 26
  },
  {
   "metadata": {
    "ExecuteTime": {
     "end_time": "2025-03-04T11:27:26.973581Z",
     "start_time": "2025-03-04T11:27:26.967506Z"
    }
   },
   "cell_type": "code",
   "source": [
    "def linear_search(L, e):\n",
    "    found = False\n",
    "    for i in range(len(L)):\n",
    "        if e == L[i]:\n",
    "            found = True\n",
    "    return found\n",
    "\n",
    "testList = [1, 3, 4, 5, 9, 18, 27]\n",
    "linear_search(testList, 90)"
   ],
   "id": "83478e9f40cce93e",
   "outputs": [
    {
     "data": {
      "text/plain": [
       "False"
      ]
     },
     "execution_count": 27,
     "metadata": {},
     "output_type": "execute_result"
    }
   ],
   "execution_count": 27
  },
  {
   "metadata": {
    "ExecuteTime": {
     "end_time": "2025-03-04T11:27:27.562599Z",
     "start_time": "2025-03-04T11:27:27.558408Z"
    }
   },
   "cell_type": "code",
   "source": [
    "def search(L, e):\n",
    "    for i in range(len(L)):\n",
    "        if L[i] == e:\n",
    "            return True\n",
    "        if L[i] > e:\n",
    "            return False\n",
    "    return False\n",
    "\n",
    "testList = [1, 3, 4, 5, 9, 18, 27]\n",
    "search(testList, 90)"
   ],
   "id": "69b7accc4d452899",
   "outputs": [
    {
     "data": {
      "text/plain": [
       "False"
      ]
     },
     "execution_count": 28,
     "metadata": {},
     "output_type": "execute_result"
    }
   ],
   "execution_count": 28
  },
  {
   "metadata": {
    "ExecuteTime": {
     "end_time": "2025-03-04T11:27:32.489866Z",
     "start_time": "2025-03-04T11:27:32.484272Z"
    }
   },
   "cell_type": "code",
   "source": [
    "#######################################\n",
    "## EXAMPLE: QUADRATIC COMPLEXITY\n",
    "#######################################"
   ],
   "id": "cfd0c3d0ea3ac6a0",
   "outputs": [],
   "execution_count": 32
  },
  {
   "metadata": {
    "ExecuteTime": {
     "end_time": "2025-03-04T11:27:33.320259Z",
     "start_time": "2025-03-04T11:27:33.313952Z"
    }
   },
   "cell_type": "code",
   "source": [
    "def isSubset(L1, L2):\n",
    "    for e1 in L1:\n",
    "        matched = False\n",
    "        for e2 in L2:\n",
    "            if e1 == e2:\n",
    "                matched = True\n",
    "                break\n",
    "        if not matched:\n",
    "            return False\n",
    "    return True\n",
    "\n",
    "testSet = [1, 2, 3, 4, 5]\n",
    "testSet1 = [1, 5, 3]\n",
    "testSet2 = [1, 6]"
   ],
   "id": "ff24cb9d33975245",
   "outputs": [],
   "execution_count": 33
  },
  {
   "metadata": {
    "ExecuteTime": {
     "end_time": "2025-03-04T11:27:34.200899Z",
     "start_time": "2025-03-04T11:27:34.195684Z"
    }
   },
   "cell_type": "code",
   "source": "isSubset(testSet1, testSet)",
   "id": "5f38522d566dc458",
   "outputs": [
    {
     "data": {
      "text/plain": [
       "True"
      ]
     },
     "execution_count": 34,
     "metadata": {},
     "output_type": "execute_result"
    }
   ],
   "execution_count": 34
  },
  {
   "metadata": {
    "ExecuteTime": {
     "end_time": "2025-03-04T11:27:35.913793Z",
     "start_time": "2025-03-04T11:27:35.907267Z"
    }
   },
   "cell_type": "code",
   "source": "isSubset(testSet2, testSet)",
   "id": "4ab8324e03c2a8df",
   "outputs": [
    {
     "data": {
      "text/plain": [
       "False"
      ]
     },
     "execution_count": 35,
     "metadata": {},
     "output_type": "execute_result"
    }
   ],
   "execution_count": 35
  },
  {
   "metadata": {
    "ExecuteTime": {
     "end_time": "2025-03-04T11:27:36.628319Z",
     "start_time": "2025-03-04T11:27:36.623494Z"
    }
   },
   "cell_type": "code",
   "source": [
    "def intersect(L1, L2):\n",
    "    tmp = []\n",
    "    for e1 in L1:\n",
    "        for e2 in L2:\n",
    "            if e1 == e2:\n",
    "                tmp.append(e1)\n",
    "    res = []\n",
    "    for e in tmp:\n",
    "        if not(e in res):\n",
    "            res.append(e)\n",
    "    return res\n",
    "\n",
    "## O(len(L1)**2)"
   ],
   "id": "9aded949439c67fd",
   "outputs": [],
   "execution_count": 36
  }
 ],
 "metadata": {
  "kernelspec": {
   "display_name": "Python 3",
   "language": "python",
   "name": "python3"
  },
  "language_info": {
   "codemirror_mode": {
    "name": "ipython",
    "version": 2
   },
   "file_extension": ".py",
   "mimetype": "text/x-python",
   "name": "python",
   "nbconvert_exporter": "python",
   "pygments_lexer": "ipython2",
   "version": "2.7.6"
  }
 },
 "nbformat": 4,
 "nbformat_minor": 5
}
