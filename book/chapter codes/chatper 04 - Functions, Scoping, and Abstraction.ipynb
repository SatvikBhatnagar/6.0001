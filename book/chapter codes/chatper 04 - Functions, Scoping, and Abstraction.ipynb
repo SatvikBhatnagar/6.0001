{
 "cells": [
  {
   "metadata": {},
   "cell_type": "markdown",
   "source": "# SCOPING",
   "id": "51f9960beab4a5fa"
  },
  {
   "metadata": {
    "ExecuteTime": {
     "end_time": "2025-03-12T15:52:00.311074Z",
     "start_time": "2025-03-12T15:52:00.307015Z"
    }
   },
   "cell_type": "code",
   "source": [
    "# example\n",
    "def f(x): # name x used as formal parameter\n",
    "    y = 1\n",
    "    x = x + y\n",
    "    print('x =', x)\n",
    "    return x\n",
    "x = 3\n",
    "y = 2\n",
    "z = f(x) # value of x used as actual parameter\n",
    "print('z =', z)\n",
    "print('x =', x)\n",
    "print('y =', y)"
   ],
   "id": "f64e0bd4c81a891d",
   "outputs": [
    {
     "name": "stdout",
     "output_type": "stream",
     "text": [
      "x = 4\n",
      "z = 4\n",
      "x = 3\n",
      "y = 2\n"
     ]
    }
   ],
   "execution_count": 9
  },
  {
   "metadata": {
    "ExecuteTime": {
     "end_time": "2025-03-12T15:52:00.997752Z",
     "start_time": "2025-03-12T15:52:00.987518Z"
    }
   },
   "cell_type": "code",
   "source": [
    "def f(x):\n",
    "    def g():\n",
    "        x = 'abc'\n",
    "        print('x =', x)\n",
    "    def h():\n",
    "        z = x\n",
    "        print('z =', z)\n",
    "    x = x + 1\n",
    "    print('x =', x)\n",
    "    h()\n",
    "    g()\n",
    "    print('x =', x)\n",
    "    return g\n",
    "\n",
    "x = 3\n",
    "z = f(x)\n",
    "print('x =', x)\n",
    "print('z =', z)\n",
    "z()"
   ],
   "id": "927bcd191a554ae6",
   "outputs": [
    {
     "name": "stdout",
     "output_type": "stream",
     "text": [
      "x = 4\n",
      "z = 4\n",
      "x = abc\n",
      "x = 4\n",
      "x = 3\n",
      "z = <function f.<locals>.g at 0x710d4dd84400>\n",
      "x = abc\n"
     ]
    }
   ],
   "execution_count": 10
  },
  {
   "metadata": {
    "ExecuteTime": {
     "end_time": "2025-03-12T15:52:01.620186Z",
     "start_time": "2025-03-12T15:52:01.589146Z"
    }
   },
   "cell_type": "code",
   "source": [
    "# if an object is bound to a name anywhere in the function body (even if it occurs in an expression before it appears as the left-hand side of an assignment), it is treated as local to that function.\n",
    "def f():\n",
    "    print(x)\n",
    "def g():\n",
    "    print(x)\n",
    "    x = 1\n",
    "\n",
    "x = 3\n",
    "f()\n",
    "x = 3\n",
    "g()"
   ],
   "id": "d697003f51378c27",
   "outputs": [
    {
     "name": "stdout",
     "output_type": "stream",
     "text": [
      "3\n"
     ]
    },
    {
     "ename": "UnboundLocalError",
     "evalue": "cannot access local variable 'x' where it is not associated with a value",
     "output_type": "error",
     "traceback": [
      "\u001B[0;31m---------------------------------------------------------------------------\u001B[0m",
      "\u001B[0;31mUnboundLocalError\u001B[0m                         Traceback (most recent call last)",
      "Cell \u001B[0;32mIn[11], line 11\u001B[0m\n\u001B[1;32m      9\u001B[0m f()\n\u001B[1;32m     10\u001B[0m x \u001B[38;5;241m=\u001B[39m \u001B[38;5;241m3\u001B[39m\n\u001B[0;32m---> 11\u001B[0m \u001B[43mg\u001B[49m\u001B[43m(\u001B[49m\u001B[43m)\u001B[49m\n",
      "Cell \u001B[0;32mIn[11], line 5\u001B[0m, in \u001B[0;36mg\u001B[0;34m()\u001B[0m\n\u001B[1;32m      4\u001B[0m \u001B[38;5;28;01mdef\u001B[39;00m\u001B[38;5;250m \u001B[39m\u001B[38;5;21mg\u001B[39m():\n\u001B[0;32m----> 5\u001B[0m     \u001B[38;5;28mprint\u001B[39m(\u001B[43mx\u001B[49m)\n\u001B[1;32m      6\u001B[0m     x \u001B[38;5;241m=\u001B[39m \u001B[38;5;241m1\u001B[39m\n",
      "\u001B[0;31mUnboundLocalError\u001B[0m: cannot access local variable 'x' where it is not associated with a value"
     ]
    }
   ],
   "execution_count": 11
  },
  {
   "metadata": {
    "ExecuteTime": {
     "end_time": "2025-03-12T15:52:02.238657Z",
     "start_time": "2025-03-12T15:52:02.234443Z"
    }
   },
   "cell_type": "code",
   "source": [
    "def findRoot(x, power, epsilon):\n",
    "    \"\"\"Assumes x and epsilon int or float, power an int,\n",
    "            epsilon > 0 &power >= 1\n",
    "        Returns float y such that y***power is within epsilon of x.\n",
    "            If such a float does not exist, it returns None.\"\"\"\n",
    "\n",
    "    if x < 0 and power % 2 == 0: # negative number has no even-powered roots\n",
    "        return None\n",
    "    low = min(-1.0, x)\n",
    "    high = max(1.0, x)\n",
    "    ans = (high + low) / 2.0\n",
    "    while abs(ans**power - x) >= epsilon:\n",
    "        if ans**power < x:\n",
    "            low = ans\n",
    "        else:\n",
    "            high = ans\n",
    "        ans = (high + low) / 2.0\n",
    "    return ans\n",
    "\n",
    "def testFindRoot():\n",
    "    epsilon = 0.0001\n",
    "    for x in [0.25, -0.25, 2, -2, 8, -8]:\n",
    "        for power in range(1,4):\n",
    "            print('Testing x =', str(x), 'and power =', power)\n",
    "            result = findRoot(x, power, epsilon)\n",
    "            if result == None:\n",
    "                print('No root')\n",
    "            else:\n",
    "                print('     ', result**power, '~=', x)"
   ],
   "id": "e210172818902e73",
   "outputs": [],
   "execution_count": 12
  },
  {
   "metadata": {
    "ExecuteTime": {
     "end_time": "2025-03-12T15:52:03.024296Z",
     "start_time": "2025-03-12T15:52:03.020766Z"
    }
   },
   "cell_type": "code",
   "source": "testFindRoot()",
   "id": "e40ce100b3953f62",
   "outputs": [
    {
     "name": "stdout",
     "output_type": "stream",
     "text": [
      "Testing x = 0.25 and power = 1\n",
      "      0.25 ~= 0.25\n",
      "Testing x = 0.25 and power = 2\n",
      "      0.25 ~= 0.25\n",
      "Testing x = 0.25 and power = 3\n",
      "      0.24990749079734087 ~= 0.25\n",
      "Testing x = -0.25 and power = 1\n",
      "      -0.25 ~= -0.25\n",
      "Testing x = -0.25 and power = 2\n",
      "No root\n",
      "Testing x = -0.25 and power = 3\n",
      "      -0.24990749079734087 ~= -0.25\n",
      "Testing x = 2 and power = 1\n",
      "      1.999908447265625 ~= 2\n",
      "Testing x = 2 and power = 2\n",
      "      2.0000906325876713 ~= 2\n",
      "Testing x = 2 and power = 3\n",
      "      2.000059155646067 ~= 2\n",
      "Testing x = -2 and power = 1\n",
      "      -1.999908447265625 ~= -2\n",
      "Testing x = -2 and power = 2\n",
      "No root\n",
      "Testing x = -2 and power = 3\n",
      "      -2.000059155646067 ~= -2\n",
      "Testing x = 8 and power = 1\n",
      "      7.999931335449219 ~= 8\n",
      "Testing x = 8 and power = 2\n",
      "      7.99999568007479 ~= 8\n",
      "Testing x = 8 and power = 3\n",
      "      8.000068664747232 ~= 8\n",
      "Testing x = -8 and power = 1\n",
      "      -7.999931335449219 ~= -8\n",
      "Testing x = -8 and power = 2\n",
      "No root\n",
      "Testing x = -8 and power = 3\n",
      "      -8.000068664747232 ~= -8\n"
     ]
    }
   ],
   "execution_count": 13
  },
  {
   "metadata": {
    "ExecuteTime": {
     "end_time": "2025-03-12T15:52:03.653111Z",
     "start_time": "2025-03-12T15:52:03.650615Z"
    }
   },
   "cell_type": "code",
   "source": [
    "#############################################\n",
    "# Recursion\n",
    "#############################################"
   ],
   "id": "22b9778973574405",
   "outputs": [],
   "execution_count": 14
  },
  {
   "metadata": {
    "ExecuteTime": {
     "end_time": "2025-03-12T15:52:04.334386Z",
     "start_time": "2025-03-12T15:52:04.330467Z"
    }
   },
   "cell_type": "code",
   "source": [
    "# Iterative implementation of factorial\n",
    "def factI(n):\n",
    "    \"\"\"Assumes n an int > 0\n",
    "        Returns n!\"\"\"\n",
    "    result = 1\n",
    "    while n > 1:\n",
    "        result = result * n\n",
    "        n -= 1\n",
    "    return result\n",
    "\n",
    "factI(20)"
   ],
   "id": "67c347e147f2af94",
   "outputs": [
    {
     "data": {
      "text/plain": [
       "2432902008176640000"
      ]
     },
     "execution_count": 15,
     "metadata": {},
     "output_type": "execute_result"
    }
   ],
   "execution_count": 15
  },
  {
   "metadata": {
    "ExecuteTime": {
     "end_time": "2025-03-12T15:52:04.946123Z",
     "start_time": "2025-03-12T15:52:04.934741Z"
    }
   },
   "cell_type": "code",
   "source": [
    "# Recursive implementation of factorial\n",
    "def factR(n):\n",
    "    \"\"\"Assumes n an int > 0\n",
    "        Returns n!\"\"\"\n",
    "    if n == 1:\n",
    "        return n\n",
    "    else:\n",
    "        return n*factR(n-1)\n",
    "\n",
    "factR(20)"
   ],
   "id": "42b8c231f15a20ab",
   "outputs": [
    {
     "data": {
      "text/plain": [
       "2432902008176640000"
      ]
     },
     "execution_count": 16,
     "metadata": {},
     "output_type": "execute_result"
    }
   ],
   "execution_count": 16
  },
  {
   "metadata": {
    "ExecuteTime": {
     "end_time": "2025-03-12T15:52:05.981807Z",
     "start_time": "2025-03-12T15:52:05.973005Z"
    }
   },
   "cell_type": "code",
   "source": [
    "# Recursive implementation of Fibonacci sequence\n",
    "def fib(n):\n",
    "    \"\"\"Assumes n int >= 0\n",
    "        Returns Fibonacci of n\"\"\"\n",
    "    if n == 0 or n == 1:\n",
    "        return 1\n",
    "    else:\n",
    "        return fib(n-1) + fib(n-2)\n",
    "\n",
    "def testFib(n):\n",
    "    for i in range(n+1):\n",
    "        print('fib of', i, '=', fib(i))\n",
    "\n",
    "testFib(20)"
   ],
   "id": "7ba07594c7afc23f",
   "outputs": [
    {
     "name": "stdout",
     "output_type": "stream",
     "text": [
      "fib of 0 = 1\n",
      "fib of 1 = 1\n",
      "fib of 2 = 2\n",
      "fib of 3 = 3\n",
      "fib of 4 = 5\n",
      "fib of 5 = 8\n",
      "fib of 6 = 13\n",
      "fib of 7 = 21\n",
      "fib of 8 = 34\n",
      "fib of 9 = 55\n",
      "fib of 10 = 89\n",
      "fib of 11 = 144\n",
      "fib of 12 = 233\n",
      "fib of 13 = 377\n",
      "fib of 14 = 610\n",
      "fib of 15 = 987\n",
      "fib of 16 = 1597\n",
      "fib of 17 = 2584\n",
      "fib of 18 = 4181\n",
      "fib of 19 = 6765\n",
      "fib of 20 = 10946\n"
     ]
    }
   ],
   "execution_count": 17
  },
  {
   "metadata": {
    "ExecuteTime": {
     "end_time": "2025-03-12T15:52:07.145307Z",
     "start_time": "2025-03-12T15:52:07.142850Z"
    }
   },
   "cell_type": "code",
   "source": [
    "#############################################\n",
    "# Helper Functions\n",
    "#############################################"
   ],
   "id": "1fe08276504d2d9d",
   "outputs": [],
   "execution_count": 18
  },
  {
   "metadata": {
    "ExecuteTime": {
     "end_time": "2025-03-12T16:04:48.369332Z",
     "start_time": "2025-03-12T16:04:48.363735Z"
    }
   },
   "cell_type": "code",
   "source": [
    "def isPalindrome(s):\n",
    "    \"\"\"Assumes s is a str\n",
    "        Returns True if s is a palindrome, False otherwise.\n",
    "        Non-letters and capitalization are ignored.\"\"\"\n",
    "    def toChars(s):\n",
    "        s = s.lower()\n",
    "        letters = ''\n",
    "        for c in s:\n",
    "            if c in 'abcdefghijklmnopqrstuvwxyz':\n",
    "                letters += c\n",
    "        return letters\n",
    "\n",
    "    def isPal(s):\n",
    "        if len(s) <= 1:\n",
    "            return True\n",
    "        else:\n",
    "            return s[0] == s[-1] and isPal(s[1:-1])\n",
    "\n",
    "    return isPal(toChars(s))\n",
    "\n",
    "pal = \"I saw desserts; I'd no lemons, alas no melon. Distressed was I.\"\n",
    "print('Try:->', pal)\n",
    "isPalindrome(pal)"
   ],
   "id": "d8b1af8ad4a3ee3d",
   "outputs": [
    {
     "name": "stdout",
     "output_type": "stream",
     "text": [
      "Try:-> I saw desserts; I'd no lemons, alas no melon. Distressed was I.\n"
     ]
    },
    {
     "data": {
      "text/plain": [
       "True"
      ]
     },
     "execution_count": 21,
     "metadata": {},
     "output_type": "execute_result"
    }
   ],
   "execution_count": 21
  },
  {
   "metadata": {
    "ExecuteTime": {
     "end_time": "2025-03-12T16:07:08.500630Z",
     "start_time": "2025-03-12T16:07:08.495352Z"
    }
   },
   "cell_type": "code",
   "source": [
    "# Visualization of the palindrome function\n",
    "def isPalindrome(s):\n",
    "    \"\"\"Assumes s is a str\n",
    "        Returns True if s is a palindrome, False otherwise.\n",
    "        Non-letters and capitalization are ignored.\"\"\"\n",
    "    def toChars(s):\n",
    "        s = s.lower()\n",
    "        letters = ''\n",
    "        for c in s:\n",
    "            if c in 'abcdefghijklmnopqrstuvwxyz':\n",
    "                letters += c\n",
    "        return letters\n",
    "\n",
    "    def isPal(s):\n",
    "        print('     isPal called with', s)\n",
    "        if len(s) <= 1:\n",
    "            print('     About to return from base case')\n",
    "            return True\n",
    "        else:\n",
    "            answer = s[0] == s[-1] and isPal(s[1:-1])\n",
    "            print('     About to return', answer, 'for', s)\n",
    "            return answer\n",
    "\n",
    "    return isPal(toChars(s))\n",
    "\n",
    "pal = \"I saw desserts; I'd no lemons, alas no melon. Distressed was I.\"\n",
    "print('Try:->', pal)\n",
    "isPalindrome(pal)"
   ],
   "id": "8c3b845449abe3df",
   "outputs": [
    {
     "name": "stdout",
     "output_type": "stream",
     "text": [
      "Try:-> I saw desserts; I'd no lemons, alas no melon. Distressed was I.\n",
      "     isPal called with isawdessertsidnolemonsalasnomelondistressedwasi\n",
      "     isPal called with sawdessertsidnolemonsalasnomelondistressedwas\n",
      "     isPal called with awdessertsidnolemonsalasnomelondistressedwa\n",
      "     isPal called with wdessertsidnolemonsalasnomelondistressedw\n",
      "     isPal called with dessertsidnolemonsalasnomelondistressed\n",
      "     isPal called with essertsidnolemonsalasnomelondistresse\n",
      "     isPal called with ssertsidnolemonsalasnomelondistress\n",
      "     isPal called with sertsidnolemonsalasnomelondistres\n",
      "     isPal called with ertsidnolemonsalasnomelondistre\n",
      "     isPal called with rtsidnolemonsalasnomelondistr\n",
      "     isPal called with tsidnolemonsalasnomelondist\n",
      "     isPal called with sidnolemonsalasnomelondis\n",
      "     isPal called with idnolemonsalasnomelondi\n",
      "     isPal called with dnolemonsalasnomelond\n",
      "     isPal called with nolemonsalasnomelon\n",
      "     isPal called with olemonsalasnomelo\n",
      "     isPal called with lemonsalasnomel\n",
      "     isPal called with emonsalasnome\n",
      "     isPal called with monsalasnom\n",
      "     isPal called with onsalasno\n",
      "     isPal called with nsalasn\n",
      "     isPal called with salas\n",
      "     isPal called with ala\n",
      "     isPal called with l\n",
      "     About to return from base case\n",
      "     About to return True for ala\n",
      "     About to return True for salas\n",
      "     About to return True for nsalasn\n",
      "     About to return True for onsalasno\n",
      "     About to return True for monsalasnom\n",
      "     About to return True for emonsalasnome\n",
      "     About to return True for lemonsalasnomel\n",
      "     About to return True for olemonsalasnomelo\n",
      "     About to return True for nolemonsalasnomelon\n",
      "     About to return True for dnolemonsalasnomelond\n",
      "     About to return True for idnolemonsalasnomelondi\n",
      "     About to return True for sidnolemonsalasnomelondis\n",
      "     About to return True for tsidnolemonsalasnomelondist\n",
      "     About to return True for rtsidnolemonsalasnomelondistr\n",
      "     About to return True for ertsidnolemonsalasnomelondistre\n",
      "     About to return True for sertsidnolemonsalasnomelondistres\n",
      "     About to return True for ssertsidnolemonsalasnomelondistress\n",
      "     About to return True for essertsidnolemonsalasnomelondistresse\n",
      "     About to return True for dessertsidnolemonsalasnomelondistressed\n",
      "     About to return True for wdessertsidnolemonsalasnomelondistressedw\n",
      "     About to return True for awdessertsidnolemonsalasnomelondistressedwa\n",
      "     About to return True for sawdessertsidnolemonsalasnomelondistressedwas\n",
      "     About to return True for isawdessertsidnolemonsalasnomelondistressedwasi\n"
     ]
    },
    {
     "data": {
      "text/plain": [
       "True"
      ]
     },
     "execution_count": 22,
     "metadata": {},
     "output_type": "execute_result"
    }
   ],
   "execution_count": 22
  },
  {
   "metadata": {
    "ExecuteTime": {
     "end_time": "2025-03-12T16:18:17.471521Z",
     "start_time": "2025-03-12T16:18:17.464415Z"
    }
   },
   "cell_type": "code",
   "source": [
    "#############################################\n",
    "# Working with Modules\n",
    "#############################################"
   ],
   "id": "bb6bc5ba55055471",
   "outputs": [],
   "execution_count": 25
  },
  {
   "metadata": {
    "ExecuteTime": {
     "end_time": "2025-03-12T16:18:17.793136Z",
     "start_time": "2025-03-12T16:18:17.790319Z"
    }
   },
   "cell_type": "code",
   "source": "import circle",
   "id": "df5436f51f4f3179",
   "outputs": [],
   "execution_count": 26
  },
  {
   "metadata": {
    "ExecuteTime": {
     "end_time": "2025-03-12T16:18:18.149934Z",
     "start_time": "2025-03-12T16:18:18.146225Z"
    }
   },
   "cell_type": "code",
   "source": [
    "pi = 3\n",
    "print(pi)\n",
    "print(circle.pi)\n",
    "print(circle.area(3))\n",
    "print(circle.circumference(3))\n",
    "print(circle.sphereSurface(3))"
   ],
   "id": "1f1cb35213256f23",
   "outputs": [
    {
     "name": "stdout",
     "output_type": "stream",
     "text": [
      "3\n",
      "3.14159\n",
      "28.27431\n",
      "18.849539999999998\n",
      "113.09724\n"
     ]
    }
   ],
   "execution_count": 27
  },
  {
   "metadata": {
    "ExecuteTime": {
     "end_time": "2025-03-12T16:20:09.963021Z",
     "start_time": "2025-03-12T16:20:09.957977Z"
    }
   },
   "cell_type": "code",
   "source": [
    "from circle import *\n",
    "print(pi)\n",
    "print(circle.pi) # would produce an error if the previous to previous 'import circle' statement had not been executed"
   ],
   "id": "39ed07a657051770",
   "outputs": [
    {
     "name": "stdout",
     "output_type": "stream",
     "text": [
      "3.14159\n",
      "3.14159\n"
     ]
    }
   ],
   "execution_count": 28
  },
  {
   "metadata": {
    "ExecuteTime": {
     "end_time": "2025-03-13T14:48:55.451734Z",
     "start_time": "2025-03-13T14:48:55.449112Z"
    }
   },
   "cell_type": "code",
   "source": [
    "#############################################\n",
    "# Working with Files\n",
    "#############################################"
   ],
   "id": "df1dad27981e3971",
   "outputs": [],
   "execution_count": 1
  },
  {
   "metadata": {
    "ExecuteTime": {
     "end_time": "2025-03-13T15:02:42.423197Z",
     "start_time": "2025-03-13T15:02:42.419839Z"
    }
   },
   "cell_type": "code",
   "source": [
    "file = open('temp.txt', 'w')\n",
    "file.write('Hi')\n",
    "file.write('Bye')\n",
    "file.close()\n",
    "file = open('temp.txt', 'r')\n",
    "for line in file:\n",
    "    print(line)"
   ],
   "id": "bb36dd91e8f7c01c",
   "outputs": [
    {
     "name": "stdout",
     "output_type": "stream",
     "text": [
      "HiBye\n"
     ]
    }
   ],
   "execution_count": 18
  },
  {
   "metadata": {
    "ExecuteTime": {
     "end_time": "2025-03-13T15:02:42.749389Z",
     "start_time": "2025-03-13T15:02:42.730969Z"
    }
   },
   "cell_type": "code",
   "source": "file.close()",
   "id": "6fbf7d7ea8b17739",
   "outputs": [],
   "execution_count": 19
  },
  {
   "metadata": {
    "ExecuteTime": {
     "end_time": "2025-03-13T15:06:08.638106Z",
     "start_time": "2025-03-13T15:06:08.635379Z"
    }
   },
   "cell_type": "code",
   "source": [
    "file = open('temp.txt', 'w')\n",
    "s = ['My name is Satvik', \"Currently I'm developing the website www.modernbookdepot.com\", \"I'm also upskilling my python and SQL skills\"]\n",
    "file.writelines(line + '\\n' for line in s)\n",
    "file.close()"
   ],
   "id": "d55b1b12c8a35033",
   "outputs": [],
   "execution_count": 22
  },
  {
   "metadata": {
    "ExecuteTime": {
     "end_time": "2025-03-13T15:06:09.059330Z",
     "start_time": "2025-03-13T15:06:09.042450Z"
    }
   },
   "cell_type": "code",
   "source": [
    "file = open('temp.txt', 'r')\n",
    "print(file.read())\n",
    "file.close()"
   ],
   "id": "a12f47652fcf4bd5",
   "outputs": [
    {
     "name": "stdout",
     "output_type": "stream",
     "text": [
      "My name is Satvik\n",
      "Currently I'm developing the website www.modernbookdepot.com\n",
      "I'm also upskilling my python and SQL skills\n",
      "\n"
     ]
    }
   ],
   "execution_count": 23
  },
  {
   "metadata": {
    "ExecuteTime": {
     "end_time": "2025-03-13T16:20:19.109807Z",
     "start_time": "2025-03-13T16:20:19.106415Z"
    }
   },
   "cell_type": "code",
   "source": [
    "import os\n",
    "file_names = [\"temp\", \"temp.txt\"]\n",
    "\n",
    "for _ in file_names:\n",
    "    if os.path.exists(_):\n",
    "        os.remove(_)\n",
    "        print(\"File\", _, \"removed\")\n",
    "    else:\n",
    "        print(\"No such file\", _)\n"
   ],
   "id": "2930fc6691fe769f",
   "outputs": [
    {
     "name": "stdout",
     "output_type": "stream",
     "text": [
      "File temp removed\n",
      "File temp.txt removed\n"
     ]
    }
   ],
   "execution_count": 24
  }
 ],
 "metadata": {
  "kernelspec": {
   "display_name": "Python 3",
   "language": "python",
   "name": "python3"
  },
  "language_info": {
   "codemirror_mode": {
    "name": "ipython",
    "version": 2
   },
   "file_extension": ".py",
   "mimetype": "text/x-python",
   "name": "python",
   "nbconvert_exporter": "python",
   "pygments_lexer": "ipython2",
   "version": "2.7.6"
  }
 },
 "nbformat": 4,
 "nbformat_minor": 5
}
