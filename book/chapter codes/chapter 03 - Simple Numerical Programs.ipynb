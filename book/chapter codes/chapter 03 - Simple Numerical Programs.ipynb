{
 "cells": [
  {
   "metadata": {
    "ExecuteTime": {
     "end_time": "2025-03-07T15:41:10.112286Z",
     "start_time": "2025-03-07T15:41:10.109454Z"
    }
   },
   "cell_type": "code",
   "source": [
    "###################################\n",
    "# while Loops\n",
    "###################################"
   ],
   "id": "5df5ba472e1f151a",
   "outputs": [],
   "execution_count": 10
  },
  {
   "cell_type": "code",
   "id": "initial_id",
   "metadata": {
    "collapsed": true,
    "ExecuteTime": {
     "end_time": "2025-03-07T15:26:23.056584Z",
     "start_time": "2025-03-07T15:26:15.999597Z"
    }
   },
   "source": [
    "# using exhaustive enumeration to find the cube root\n",
    "x = int(input(\"Enter an integer: \"))\n",
    "ans = 0\n",
    "while ans**3 < abs(x):\n",
    "    ans = ans + 1\n",
    "if ans**3 != abs(x):\n",
    "    print(x, 'is not a perfect cube')\n",
    "else:\n",
    "    if x < 0:\n",
    "        ans = -ans\n",
    "    print('Cube root of', x, 'is', ans)"
   ],
   "outputs": [
    {
     "name": "stdout",
     "output_type": "stream",
     "text": [
      "Cube root of 1957816251 is 1251\n"
     ]
    }
   ],
   "execution_count": 5
  },
  {
   "metadata": {
    "ExecuteTime": {
     "end_time": "2025-03-08T04:56:15.550763Z",
     "start_time": "2025-03-08T04:56:01.917977Z"
    }
   },
   "cell_type": "code",
   "source": [
    "# using exhaustive enumeration to find the cube root using for loop\n",
    "x = int(input(\"Enter an integer: \"))\n",
    "for ans in range(0, abs(x)+2):\n",
    "    if ans**3 >= abs(x):\n",
    "        break\n",
    "if ans**3 != abs(x): # the last value of the variable in the for loop remains accessible after the loop ends\n",
    "    print(x, 'is not a perfect cube')\n",
    "else:\n",
    "    if x < 0:\n",
    "        ans = -ans\n",
    "    print('Cube root of', x, 'is', ans)"
   ],
   "id": "b44a7b63e14b0479",
   "outputs": [
    {
     "name": "stdout",
     "output_type": "stream",
     "text": [
      "Cube root of 1957816251 is 1251\n"
     ]
    }
   ],
   "execution_count": 4
  },
  {
   "metadata": {
    "ExecuteTime": {
     "end_time": "2025-03-08T05:36:05.925243Z",
     "start_time": "2025-03-08T05:36:00.265997Z"
    }
   },
   "cell_type": "code",
   "source": [
    "# Approximating the square root using exhaustive enumeration\n",
    "x = 256\n",
    "epsilon = 0.001\n",
    "step = epsilon**2\n",
    "numGuesses = 0\n",
    "ans = 0.0\n",
    "while abs(ans**2 - x) >= epsilon and ans*ans <= x:\n",
    "    ans += step\n",
    "    numGuesses += 1\n",
    "print('numGuesses:', numGuesses)\n",
    "if abs(ans**2 - x) >= epsilon:\n",
    "    print('Failed on square root of', x)\n",
    "else:\n",
    "    print(ans, 'is close to square root of', x)"
   ],
   "id": "51f29c99efcd9f64",
   "outputs": [
    {
     "name": "stdout",
     "output_type": "stream",
     "text": [
      "numGuesses: 15999969\n",
      "15.999968994777138 is close to square root of 256\n"
     ]
    }
   ],
   "execution_count": 21
  },
  {
   "metadata": {
    "ExecuteTime": {
     "end_time": "2025-03-08T05:26:08.182453Z",
     "start_time": "2025-03-08T05:26:08.176905Z"
    }
   },
   "cell_type": "code",
   "source": [
    "# Using bisection search to approximate square root\n",
    "x = 58201641\n",
    "epsilon = 0.001\n",
    "numGuesses = 0\n",
    "low = 0.0\n",
    "high = max(1.0,x)\n",
    "ans = (high+low)/2.0\n",
    "while abs(ans**2 - x) >= epsilon:\n",
    "    print('low = ', low, 'high = ', high, 'ans = ', ans)\n",
    "    numGuesses += 1\n",
    "    if ans**2 < x:\n",
    "        low = ans\n",
    "    else:\n",
    "        high = ans\n",
    "    ans = (high+low)/2.0\n",
    "print('numGuesses:', numGuesses)\n",
    "print(ans, 'is close to square root of', x)"
   ],
   "id": "ee889512bd719a04",
   "outputs": [
    {
     "name": "stdout",
     "output_type": "stream",
     "text": [
      "low =  0.0 high =  58201641 ans =  29100820.5\n",
      "low =  0.0 high =  29100820.5 ans =  14550410.25\n",
      "low =  0.0 high =  14550410.25 ans =  7275205.125\n",
      "low =  0.0 high =  7275205.125 ans =  3637602.5625\n",
      "low =  0.0 high =  3637602.5625 ans =  1818801.28125\n",
      "low =  0.0 high =  1818801.28125 ans =  909400.640625\n",
      "low =  0.0 high =  909400.640625 ans =  454700.3203125\n",
      "low =  0.0 high =  454700.3203125 ans =  227350.16015625\n",
      "low =  0.0 high =  227350.16015625 ans =  113675.080078125\n",
      "low =  0.0 high =  113675.080078125 ans =  56837.5400390625\n",
      "low =  0.0 high =  56837.5400390625 ans =  28418.77001953125\n",
      "low =  0.0 high =  28418.77001953125 ans =  14209.385009765625\n",
      "low =  0.0 high =  14209.385009765625 ans =  7104.6925048828125\n",
      "low =  7104.6925048828125 high =  14209.385009765625 ans =  10657.038757324219\n",
      "low =  7104.6925048828125 high =  10657.038757324219 ans =  8880.865631103516\n",
      "low =  7104.6925048828125 high =  8880.865631103516 ans =  7992.779067993164\n",
      "low =  7104.6925048828125 high =  7992.779067993164 ans =  7548.735786437988\n",
      "low =  7548.735786437988 high =  7992.779067993164 ans =  7770.757427215576\n",
      "low =  7548.735786437988 high =  7770.757427215576 ans =  7659.746606826782\n",
      "low =  7548.735786437988 high =  7659.746606826782 ans =  7604.241196632385\n",
      "low =  7604.241196632385 high =  7659.746606826782 ans =  7631.993901729584\n",
      "low =  7604.241196632385 high =  7631.993901729584 ans =  7618.1175491809845\n",
      "low =  7618.1175491809845 high =  7631.993901729584 ans =  7625.055725455284\n",
      "low =  7625.055725455284 high =  7631.993901729584 ans =  7628.524813592434\n",
      "low =  7628.524813592434 high =  7631.993901729584 ans =  7630.259357661009\n",
      "low =  7628.524813592434 high =  7630.259357661009 ans =  7629.392085626721\n",
      "low =  7628.524813592434 high =  7629.392085626721 ans =  7628.958449609578\n",
      "low =  7628.958449609578 high =  7629.392085626721 ans =  7629.1752676181495\n",
      "low =  7628.958449609578 high =  7629.1752676181495 ans =  7629.066858613864\n",
      "low =  7628.958449609578 high =  7629.066858613864 ans =  7629.012654111721\n",
      "low =  7628.958449609578 high =  7629.012654111721 ans =  7628.985551860649\n",
      "low =  7628.985551860649 high =  7629.012654111721 ans =  7628.999102986185\n",
      "low =  7628.999102986185 high =  7629.012654111721 ans =  7629.005878548953\n",
      "low =  7628.999102986185 high =  7629.005878548953 ans =  7629.002490767569\n",
      "low =  7628.999102986185 high =  7629.002490767569 ans =  7629.000796876877\n",
      "low =  7628.999102986185 high =  7629.000796876877 ans =  7628.999949931531\n",
      "low =  7628.999949931531 high =  7629.000796876877 ans =  7629.000373404204\n",
      "low =  7628.999949931531 high =  7629.000373404204 ans =  7629.000161667867\n",
      "low =  7628.999949931531 high =  7629.000161667867 ans =  7629.000055799699\n",
      "low =  7628.999949931531 high =  7629.000055799699 ans =  7629.000002865615\n",
      "low =  7628.999949931531 high =  7629.000002865615 ans =  7628.9999763985725\n",
      "low =  7628.9999763985725 high =  7629.000002865615 ans =  7628.999989632093\n",
      "low =  7628.999989632093 high =  7629.000002865615 ans =  7628.999996248855\n",
      "low =  7628.999996248855 high =  7629.000002865615 ans =  7628.999999557234\n",
      "low =  7628.999999557234 high =  7629.000002865615 ans =  7629.000001211425\n",
      "low =  7628.999999557234 high =  7629.000001211425 ans =  7629.00000038433\n",
      "numGuesses: 46\n",
      "7628.999999970782 is close to square root of 58201641\n"
     ]
    }
   ],
   "execution_count": 19
  },
  {
   "metadata": {
    "ExecuteTime": {
     "end_time": "2025-03-08T07:28:38.773561Z",
     "start_time": "2025-03-08T07:28:38.770644Z"
    }
   },
   "cell_type": "code",
   "source": [
    "# when floats don't work\n",
    "x = 0.0\n",
    "for i in range(10):\n",
    "    x = x + 0.1\n",
    "if x == 1.0:\n",
    "    print(x, '= 1.0')\n",
    "else:\n",
    "    print(x, 'is not 1.0')"
   ],
   "id": "8514b761658d0008",
   "outputs": [
    {
     "name": "stdout",
     "output_type": "stream",
     "text": [
      "0.9999999999999999 is not 1.0\n"
     ]
    }
   ],
   "execution_count": 22
  },
  {
   "metadata": {
    "ExecuteTime": {
     "end_time": "2025-03-08T07:38:57.383280Z",
     "start_time": "2025-03-08T07:38:57.373465Z"
    }
   },
   "cell_type": "code",
   "source": "round(1234525.45346726,5)",
   "id": "84ad48a0821afebc",
   "outputs": [
    {
     "data": {
      "text/plain": [
       "1234525.45347"
      ]
     },
     "execution_count": 26,
     "metadata": {},
     "output_type": "execute_result"
    }
   ],
   "execution_count": 26
  },
  {
   "metadata": {
    "ExecuteTime": {
     "end_time": "2025-03-08T07:48:06.292429Z",
     "start_time": "2025-03-08T07:48:06.281069Z"
    }
   },
   "cell_type": "code",
   "source": [
    "# Implementation of Newton-Raphson method\n",
    "# Find x such that x**2 -24 is within epsilon of 0\n",
    "epsilon = 0.01\n",
    "k = 24.0\n",
    "guess = k/2.0\n",
    "while abs(guess*guess - k) >= epsilon:\n",
    "    guess = guess - (((guess**2) - k) / (2*guess))\n",
    "print('Square root of', k, 'is about', guess)"
   ],
   "id": "9b18c9ec2cc603a0",
   "outputs": [
    {
     "name": "stdout",
     "output_type": "stream",
     "text": [
      "Square root of 24.0 is about 4.8989887432139305\n"
     ]
    }
   ],
   "execution_count": 29
  }
 ],
 "metadata": {
  "kernelspec": {
   "display_name": "Python 3",
   "language": "python",
   "name": "python3"
  },
  "language_info": {
   "codemirror_mode": {
    "name": "ipython",
    "version": 2
   },
   "file_extension": ".py",
   "mimetype": "text/x-python",
   "name": "python",
   "nbconvert_exporter": "python",
   "pygments_lexer": "ipython2",
   "version": "2.7.6"
  }
 },
 "nbformat": 4,
 "nbformat_minor": 5
}
