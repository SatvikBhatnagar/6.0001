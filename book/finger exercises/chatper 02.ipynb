{
 "cells": [
  {
   "cell_type": "code",
   "id": "initial_id",
   "metadata": {
    "collapsed": true,
    "ExecuteTime": {
     "end_time": "2025-03-07T14:37:14.689514Z",
     "start_time": "2025-03-07T14:37:01.650245Z"
    }
   },
   "source": [
    "# Replace the comment in the following code with a while loop.\n",
    "\n",
    "\"\"\"numXs = int(input('How many times should I print the letter X? '))\n",
    "toPrint = ''\n",
    "#concatenate X to toPrint numXs times\n",
    "print(toPrint)\"\"\"\n",
    "\n",
    "numXs = int(input('How many times should I print the letter X? '))\n",
    "toPrint = ''\n",
    "count = 0\n",
    "while count < numXs:\n",
    "    toPrint = toPrint + 'X'\n",
    "    count += 1\n",
    "print(toPrint)"
   ],
   "outputs": [
    {
     "name": "stdout",
     "output_type": "stream",
     "text": [
      "XXXXXXXXXXXXXXXXXXXXXXXXXXXXXXXXXXXXXXXXXXXXXXXXXX\n"
     ]
    }
   ],
   "execution_count": 1
  },
  {
   "metadata": {
    "ExecuteTime": {
     "end_time": "2025-03-07T14:42:50.341566Z",
     "start_time": "2025-03-07T14:42:25.745944Z"
    }
   },
   "cell_type": "code",
   "source": [
    "# Write a program that asks the user to input 10 integers, and then prints the largest odd number that was entered. If no odd number was entered, it should print a message to that effect.\n",
    "\n",
    "count = 0\n",
    "ans = 0\n",
    "while count < 10:\n",
    "    num = int(input(\"Enter a number: \"))\n",
    "\n",
    "    if num % 2 == 0:\n",
    "        if num > ans:\n",
    "            ans = num\n",
    "\n",
    "    count = count + 1\n",
    "\n",
    "if ans == 0:\n",
    "    print('No odd number entered')\n",
    "else:\n",
    "    print('The largest odd number entered is', ans)"
   ],
   "id": "acbd7e91bc5d7e10",
   "outputs": [
    {
     "name": "stdout",
     "output_type": "stream",
     "text": [
      "The largest odd number entered is 34750\n"
     ]
    }
   ],
   "execution_count": 3
  }
 ],
 "metadata": {
  "kernelspec": {
   "display_name": "Python 3",
   "language": "python",
   "name": "python3"
  },
  "language_info": {
   "codemirror_mode": {
    "name": "ipython",
    "version": 2
   },
   "file_extension": ".py",
   "mimetype": "text/x-python",
   "name": "python",
   "nbconvert_exporter": "python",
   "pygments_lexer": "ipython2",
   "version": "2.7.6"
  }
 },
 "nbformat": 4,
 "nbformat_minor": 5
}
