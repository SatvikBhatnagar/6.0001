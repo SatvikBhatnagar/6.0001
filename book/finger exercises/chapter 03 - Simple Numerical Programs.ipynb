{
 "cells": [
  {
   "cell_type": "code",
   "id": "initial_id",
   "metadata": {
    "collapsed": true,
    "ExecuteTime": {
     "end_time": "2025-03-07T15:50:22.613417Z",
     "start_time": "2025-03-07T15:40:12.140039Z"
    }
   },
   "source": [
    "# Write a program that asks the user to enter an integer and prints two integers, root and pwr, such that 0 < pwr < 6 and root**pwr is equal to the integer entered by the user. If no such pair of integers exists, it should print a message to that effect.\n",
    "\n",
    "x = int(input(\"Enter an integer: \"))\n",
    "root = 1\n",
    "pwr = 1\n",
    "while root <= x:\n",
    "    pwr = 1\n",
    "    while pwr < 6:\n",
    "        if root**pwr == x:\n",
    "            break\n",
    "        pwr += 1\n",
    "    root += 1\n",
    "\n",
    "print(root, '**', pwr, '=', x**pwr) if root**pwr == x else print('no pairs of root and pwr exists such that root**pwr =', x)\n"
   ],
   "outputs": [
    {
     "name": "stdout",
     "output_type": "stream",
     "text": [
      "no pairs of root and pwr exists such that root**pwr = 502459875\n"
     ]
    }
   ],
   "execution_count": 4
  },
  {
   "metadata": {
    "ExecuteTime": {
     "end_time": "2025-03-08T05:05:46.090878Z",
     "start_time": "2025-03-08T05:05:46.080214Z"
    }
   },
   "cell_type": "code",
   "source": [
    "# Let s be a string that contains a sequence of decimal number separated by commas, e.g., s = '1.23,2.4,3.123'. Write a program that prints the sum of the number in s.\n",
    "\n",
    "s = '1.23,2.4,3.123'\n",
    "total = 0\n",
    "temp = ''\n",
    "for i in s:\n",
    "    if i in '0123456789':\n",
    "        temp = temp + i\n",
    "    elif i == '.':\n",
    "        temp = temp + i\n",
    "    else:\n",
    "        total = total + float(temp)\n",
    "        temp = ''\n",
    "total = total + float(temp)\n",
    "print(total)"
   ],
   "id": "6014ea61cd2ef1dd",
   "outputs": [
    {
     "name": "stdout",
     "output_type": "stream",
     "text": [
      "6.753\n"
     ]
    }
   ],
   "execution_count": 10
  },
  {
   "metadata": {
    "ExecuteTime": {
     "end_time": "2025-03-08T05:33:41.395595Z",
     "start_time": "2025-03-08T05:33:41.389449Z"
    }
   },
   "cell_type": "code",
   "source": [
    "# What would have to be changed to make the code of 'Bisection search to approximate square root' work for finding an approximation to the cube root of both negative and positive numbers?\n",
    "# Using bisection search to approximate square root\n",
    "x = -58201641\n",
    "epsilon = 0.001\n",
    "numGuesses = 0\n",
    "low = 0.0\n",
    "high = max(1.0,abs(x))\n",
    "ans = (high+low)/2.0\n",
    "while abs(ans**3 - abs(x)) >= epsilon:\n",
    "    print('low = ', low, 'high = ', high, 'ans = ', ans)\n",
    "    numGuesses += 1\n",
    "    if ans**3 < abs(x):\n",
    "        low = ans\n",
    "    else:\n",
    "        high = ans\n",
    "    ans = (high+low)/2.0\n",
    "print('numGuesses:', numGuesses)\n",
    "if x < 0:\n",
    "    print(-ans, 'is close to cube root of', x)\n",
    "else:\n",
    "    print(ans, 'is close to cube root of', x)"
   ],
   "id": "da9b1a60f28ad9a6",
   "outputs": [
    {
     "name": "stdout",
     "output_type": "stream",
     "text": [
      "low =  0.0 high =  58201641 ans =  29100820.5\n",
      "low =  0.0 high =  29100820.5 ans =  14550410.25\n",
      "low =  0.0 high =  14550410.25 ans =  7275205.125\n",
      "low =  0.0 high =  7275205.125 ans =  3637602.5625\n",
      "low =  0.0 high =  3637602.5625 ans =  1818801.28125\n",
      "low =  0.0 high =  1818801.28125 ans =  909400.640625\n",
      "low =  0.0 high =  909400.640625 ans =  454700.3203125\n",
      "low =  0.0 high =  454700.3203125 ans =  227350.16015625\n",
      "low =  0.0 high =  227350.16015625 ans =  113675.080078125\n",
      "low =  0.0 high =  113675.080078125 ans =  56837.5400390625\n",
      "low =  0.0 high =  56837.5400390625 ans =  28418.77001953125\n",
      "low =  0.0 high =  28418.77001953125 ans =  14209.385009765625\n",
      "low =  0.0 high =  14209.385009765625 ans =  7104.6925048828125\n",
      "low =  0.0 high =  7104.6925048828125 ans =  3552.3462524414062\n",
      "low =  0.0 high =  3552.3462524414062 ans =  1776.1731262207031\n",
      "low =  0.0 high =  1776.1731262207031 ans =  888.0865631103516\n",
      "low =  0.0 high =  888.0865631103516 ans =  444.0432815551758\n",
      "low =  0.0 high =  444.0432815551758 ans =  222.0216407775879\n",
      "low =  222.0216407775879 high =  444.0432815551758 ans =  333.03246116638184\n",
      "low =  333.03246116638184 high =  444.0432815551758 ans =  388.5378713607788\n",
      "low =  333.03246116638184 high =  388.5378713607788 ans =  360.7851662635803\n",
      "low =  360.7851662635803 high =  388.5378713607788 ans =  374.66151881217957\n",
      "low =  374.66151881217957 high =  388.5378713607788 ans =  381.5996950864792\n",
      "low =  381.5996950864792 high =  388.5378713607788 ans =  385.068783223629\n",
      "low =  385.068783223629 high =  388.5378713607788 ans =  386.8033272922039\n",
      "low =  386.8033272922039 high =  388.5378713607788 ans =  387.67059932649136\n",
      "low =  386.8033272922039 high =  387.67059932649136 ans =  387.23696330934763\n",
      "low =  387.23696330934763 high =  387.67059932649136 ans =  387.4537813179195\n",
      "low =  387.4537813179195 high =  387.67059932649136 ans =  387.5621903222054\n",
      "low =  387.4537813179195 high =  387.5621903222054 ans =  387.50798582006246\n",
      "low =  387.50798582006246 high =  387.5621903222054 ans =  387.53508807113394\n",
      "low =  387.53508807113394 high =  387.5621903222054 ans =  387.5486391966697\n",
      "low =  387.53508807113394 high =  387.5486391966697 ans =  387.5418636339018\n",
      "low =  387.53508807113394 high =  387.5418636339018 ans =  387.5384758525179\n",
      "low =  387.53508807113394 high =  387.5384758525179 ans =  387.5367819618259\n",
      "low =  387.53508807113394 high =  387.5367819618259 ans =  387.5359350164799\n",
      "low =  387.53508807113394 high =  387.5359350164799 ans =  387.53551154380693\n",
      "low =  387.53551154380693 high =  387.5359350164799 ans =  387.53572328014343\n",
      "low =  387.53572328014343 high =  387.5359350164799 ans =  387.5358291483117\n",
      "low =  387.53572328014343 high =  387.5358291483117 ans =  387.53577621422755\n",
      "low =  387.53572328014343 high =  387.53577621422755 ans =  387.5357497471855\n",
      "low =  387.53572328014343 high =  387.5357497471855 ans =  387.53573651366446\n",
      "low =  387.53572328014343 high =  387.53573651366446 ans =  387.53572989690394\n",
      "low =  387.53572328014343 high =  387.53572989690394 ans =  387.5357265885237\n",
      "low =  387.53572328014343 high =  387.5357265885237 ans =  387.53572493433353\n",
      "low =  387.53572328014343 high =  387.53572493433353 ans =  387.5357241072385\n",
      "low =  387.5357241072385 high =  387.53572493433353 ans =  387.535724520786\n",
      "low =  387.5357241072385 high =  387.535724520786 ans =  387.5357243140122\n",
      "numGuesses: 48\n",
      "-387.53572421062535 is close to cube root of -58201641\n"
     ]
    }
   ],
   "execution_count": 15
  },
  {
   "metadata": {
    "ExecuteTime": {
     "end_time": "2025-03-08T07:55:33.461257Z",
     "start_time": "2025-03-08T07:55:33.447007Z"
    }
   },
   "cell_type": "code",
   "source": [
    "# Add some code to the implementation of Newton-Raphson that keeps track  of the number of iterations used to find the root. Use that code as part of a program that compares the efficiency of Newton-Raphson and bisection search.\n",
    "\n",
    "# Implementation of Newton-Raphson method\n",
    "# Find x such that x**2 -24 is within epsilon of 0\n",
    "epsilon = 0.01\n",
    "k = 24.0\n",
    "guess = k/2.0\n",
    "numGuesses = 0\n",
    "while abs(guess*guess - k) >= epsilon:\n",
    "    guess = guess - (((guess**2) - k) / (2*guess))\n",
    "    numGuesses += 1\n",
    "print('Newton-Raphson method-----')\n",
    "print('numGuesses from Newton-Raphson method:', numGuesses)\n",
    "print('Square root of', k, '=', guess,)\n",
    "\n",
    "# Using bisection search to approximate square root\n",
    "x = 24.0\n",
    "epsilon = 0.01\n",
    "numGuesses = 0\n",
    "low = 0.0\n",
    "high = max(1.0,x)\n",
    "ans = (high+low)/2.0\n",
    "while abs(ans**2 - x) >= epsilon:\n",
    "    numGuesses += 1\n",
    "    if ans**2 < x:\n",
    "        low = ans\n",
    "    else:\n",
    "        high = ans\n",
    "    ans = (high+low)/2.0\n",
    "print('\\nBisection Method-----')\n",
    "print('numGuesses from Bisection Search:', numGuesses)\n",
    "# print(ans, 'is close to square root of', x)\n",
    "print('Square root of', k, 'is about', guess)"
   ],
   "id": "4d3f6d8b5c2904b2",
   "outputs": [
    {
     "name": "stdout",
     "output_type": "stream",
     "text": [
      "Newton-Raphson method-----\n",
      "numGuesses from Newton-Raphson method: 4\n",
      "Square root of 24.0 = 4.8989887432139305\n",
      "\n",
      "Bisection Method-----\n",
      "numGuesses from Bisection Search: 9\n",
      "Square root of 24.0 is about 4.8989887432139305\n"
     ]
    }
   ],
   "execution_count": 18
  },
  {
   "metadata": {},
   "cell_type": "code",
   "outputs": [],
   "execution_count": null,
   "source": "",
   "id": "ae76543b46a1b338"
  }
 ],
 "metadata": {
  "kernelspec": {
   "display_name": "Python 3",
   "language": "python",
   "name": "python3"
  },
  "language_info": {
   "codemirror_mode": {
    "name": "ipython",
    "version": 2
   },
   "file_extension": ".py",
   "mimetype": "text/x-python",
   "name": "python",
   "nbconvert_exporter": "python",
   "pygments_lexer": "ipython2",
   "version": "2.7.6"
  }
 },
 "nbformat": 4,
 "nbformat_minor": 5
}
