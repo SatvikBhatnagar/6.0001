{
 "cells": [
  {
   "cell_type": "code",
   "id": "initial_id",
   "metadata": {
    "collapsed": true,
    "ExecuteTime": {
     "end_time": "2025-03-08T08:10:06.050351Z",
     "start_time": "2025-03-08T08:10:06.037280Z"
    }
   },
   "source": [
    "# Write a function isIn that accepts two strings as arguments and returns True if either string occurs anywhere in the other, and False otherwise.\n",
    "\n",
    "def isIn(a,b):\n",
    "    if a in b or b in a:\n",
    "        return True\n",
    "    else: return False\n",
    "\n",
    "isIn('The Fault in Our Stars', 'Currently reading the book The Fault in Our Stars')"
   ],
   "outputs": [
    {
     "data": {
      "text/plain": [
       "True"
      ]
     },
     "execution_count": 3,
     "metadata": {},
     "output_type": "execute_result"
    }
   ],
   "execution_count": 3
  },
  {
   "metadata": {
    "ExecuteTime": {
     "end_time": "2025-03-12T16:09:06.696926Z",
     "start_time": "2025-03-12T16:09:06.685413Z"
    }
   },
   "cell_type": "code",
   "source": [
    "# When the implementation of fib is used to compute fib(5), how many times does it compute the value of fib(2) on the way to computing fib(5)?\n",
    "\n",
    "def fib(n):\n",
    "    \"\"\"Assumes n int >= 0\n",
    "        Returns Fibonacci of n\"\"\"\n",
    "    global counter\n",
    "    if n == 2:\n",
    "        counter += 1\n",
    "    if n == 0 or n == 1:\n",
    "        return 1\n",
    "    else:\n",
    "        return fib(n-1) + fib(n-2)\n",
    "\n",
    "counter = 0\n",
    "fib(5)\n",
    "print(counter)"
   ],
   "id": "154e0400c14f3935",
   "outputs": [
    {
     "name": "stdout",
     "output_type": "stream",
     "text": [
      "3\n"
     ]
    }
   ],
   "execution_count": 7
  },
  {
   "metadata": {},
   "cell_type": "code",
   "outputs": [],
   "execution_count": null,
   "source": "",
   "id": "cfc56ca63cdb975e"
  }
 ],
 "metadata": {
  "kernelspec": {
   "display_name": "Python 3 (ipykernel)",
   "language": "python",
   "name": "python3"
  },
  "language_info": {
   "codemirror_mode": {
    "name": "ipython",
    "version": 2
   },
   "file_extension": ".py",
   "mimetype": "text/x-python",
   "name": "python",
   "nbconvert_exporter": "python",
   "pygments_lexer": "ipython2",
   "version": "2.7.6"
  }
 },
 "nbformat": 4,
 "nbformat_minor": 5
}
